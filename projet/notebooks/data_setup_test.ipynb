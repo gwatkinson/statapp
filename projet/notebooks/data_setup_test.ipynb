{
 "cells": [
  {
   "cell_type": "code",
   "execution_count": 2,
   "metadata": {},
   "outputs": [],
   "source": [
    "import sys\n",
    "sys.path.append('../')"
   ]
  },
  {
   "cell_type": "code",
   "execution_count": 3,
   "id": "08b6bed5-2b3f-4fa5-adc0-a9fb7dbdcf63",
   "metadata": {},
   "outputs": [],
   "source": [
    "import data_setup as ds"
   ]
  },
  {
   "cell_type": "code",
   "execution_count": 5,
   "metadata": {},
   "outputs": [
    {
     "output_type": "stream",
     "name": "stdout",
     "text": [
      "(firm_cites, patent_cites, patent_data, patent_distribution)\n"
     ]
    }
   ],
   "source": [
    "data = ds.load_derived(path=\"../../data/\")"
   ]
  },
  {
   "cell_type": "code",
   "execution_count": 13,
   "id": "ee52124a-d1f0-422d-a425-a6105ec0ff7b",
   "metadata": {},
   "outputs": [],
   "source": [
    "data_firm_level, patents_firm_merge, cites = ds.load_data(dfs=['data_firm_level', 'patents_firm_merge', 'cites'], path=\"../../data/\")"
   ]
  },
  {
   "cell_type": "code",
   "execution_count": 22,
   "id": "cadd9476-9b1d-49af-8c5b-663ac6d1da95",
   "metadata": {},
   "outputs": [],
   "source": [
    "format = ds.format_patent_data(\n",
    "    patents_firm_merge, \n",
    "    keep=['index', 'patnum', 'fdate', 'idate', 'pdate', 'permno', 'patent_class',\n",
    "    'subclass', 'ncites', 'xi', 'year', 'Npats', 'Tcw', 'Tsm', 'tcw', 'tsm'],\n",
    "    date_cols=['idate'],\n",
    "    save=False\n",
    "    )"
   ]
  },
  {
   "cell_type": "code",
   "execution_count": 35,
   "metadata": {},
   "outputs": [
    {
     "output_type": "stream",
     "name": "stdout",
     "text": [
      "<class 'pandas.core.frame.DataFrame'>\nInt64Index: 1801306 entries, 0 to 1844880\nData columns (total 16 columns):\n #   Column        Non-Null Count    Dtype         \n---  ------        --------------    -----         \n 0   index         1801306 non-null  int32         \n 1   patnum        1801306 non-null  int32         \n 2   fdate         1801306 non-null  object        \n 3   idate         1801306 non-null  datetime64[ns]\n 4   pdate         1801306 non-null  object        \n 5   permno        1801306 non-null  float64       \n 6   patent_class  1801306 non-null  int32         \n 7   subclass      1801306 non-null  object        \n 8   ncites        1801306 non-null  float64       \n 9   xi            1801306 non-null  float64       \n 10  year          1801306 non-null  int32         \n 11  Npats         1801306 non-null  int32         \n 12  Tcw           1801306 non-null  float64       \n 13  Tsm           1801306 non-null  float64       \n 14  tcw           1635631 non-null  float64       \n 15  tsm           1635631 non-null  float64       \ndtypes: datetime64[ns](1), float64(7), int32(5), object(3)\nmemory usage: 263.8+ MB\n"
     ]
    }
   ],
   "source": [
    "format.info(verbose=True, show_counts=True)"
   ]
  },
  {
   "cell_type": "code",
   "execution_count": 29,
   "metadata": {},
   "outputs": [
    {
     "output_type": "execute_result",
     "data": {
      "text/plain": [
       "         year   permno        xi  Npats        Tcw       Tsm  patent_class\n",
       "0        1926  10006.0  0.046886     10  18.980768  0.375693           403\n",
       "1        1926  10006.0  0.031358     10  18.980768  0.375693            74\n",
       "2        1926  10006.0  0.046886     10  18.980768  0.375693           295\n",
       "3        1926  10006.0  0.046886     10  18.980768  0.375693           164\n",
       "4        1926  10006.0  0.046886     10  18.980768  0.375693           267\n",
       "...       ...      ...       ...    ...        ...       ...           ...\n",
       "1844876  1998  93236.0  0.107588      1   2.480992  0.107588           435\n",
       "1844877  1985  93252.0  0.141288      1   2.896310  0.141288           126\n",
       "1844878  1989  93252.0  0.092077      1   1.415194  0.092077           126\n",
       "1844879  1986  93287.0  0.457411      2   4.185905  0.830930           324\n",
       "1844880  1986  93287.0  0.373519      2   4.185905  0.830930           193\n",
       "\n",
       "[1801306 rows x 7 columns]"
      ],
      "text/html": "<div>\n<style scoped>\n    .dataframe tbody tr th:only-of-type {\n        vertical-align: middle;\n    }\n\n    .dataframe tbody tr th {\n        vertical-align: top;\n    }\n\n    .dataframe thead th {\n        text-align: right;\n    }\n</style>\n<table border=\"1\" class=\"dataframe\">\n  <thead>\n    <tr style=\"text-align: right;\">\n      <th></th>\n      <th>year</th>\n      <th>permno</th>\n      <th>xi</th>\n      <th>Npats</th>\n      <th>Tcw</th>\n      <th>Tsm</th>\n      <th>patent_class</th>\n    </tr>\n  </thead>\n  <tbody>\n    <tr>\n      <th>0</th>\n      <td>1926</td>\n      <td>10006.0</td>\n      <td>0.046886</td>\n      <td>10</td>\n      <td>18.980768</td>\n      <td>0.375693</td>\n      <td>403</td>\n    </tr>\n    <tr>\n      <th>1</th>\n      <td>1926</td>\n      <td>10006.0</td>\n      <td>0.031358</td>\n      <td>10</td>\n      <td>18.980768</td>\n      <td>0.375693</td>\n      <td>74</td>\n    </tr>\n    <tr>\n      <th>2</th>\n      <td>1926</td>\n      <td>10006.0</td>\n      <td>0.046886</td>\n      <td>10</td>\n      <td>18.980768</td>\n      <td>0.375693</td>\n      <td>295</td>\n    </tr>\n    <tr>\n      <th>3</th>\n      <td>1926</td>\n      <td>10006.0</td>\n      <td>0.046886</td>\n      <td>10</td>\n      <td>18.980768</td>\n      <td>0.375693</td>\n      <td>164</td>\n    </tr>\n    <tr>\n      <th>4</th>\n      <td>1926</td>\n      <td>10006.0</td>\n      <td>0.046886</td>\n      <td>10</td>\n      <td>18.980768</td>\n      <td>0.375693</td>\n      <td>267</td>\n    </tr>\n    <tr>\n      <th>...</th>\n      <td>...</td>\n      <td>...</td>\n      <td>...</td>\n      <td>...</td>\n      <td>...</td>\n      <td>...</td>\n      <td>...</td>\n    </tr>\n    <tr>\n      <th>1844876</th>\n      <td>1998</td>\n      <td>93236.0</td>\n      <td>0.107588</td>\n      <td>1</td>\n      <td>2.480992</td>\n      <td>0.107588</td>\n      <td>435</td>\n    </tr>\n    <tr>\n      <th>1844877</th>\n      <td>1985</td>\n      <td>93252.0</td>\n      <td>0.141288</td>\n      <td>1</td>\n      <td>2.896310</td>\n      <td>0.141288</td>\n      <td>126</td>\n    </tr>\n    <tr>\n      <th>1844878</th>\n      <td>1989</td>\n      <td>93252.0</td>\n      <td>0.092077</td>\n      <td>1</td>\n      <td>1.415194</td>\n      <td>0.092077</td>\n      <td>126</td>\n    </tr>\n    <tr>\n      <th>1844879</th>\n      <td>1986</td>\n      <td>93287.0</td>\n      <td>0.457411</td>\n      <td>2</td>\n      <td>4.185905</td>\n      <td>0.830930</td>\n      <td>324</td>\n    </tr>\n    <tr>\n      <th>1844880</th>\n      <td>1986</td>\n      <td>93287.0</td>\n      <td>0.373519</td>\n      <td>2</td>\n      <td>4.185905</td>\n      <td>0.830930</td>\n      <td>193</td>\n    </tr>\n  </tbody>\n</table>\n<p>1801306 rows × 7 columns</p>\n</div>"
     },
     "metadata": {},
     "execution_count": 29
    }
   ],
   "source": [
    "format2 = ds.format_patent_data(patents_firm_merge, keep=['year', 'permno', 'xi', 'Npats', 'Tcw', 'Tsm', 'patent_class'], na_cols=['patent_class', 'xi'])"
   ]
  },
  {
   "cell_type": "code",
   "execution_count": null,
   "metadata": {},
   "outputs": [],
   "source": [
    "format2"
   ]
  },
  {
   "cell_type": "code",
   "execution_count": 32,
   "metadata": {},
   "outputs": [
    {
     "output_type": "execute_result",
     "data": {
      "text/plain": [
       "        permno  year        xi  Npats        Tcw       Tsm  pc_1  pc_2  pc_4  \\\n",
       "0      10006.0  1926  0.037569     10  18.980768  0.375693   0.0     0     0   \n",
       "1      10006.0  1927  0.047285     17  24.725719  0.803838   0.0     0     0   \n",
       "2      10006.0  1928  0.047869     15  34.932780  0.718042   0.0     0     0   \n",
       "3      10006.0  1929  0.060318     26  64.189056  1.568269   0.0     0     0   \n",
       "4      10006.0  1930  0.120779     16  35.434712  1.932471   0.0     0     0   \n",
       "...        ...   ...       ...    ...        ...       ...   ...   ...   ...   \n",
       "65322  93236.0  1997  0.279402      1   1.191137  0.279402   0.0     0     0   \n",
       "65323  93236.0  1998  0.107588      1   2.480992  0.107588   0.0     0     0   \n",
       "65324  93252.0  1985  0.141288      1   2.896310  0.141288   0.0     0     0   \n",
       "65325  93252.0  1989  0.092077      1   1.415194  0.092077   0.0     0     0   \n",
       "65326  93287.0  1986  0.415465      2   4.185905  0.830930   0.0     0     0   \n",
       "\n",
       "       pc_5  ...  pc_715  pc_716  pc_717  pc_718  pc_719  pc_720  pc_725  \\\n",
       "0         0  ...     0.0       0       0       0       0       0       0   \n",
       "1         1  ...     0.0       0       0       0       0       0       0   \n",
       "2         0  ...     0.0       0       0       0       0       0       0   \n",
       "3         0  ...     0.0       0       0       0       0       0       0   \n",
       "4         0  ...     0.0       0       0       0       0       0       0   \n",
       "...     ...  ...     ...     ...     ...     ...     ...     ...     ...   \n",
       "65322     0  ...     0.0       0       0       0       0       0       0   \n",
       "65323     0  ...     0.0       0       0       0       0       0       0   \n",
       "65324     0  ...     0.0       0       0       0       0       0       0   \n",
       "65325     0  ...     0.0       0       0       0       0       0       0   \n",
       "65326     0  ...     0.0       0       0       0       0       0       0   \n",
       "\n",
       "       pc_726  pc_800  pc_850  \n",
       "0           0     0.0       0  \n",
       "1           0     0.0       0  \n",
       "2           0     0.0       0  \n",
       "3           0     0.0       0  \n",
       "4           0     0.0       0  \n",
       "...       ...     ...     ...  \n",
       "65322       0     0.0       0  \n",
       "65323       0     0.0       0  \n",
       "65324       0     0.0       0  \n",
       "65325       0     0.0       0  \n",
       "65326       0     0.0       0  \n",
       "\n",
       "[65327 rows x 433 columns]"
      ],
      "text/html": "<div>\n<style scoped>\n    .dataframe tbody tr th:only-of-type {\n        vertical-align: middle;\n    }\n\n    .dataframe tbody tr th {\n        vertical-align: top;\n    }\n\n    .dataframe thead th {\n        text-align: right;\n    }\n</style>\n<table border=\"1\" class=\"dataframe\">\n  <thead>\n    <tr style=\"text-align: right;\">\n      <th></th>\n      <th>permno</th>\n      <th>year</th>\n      <th>xi</th>\n      <th>Npats</th>\n      <th>Tcw</th>\n      <th>Tsm</th>\n      <th>pc_1</th>\n      <th>pc_2</th>\n      <th>pc_4</th>\n      <th>pc_5</th>\n      <th>...</th>\n      <th>pc_715</th>\n      <th>pc_716</th>\n      <th>pc_717</th>\n      <th>pc_718</th>\n      <th>pc_719</th>\n      <th>pc_720</th>\n      <th>pc_725</th>\n      <th>pc_726</th>\n      <th>pc_800</th>\n      <th>pc_850</th>\n    </tr>\n  </thead>\n  <tbody>\n    <tr>\n      <th>0</th>\n      <td>10006.0</td>\n      <td>1926</td>\n      <td>0.037569</td>\n      <td>10</td>\n      <td>18.980768</td>\n      <td>0.375693</td>\n      <td>0.0</td>\n      <td>0</td>\n      <td>0</td>\n      <td>0</td>\n      <td>...</td>\n      <td>0.0</td>\n      <td>0</td>\n      <td>0</td>\n      <td>0</td>\n      <td>0</td>\n      <td>0</td>\n      <td>0</td>\n      <td>0</td>\n      <td>0.0</td>\n      <td>0</td>\n    </tr>\n    <tr>\n      <th>1</th>\n      <td>10006.0</td>\n      <td>1927</td>\n      <td>0.047285</td>\n      <td>17</td>\n      <td>24.725719</td>\n      <td>0.803838</td>\n      <td>0.0</td>\n      <td>0</td>\n      <td>0</td>\n      <td>1</td>\n      <td>...</td>\n      <td>0.0</td>\n      <td>0</td>\n      <td>0</td>\n      <td>0</td>\n      <td>0</td>\n      <td>0</td>\n      <td>0</td>\n      <td>0</td>\n      <td>0.0</td>\n      <td>0</td>\n    </tr>\n    <tr>\n      <th>2</th>\n      <td>10006.0</td>\n      <td>1928</td>\n      <td>0.047869</td>\n      <td>15</td>\n      <td>34.932780</td>\n      <td>0.718042</td>\n      <td>0.0</td>\n      <td>0</td>\n      <td>0</td>\n      <td>0</td>\n      <td>...</td>\n      <td>0.0</td>\n      <td>0</td>\n      <td>0</td>\n      <td>0</td>\n      <td>0</td>\n      <td>0</td>\n      <td>0</td>\n      <td>0</td>\n      <td>0.0</td>\n      <td>0</td>\n    </tr>\n    <tr>\n      <th>3</th>\n      <td>10006.0</td>\n      <td>1929</td>\n      <td>0.060318</td>\n      <td>26</td>\n      <td>64.189056</td>\n      <td>1.568269</td>\n      <td>0.0</td>\n      <td>0</td>\n      <td>0</td>\n      <td>0</td>\n      <td>...</td>\n      <td>0.0</td>\n      <td>0</td>\n      <td>0</td>\n      <td>0</td>\n      <td>0</td>\n      <td>0</td>\n      <td>0</td>\n      <td>0</td>\n      <td>0.0</td>\n      <td>0</td>\n    </tr>\n    <tr>\n      <th>4</th>\n      <td>10006.0</td>\n      <td>1930</td>\n      <td>0.120779</td>\n      <td>16</td>\n      <td>35.434712</td>\n      <td>1.932471</td>\n      <td>0.0</td>\n      <td>0</td>\n      <td>0</td>\n      <td>0</td>\n      <td>...</td>\n      <td>0.0</td>\n      <td>0</td>\n      <td>0</td>\n      <td>0</td>\n      <td>0</td>\n      <td>0</td>\n      <td>0</td>\n      <td>0</td>\n      <td>0.0</td>\n      <td>0</td>\n    </tr>\n    <tr>\n      <th>...</th>\n      <td>...</td>\n      <td>...</td>\n      <td>...</td>\n      <td>...</td>\n      <td>...</td>\n      <td>...</td>\n      <td>...</td>\n      <td>...</td>\n      <td>...</td>\n      <td>...</td>\n      <td>...</td>\n      <td>...</td>\n      <td>...</td>\n      <td>...</td>\n      <td>...</td>\n      <td>...</td>\n      <td>...</td>\n      <td>...</td>\n      <td>...</td>\n      <td>...</td>\n      <td>...</td>\n    </tr>\n    <tr>\n      <th>65322</th>\n      <td>93236.0</td>\n      <td>1997</td>\n      <td>0.279402</td>\n      <td>1</td>\n      <td>1.191137</td>\n      <td>0.279402</td>\n      <td>0.0</td>\n      <td>0</td>\n      <td>0</td>\n      <td>0</td>\n      <td>...</td>\n      <td>0.0</td>\n      <td>0</td>\n      <td>0</td>\n      <td>0</td>\n      <td>0</td>\n      <td>0</td>\n      <td>0</td>\n      <td>0</td>\n      <td>0.0</td>\n      <td>0</td>\n    </tr>\n    <tr>\n      <th>65323</th>\n      <td>93236.0</td>\n      <td>1998</td>\n      <td>0.107588</td>\n      <td>1</td>\n      <td>2.480992</td>\n      <td>0.107588</td>\n      <td>0.0</td>\n      <td>0</td>\n      <td>0</td>\n      <td>0</td>\n      <td>...</td>\n      <td>0.0</td>\n      <td>0</td>\n      <td>0</td>\n      <td>0</td>\n      <td>0</td>\n      <td>0</td>\n      <td>0</td>\n      <td>0</td>\n      <td>0.0</td>\n      <td>0</td>\n    </tr>\n    <tr>\n      <th>65324</th>\n      <td>93252.0</td>\n      <td>1985</td>\n      <td>0.141288</td>\n      <td>1</td>\n      <td>2.896310</td>\n      <td>0.141288</td>\n      <td>0.0</td>\n      <td>0</td>\n      <td>0</td>\n      <td>0</td>\n      <td>...</td>\n      <td>0.0</td>\n      <td>0</td>\n      <td>0</td>\n      <td>0</td>\n      <td>0</td>\n      <td>0</td>\n      <td>0</td>\n      <td>0</td>\n      <td>0.0</td>\n      <td>0</td>\n    </tr>\n    <tr>\n      <th>65325</th>\n      <td>93252.0</td>\n      <td>1989</td>\n      <td>0.092077</td>\n      <td>1</td>\n      <td>1.415194</td>\n      <td>0.092077</td>\n      <td>0.0</td>\n      <td>0</td>\n      <td>0</td>\n      <td>0</td>\n      <td>...</td>\n      <td>0.0</td>\n      <td>0</td>\n      <td>0</td>\n      <td>0</td>\n      <td>0</td>\n      <td>0</td>\n      <td>0</td>\n      <td>0</td>\n      <td>0.0</td>\n      <td>0</td>\n    </tr>\n    <tr>\n      <th>65326</th>\n      <td>93287.0</td>\n      <td>1986</td>\n      <td>0.415465</td>\n      <td>2</td>\n      <td>4.185905</td>\n      <td>0.830930</td>\n      <td>0.0</td>\n      <td>0</td>\n      <td>0</td>\n      <td>0</td>\n      <td>...</td>\n      <td>0.0</td>\n      <td>0</td>\n      <td>0</td>\n      <td>0</td>\n      <td>0</td>\n      <td>0</td>\n      <td>0</td>\n      <td>0</td>\n      <td>0.0</td>\n      <td>0</td>\n    </tr>\n  </tbody>\n</table>\n<p>65327 rows × 433 columns</p>\n</div>"
     },
     "metadata": {},
     "execution_count": 32
    }
   ],
   "source": [
    "dummies = ds.add_dumies(format2, extra={\"xi\": \"mean\", \"Npats\": \"first\", \"Tcw\": \"first\", \"Tsm\": \"first\"})\n",
    "dummies"
   ]
  },
  {
   "cell_type": "code",
   "execution_count": 36,
   "metadata": {},
   "outputs": [],
   "source": [
    "cites_permno = ds.add_permno(cites, patents_firm_merge, save=False)"
   ]
  },
  {
   "cell_type": "code",
   "execution_count": 37,
   "metadata": {},
   "outputs": [
    {
     "output_type": "execute_result",
     "data": {
      "text/plain": [
       "          citing    cited  citing_permno  cited_permno\n",
       "0        2415090  2274164        15480.0       15480.0\n",
       "1        2417395  2274164        15480.0       15480.0\n",
       "2        2538680  2274164        15480.0       15480.0\n",
       "3        2615677  2274164        15480.0       15480.0\n",
       "4        2415092  2143140        14525.0       14525.0\n",
       "...          ...      ...            ...           ...\n",
       "8417299  7827605  7356844        75607.0       75607.0\n",
       "8417300  7827605  7424735        75607.0       75607.0\n",
       "8417301  7827608  7356545        12490.0       10104.0\n",
       "8417302  7827611  7540031        77976.0       77976.0\n",
       "8417303  7827616  7599605        53727.0       51131.0\n",
       "\n",
       "[8417304 rows x 4 columns]"
      ],
      "text/html": "<div>\n<style scoped>\n    .dataframe tbody tr th:only-of-type {\n        vertical-align: middle;\n    }\n\n    .dataframe tbody tr th {\n        vertical-align: top;\n    }\n\n    .dataframe thead th {\n        text-align: right;\n    }\n</style>\n<table border=\"1\" class=\"dataframe\">\n  <thead>\n    <tr style=\"text-align: right;\">\n      <th></th>\n      <th>citing</th>\n      <th>cited</th>\n      <th>citing_permno</th>\n      <th>cited_permno</th>\n    </tr>\n  </thead>\n  <tbody>\n    <tr>\n      <th>0</th>\n      <td>2415090</td>\n      <td>2274164</td>\n      <td>15480.0</td>\n      <td>15480.0</td>\n    </tr>\n    <tr>\n      <th>1</th>\n      <td>2417395</td>\n      <td>2274164</td>\n      <td>15480.0</td>\n      <td>15480.0</td>\n    </tr>\n    <tr>\n      <th>2</th>\n      <td>2538680</td>\n      <td>2274164</td>\n      <td>15480.0</td>\n      <td>15480.0</td>\n    </tr>\n    <tr>\n      <th>3</th>\n      <td>2615677</td>\n      <td>2274164</td>\n      <td>15480.0</td>\n      <td>15480.0</td>\n    </tr>\n    <tr>\n      <th>4</th>\n      <td>2415092</td>\n      <td>2143140</td>\n      <td>14525.0</td>\n      <td>14525.0</td>\n    </tr>\n    <tr>\n      <th>...</th>\n      <td>...</td>\n      <td>...</td>\n      <td>...</td>\n      <td>...</td>\n    </tr>\n    <tr>\n      <th>8417299</th>\n      <td>7827605</td>\n      <td>7356844</td>\n      <td>75607.0</td>\n      <td>75607.0</td>\n    </tr>\n    <tr>\n      <th>8417300</th>\n      <td>7827605</td>\n      <td>7424735</td>\n      <td>75607.0</td>\n      <td>75607.0</td>\n    </tr>\n    <tr>\n      <th>8417301</th>\n      <td>7827608</td>\n      <td>7356545</td>\n      <td>12490.0</td>\n      <td>10104.0</td>\n    </tr>\n    <tr>\n      <th>8417302</th>\n      <td>7827611</td>\n      <td>7540031</td>\n      <td>77976.0</td>\n      <td>77976.0</td>\n    </tr>\n    <tr>\n      <th>8417303</th>\n      <td>7827616</td>\n      <td>7599605</td>\n      <td>53727.0</td>\n      <td>51131.0</td>\n    </tr>\n  </tbody>\n</table>\n<p>8417304 rows × 4 columns</p>\n</div>"
     },
     "metadata": {},
     "execution_count": 37
    }
   ],
   "source": [
    "cites_permno"
   ]
  },
  {
   "source": [
    "patent_cite = ds.patent_to_firm_cites(cites_permno)"
   ],
   "cell_type": "code",
   "metadata": {},
   "execution_count": 38,
   "outputs": []
  },
  {
   "cell_type": "code",
   "execution_count": 39,
   "metadata": {},
   "outputs": [
    {
     "output_type": "execute_result",
     "data": {
      "text/plain": [
       "        citing_permno  cited_permno  count      freq\n",
       "0             10006.0       10006.0    518  0.324155\n",
       "1             10006.0       10030.0      1  0.000626\n",
       "2             10006.0       10102.0      4  0.002503\n",
       "3             10006.0       10145.0      4  0.002503\n",
       "4             10006.0       10161.0      1  0.000626\n",
       "...               ...           ...    ...       ...\n",
       "342328        93252.0       10751.0      1  0.071429\n",
       "342329        93252.0       12060.0      4  0.285714\n",
       "342330        93252.0       22533.0      6  0.428571\n",
       "342331        93252.0       26454.0      1  0.071429\n",
       "342332        93252.0       26489.0      2  0.142857\n",
       "\n",
       "[342333 rows x 4 columns]"
      ],
      "text/html": "<div>\n<style scoped>\n    .dataframe tbody tr th:only-of-type {\n        vertical-align: middle;\n    }\n\n    .dataframe tbody tr th {\n        vertical-align: top;\n    }\n\n    .dataframe thead th {\n        text-align: right;\n    }\n</style>\n<table border=\"1\" class=\"dataframe\">\n  <thead>\n    <tr style=\"text-align: right;\">\n      <th></th>\n      <th>citing_permno</th>\n      <th>cited_permno</th>\n      <th>count</th>\n      <th>freq</th>\n    </tr>\n  </thead>\n  <tbody>\n    <tr>\n      <th>0</th>\n      <td>10006.0</td>\n      <td>10006.0</td>\n      <td>518</td>\n      <td>0.324155</td>\n    </tr>\n    <tr>\n      <th>1</th>\n      <td>10006.0</td>\n      <td>10030.0</td>\n      <td>1</td>\n      <td>0.000626</td>\n    </tr>\n    <tr>\n      <th>2</th>\n      <td>10006.0</td>\n      <td>10102.0</td>\n      <td>4</td>\n      <td>0.002503</td>\n    </tr>\n    <tr>\n      <th>3</th>\n      <td>10006.0</td>\n      <td>10145.0</td>\n      <td>4</td>\n      <td>0.002503</td>\n    </tr>\n    <tr>\n      <th>4</th>\n      <td>10006.0</td>\n      <td>10161.0</td>\n      <td>1</td>\n      <td>0.000626</td>\n    </tr>\n    <tr>\n      <th>...</th>\n      <td>...</td>\n      <td>...</td>\n      <td>...</td>\n      <td>...</td>\n    </tr>\n    <tr>\n      <th>342328</th>\n      <td>93252.0</td>\n      <td>10751.0</td>\n      <td>1</td>\n      <td>0.071429</td>\n    </tr>\n    <tr>\n      <th>342329</th>\n      <td>93252.0</td>\n      <td>12060.0</td>\n      <td>4</td>\n      <td>0.285714</td>\n    </tr>\n    <tr>\n      <th>342330</th>\n      <td>93252.0</td>\n      <td>22533.0</td>\n      <td>6</td>\n      <td>0.428571</td>\n    </tr>\n    <tr>\n      <th>342331</th>\n      <td>93252.0</td>\n      <td>26454.0</td>\n      <td>1</td>\n      <td>0.071429</td>\n    </tr>\n    <tr>\n      <th>342332</th>\n      <td>93252.0</td>\n      <td>26489.0</td>\n      <td>2</td>\n      <td>0.142857</td>\n    </tr>\n  </tbody>\n</table>\n<p>342333 rows × 4 columns</p>\n</div>"
     },
     "metadata": {},
     "execution_count": 39
    }
   ],
   "source": [
    "patent_cite"
   ]
  }
 ],
 "metadata": {
  "kernelspec": {
   "display_name": "Python 3",
   "language": "python",
   "name": "python3"
  },
  "language_info": {
   "codemirror_mode": {
    "name": "ipython",
    "version": 3
   },
   "file_extension": ".py",
   "mimetype": "text/x-python",
   "name": "python",
   "nbconvert_exporter": "python",
   "pygments_lexer": "ipython3",
   "version": "3.9.2"
  }
 },
 "nbformat": 4,
 "nbformat_minor": 5
}