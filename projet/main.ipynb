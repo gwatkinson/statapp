{
 "cells": [
  {
   "cell_type": "markdown",
   "metadata": {},
   "source": [
    "# Clustering Mapper"
   ]
  },
  {
   "cell_type": "markdown",
   "metadata": {},
   "source": [
    "## Étapes\n",
    "\n",
    "* Lisser par rapport au temps (B)\n",
    "* Passer au log\n",
    "* Enlever les index\n",
    "* Normaliser\n",
    "* ACP (JB)\n",
    "* km.cover(n = 20, cov = 0.5) (G)\n",
    "* km.map(ACP, data, cover)\n",
    "* Clustering (JB/M)\n",
    "* Créer le graph (M)"
   ]
  },
  {
   "cell_type": "markdown",
   "metadata": {},
   "source": [
    "## Importation des modules"
   ]
  },
  {
   "cell_type": "markdown",
   "metadata": {},
   "source": [
    "### Import des modules de bases"
   ]
  },
  {
   "cell_type": "code",
   "execution_count": 2,
   "metadata": {},
   "outputs": [],
   "source": [
    "import pandas as pd\n",
    "import numpy as np\n",
    "from matplotlib import pyplot as plt"
   ]
  },
  {
   "cell_type": "markdown",
   "metadata": {},
   "source": [
    "### Pour normaliser les données\n",
    "\n",
    "Separating out the features\n",
    "\n",
    "    x = df.loc[:, features].values\n",
    "\n",
    "Standardizing the features\n",
    "\n",
    "    x = StandardScaler().fit_transform(x)"
   ]
  },
  {
   "cell_type": "code",
   "execution_count": 1,
   "metadata": {},
   "outputs": [],
   "source": [
    "from sklearn.preprocessing import StandardScaler"
   ]
  },
  {
   "cell_type": "markdown",
   "metadata": {},
   "source": [
    "### Pour faire l'ACP\n",
    "\n",
    "Initialise la classe\n",
    "\n",
    "    pca = PCA(n_components=2)\n",
    "\n",
    "Fit le modèle\n",
    "\n",
    "    principalComponents = pca.fit_transform(x)\n",
    "\n",
    "Transforme en df pandas\n",
    "\n",
    "    principalDf = pd.DataFrame(data = principalComponents\n",
    "                , columns = ['principal component 1', 'principal component 2'])\n",
    "    finalDf = pd.concat([df[index]], principalDf, axis = 1)"
   ]
  },
  {
   "cell_type": "code",
   "execution_count": 1,
   "metadata": {},
   "outputs": [],
   "source": [
    "from sklearn.decomposition import PCA"
   ]
  },
  {
   "cell_type": "markdown",
   "metadata": {},
   "source": [
    "### Pour faire le clustering\n",
    "\n",
    "En utilisant sklearn :\n",
    "\n",
    "    model = AgglomerativeClustering(n_clusters=5, affinity='euclidean', linkage='single')\n",
    "    model.fit(X)\n",
    "    labels = model.labels_"
   ]
  },
  {
   "cell_type": "code",
   "execution_count": 1,
   "metadata": {},
   "outputs": [],
   "source": [
    "from sklearn.cluster import AgglomerativeClustering"
   ]
  },
  {
   "cell_type": "markdown",
   "metadata": {},
   "source": [
    "En utilisant scipy :\n",
    "\n",
    "    link = sch.linkage(y, method='single\", metric='...')\n",
    "    dendrogram = sch.dendrogram(link)\n",
    "\n",
    "Voir https://docs.scipy.org/doc/scipy/reference/generated/scipy.cluster.hierarchy.linkage.html"
   ]
  },
  {
   "cell_type": "code",
   "execution_count": 1,
   "metadata": {},
   "outputs": [],
   "source": [
    "import scipy.cluster.hierarchy as sch "
   ]
  },
  {
   "cell_type": "markdown",
   "metadata": {},
   "source": [
    "### Keppler Mapper"
   ]
  },
  {
   "cell_type": "code",
   "execution_count": 3,
   "metadata": {},
   "outputs": [],
   "source": [
    "import kmapper as km\r\n",
    "from kmapper.cover import Cover\r\n",
    "from kmapper import jupyter # Creates custom CSS full-size Jupyter screen"
   ]
  },
  {
   "cell_type": "markdown",
   "metadata": {},
   "source": [
    "## Chargement des données"
   ]
  },
  {
   "cell_type": "code",
   "execution_count": 8,
   "metadata": {},
   "outputs": [],
   "source": [
    "# data_firm_level = pd.read_stata(\"../data/Firm_patent/data_firm_level.dta\")\n",
    "# data_patent_level = pd.read_stata(\"../data/Patent_level_data/data_patent_level.dta\")\n",
    "# cites = pd.read_stata(\"../data/Patent_level_data/USPatent_1926-2010/cites/cites.dta\")\n",
    "# firm_innovation_v2 = pd.read_stata(\"../data/Patent_level_data/USPatent_1926-2010/firm_innovation/firm_innovation_v2.dta\")\n",
    "# patents_xi = pd.read_stata(\"../data/Patent_level_data/USPatent_1926-2010/patents_xi/patents_xi.dta\")\n",
    "# patent_values = pd.read_stata(\"../data/Patent_level_data/Patent_CRSP_match_1929-2017/patent_values/patent_values.dta\")\n",
    "# patents_firm_merge = pd.read_stata(\"../data/Firm_patent/patents_firm_merge.dta\")"
   ]
  },
  {
   "cell_type": "markdown",
   "metadata": {},
   "source": [
    "## Utilisation de la base merged"
   ]
  },
  {
   "cell_type": "markdown",
   "metadata": {},
   "source": [
    "### Récupération des données en dataframe pandas"
   ]
  },
  {
   "cell_type": "code",
   "execution_count": 4,
   "metadata": {},
   "outputs": [],
   "source": [
    "patents_firm_merge = pd.read_stata(\"../data/Firm_patent/patents_firm_merge.dta\")"
   ]
  },
  {
   "cell_type": "code",
   "execution_count": 9,
   "metadata": {},
   "outputs": [
    {
     "data": {
      "text/html": "<div>\n<style scoped>\n    .dataframe tbody tr th:only-of-type {\n        vertical-align: middle;\n    }\n\n    .dataframe tbody tr th {\n        vertical-align: top;\n    }\n\n    .dataframe thead th {\n        text-align: right;\n    }\n</style>\n<table border=\"1\" class=\"dataframe\">\n  <thead>\n    <tr style=\"text-align: right;\">\n      <th></th>\n      <th>index</th>\n      <th>patnum</th>\n      <th>fdate</th>\n      <th>idate</th>\n      <th>pdate</th>\n      <th>permno</th>\n      <th>patent_class</th>\n      <th>subclass</th>\n      <th>ncites</th>\n      <th>xi</th>\n      <th>year</th>\n      <th>Npats</th>\n      <th>Tcw</th>\n      <th>Tsm</th>\n      <th>tcw</th>\n      <th>tsm</th>\n      <th>_merge</th>\n    </tr>\n  </thead>\n  <tbody>\n    <tr>\n      <th>0</th>\n      <td>37352</td>\n      <td>1605417</td>\n      <td>10/23/1923</td>\n      <td>11/02/1926</td>\n      <td></td>\n      <td>10006.0</td>\n      <td>403.0</td>\n      <td>206000O</td>\n      <td>2.0</td>\n      <td>0.046886</td>\n      <td>1926</td>\n      <td>10</td>\n      <td>18.980768</td>\n      <td>0.375693</td>\n      <td>NaN</td>\n      <td>NaN</td>\n      <td>matched (3)</td>\n    </tr>\n    <tr>\n      <th>1</th>\n      <td>11188</td>\n      <td>1579234</td>\n      <td>05/14/1923</td>\n      <td>04/06/1926</td>\n      <td></td>\n      <td>10006.0</td>\n      <td>74.0</td>\n      <td>503000O</td>\n      <td>4.0</td>\n      <td>0.031358</td>\n      <td>1926</td>\n      <td>10</td>\n      <td>18.980768</td>\n      <td>0.375693</td>\n      <td>NaN</td>\n      <td>NaN</td>\n      <td>matched (3)</td>\n    </tr>\n    <tr>\n      <th>2</th>\n      <td>37345</td>\n      <td>1605410</td>\n      <td>04/09/1926</td>\n      <td>11/02/1926</td>\n      <td></td>\n      <td>10006.0</td>\n      <td>295.0</td>\n      <td>042000O</td>\n      <td>1.0</td>\n      <td>0.046886</td>\n      <td>1926</td>\n      <td>10</td>\n      <td>18.980768</td>\n      <td>0.375693</td>\n      <td>NaN</td>\n      <td>NaN</td>\n      <td>matched (3)</td>\n    </tr>\n    <tr>\n      <th>3</th>\n      <td>37377</td>\n      <td>1605442</td>\n      <td>03/24/1922</td>\n      <td>11/02/1926</td>\n      <td></td>\n      <td>10006.0</td>\n      <td>164.0</td>\n      <td>168000O</td>\n      <td>0.0</td>\n      <td>0.046886</td>\n      <td>1926</td>\n      <td>10</td>\n      <td>18.980768</td>\n      <td>0.375693</td>\n      <td>NaN</td>\n      <td>NaN</td>\n      <td>matched (3)</td>\n    </tr>\n    <tr>\n      <th>4</th>\n      <td>37350</td>\n      <td>1605415</td>\n      <td>01/22/1923</td>\n      <td>11/02/1926</td>\n      <td></td>\n      <td>10006.0</td>\n      <td>267.0</td>\n      <td>086000O</td>\n      <td>2.0</td>\n      <td>0.046886</td>\n      <td>1926</td>\n      <td>10</td>\n      <td>18.980768</td>\n      <td>0.375693</td>\n      <td>NaN</td>\n      <td>NaN</td>\n      <td>matched (3)</td>\n    </tr>\n  </tbody>\n</table>\n</div>",
      "text/plain": "   index   patnum       fdate       idate pdate   permno patent_class  \\\n0  37352  1605417  10/23/1923  11/02/1926        10006.0        403.0   \n1  11188  1579234  05/14/1923  04/06/1926        10006.0         74.0   \n2  37345  1605410  04/09/1926  11/02/1926        10006.0        295.0   \n3  37377  1605442  03/24/1922  11/02/1926        10006.0        164.0   \n4  37350  1605415  01/22/1923  11/02/1926        10006.0        267.0   \n\n  subclass  ncites        xi  year  Npats        Tcw       Tsm  tcw  tsm  \\\n0  206000O     2.0  0.046886  1926     10  18.980768  0.375693  NaN  NaN   \n1  503000O     4.0  0.031358  1926     10  18.980768  0.375693  NaN  NaN   \n2  042000O     1.0  0.046886  1926     10  18.980768  0.375693  NaN  NaN   \n3  168000O     0.0  0.046886  1926     10  18.980768  0.375693  NaN  NaN   \n4  086000O     2.0  0.046886  1926     10  18.980768  0.375693  NaN  NaN   \n\n        _merge  \n0  matched (3)  \n1  matched (3)  \n2  matched (3)  \n3  matched (3)  \n4  matched (3)  "
     },
     "execution_count": 9,
     "metadata": {},
     "output_type": "execute_result"
    }
   ],
   "source": [
    "patents_firm_merge.head()"
   ]
  },
  {
   "cell_type": "code",
   "execution_count": 11,
   "metadata": {},
   "outputs": [
    {
     "data": {
      "text/plain": [
       "index           1.000000\n",
       "patnum          1.000000\n",
       "fdate           1.000000\n",
       "idate           1.000000\n",
       "pdate           1.000000\n",
       "permno          1.000000\n",
       "patent_class    1.000000\n",
       "subclass        1.000000\n",
       "ncites          0.976691\n",
       "xi              0.976691\n",
       "year            1.000000\n",
       "Npats           1.000000\n",
       "Tcw             1.000000\n",
       "Tsm             1.000000\n",
       "tcw             0.904892\n",
       "tsm             0.904892\n",
       "_merge          1.000000\n",
       "dtype: float64"
      ]
     },
     "execution_count": 11,
     "metadata": {},
     "output_type": "execute_result"
    }
   ],
   "source": [
    "patents_firm_merge.count()/len(patents_firm_merge)"
   ]
  },
  {
   "cell_type": "markdown",
   "metadata": {},
   "source": [
    "### On garde les grandes entreprises"
   ]
  },
  {
   "cell_type": "code",
   "execution_count": 12,
   "metadata": {},
   "outputs": [
    {
     "data": {
      "text/html": "<div>\n<style scoped>\n    .dataframe tbody tr th:only-of-type {\n        vertical-align: middle;\n    }\n\n    .dataframe tbody tr th {\n        vertical-align: top;\n    }\n\n    .dataframe thead th {\n        text-align: right;\n    }\n</style>\n<table border=\"1\" class=\"dataframe\">\n  <thead>\n    <tr style=\"text-align: right;\">\n      <th></th>\n      <th>index</th>\n      <th>patnum</th>\n      <th>fdate</th>\n      <th>idate</th>\n      <th>pdate</th>\n      <th>permno</th>\n      <th>patent_class</th>\n      <th>subclass</th>\n      <th>ncites</th>\n      <th>xi</th>\n      <th>year</th>\n      <th>Npats</th>\n      <th>Tcw</th>\n      <th>Tsm</th>\n      <th>tcw</th>\n      <th>tsm</th>\n      <th>_merge</th>\n    </tr>\n  </thead>\n  <tbody>\n    <tr>\n      <th>328307</th>\n      <td>38913</td>\n      <td>1606979</td>\n      <td>04/03/1926</td>\n      <td>11/16/1926</td>\n      <td></td>\n      <td>12490.0</td>\n      <td>206.0</td>\n      <td>375000O</td>\n      <td>1.0</td>\n      <td>0.151648</td>\n      <td>1926</td>\n      <td>1</td>\n      <td>1.561298</td>\n      <td>0.151648</td>\n      <td>NaN</td>\n      <td>NaN</td>\n      <td>matched (3)</td>\n    </tr>\n    <tr>\n      <th>328308</th>\n      <td>78759</td>\n      <td>1646850</td>\n      <td>06/04/1925</td>\n      <td>10/25/1927</td>\n      <td></td>\n      <td>12490.0</td>\n      <td>279.0</td>\n      <td>051000O</td>\n      <td>1.0</td>\n      <td>0.268815</td>\n      <td>1927</td>\n      <td>2</td>\n      <td>3.655511</td>\n      <td>0.500838</td>\n      <td>NaN</td>\n      <td>NaN</td>\n      <td>matched (3)</td>\n    </tr>\n    <tr>\n      <th>328309</th>\n      <td>58785</td>\n      <td>1626871</td>\n      <td>07/09/1924</td>\n      <td>05/03/1927</td>\n      <td></td>\n      <td>12490.0</td>\n      <td>234.0</td>\n      <td>030000O</td>\n      <td>2.0</td>\n      <td>0.232024</td>\n      <td>1927</td>\n      <td>2</td>\n      <td>3.655511</td>\n      <td>0.500838</td>\n      <td>NaN</td>\n      <td>NaN</td>\n      <td>matched (3)</td>\n    </tr>\n    <tr>\n      <th>328310</th>\n      <td>104932</td>\n      <td>1673039</td>\n      <td>06/30/1926</td>\n      <td>06/12/1928</td>\n      <td></td>\n      <td>12490.0</td>\n      <td>407.0</td>\n      <td>064000O</td>\n      <td>5.0</td>\n      <td>0.379686</td>\n      <td>1928</td>\n      <td>3</td>\n      <td>6.232343</td>\n      <td>1.178278</td>\n      <td>NaN</td>\n      <td>NaN</td>\n      <td>matched (3)</td>\n    </tr>\n    <tr>\n      <th>328311</th>\n      <td>106553</td>\n      <td>1674660</td>\n      <td>04/17/1922</td>\n      <td>06/26/1928</td>\n      <td></td>\n      <td>12490.0</td>\n      <td>271.0</td>\n      <td>258050O</td>\n      <td>0.0</td>\n      <td>0.393123</td>\n      <td>1928</td>\n      <td>3</td>\n      <td>6.232343</td>\n      <td>1.178278</td>\n      <td>NaN</td>\n      <td>NaN</td>\n      <td>matched (3)</td>\n    </tr>\n    <tr>\n      <th>...</th>\n      <td>...</td>\n      <td>...</td>\n      <td>...</td>\n      <td>...</td>\n      <td>...</td>\n      <td>...</td>\n      <td>...</td>\n      <td>...</td>\n      <td>...</td>\n      <td>...</td>\n      <td>...</td>\n      <td>...</td>\n      <td>...</td>\n      <td>...</td>\n      <td>...</td>\n      <td>...</td>\n      <td>...</td>\n    </tr>\n    <tr>\n      <th>400802</th>\n      <td>6057276</td>\n      <td>7644291</td>\n      <td>12/30/2005</td>\n      <td>01/05/2010</td>\n      <td>07/05/2007</td>\n      <td>12490.0</td>\n      <td>713.0</td>\n      <td>300000O</td>\n      <td>0.0</td>\n      <td>7.441997</td>\n      <td>2010</td>\n      <td>5052</td>\n      <td>9143.233767</td>\n      <td>20864.188617</td>\n      <td>0.080591</td>\n      <td>0.183903</td>\n      <td>matched (3)</td>\n    </tr>\n    <tr>\n      <th>400803</th>\n      <td>6081856</td>\n      <td>7668905</td>\n      <td>12/01/2005</td>\n      <td>02/23/2010</td>\n      <td>03/08/2007</td>\n      <td>12490.0</td>\n      <td>709.0</td>\n      <td>203000O</td>\n      <td>0.0</td>\n      <td>3.712214</td>\n      <td>2010</td>\n      <td>5052</td>\n      <td>9143.233767</td>\n      <td>20864.188617</td>\n      <td>0.080591</td>\n      <td>0.183903</td>\n      <td>matched (3)</td>\n    </tr>\n    <tr>\n      <th>400804</th>\n      <td>6077671</td>\n      <td>7664711</td>\n      <td>12/16/2002</td>\n      <td>02/16/2010</td>\n      <td>06/17/2004</td>\n      <td>12490.0</td>\n      <td>705.0</td>\n      <td>412000O</td>\n      <td>1.0</td>\n      <td>18.711040</td>\n      <td>2010</td>\n      <td>5052</td>\n      <td>9143.233767</td>\n      <td>20864.188617</td>\n      <td>0.080591</td>\n      <td>0.183903</td>\n      <td>matched (3)</td>\n    </tr>\n    <tr>\n      <th>400805</th>\n      <td>6102662</td>\n      <td>7689774</td>\n      <td>04/06/2007</td>\n      <td>03/30/2010</td>\n      <td>10/09/2008</td>\n      <td>12490.0</td>\n      <td>711.0</td>\n      <td>137000O</td>\n      <td>0.0</td>\n      <td>3.650043</td>\n      <td>2010</td>\n      <td>5052</td>\n      <td>9143.233767</td>\n      <td>20864.188617</td>\n      <td>0.080591</td>\n      <td>0.183903</td>\n      <td>matched (3)</td>\n    </tr>\n    <tr>\n      <th>400806</th>\n      <td>6160698</td>\n      <td>7748006</td>\n      <td>06/02/2008</td>\n      <td>06/29/2010</td>\n      <td>09/25/2008</td>\n      <td>12490.0</td>\n      <td>718.0</td>\n      <td>104000O</td>\n      <td>0.0</td>\n      <td>4.994732</td>\n      <td>2010</td>\n      <td>5052</td>\n      <td>9143.233767</td>\n      <td>20864.188617</td>\n      <td>0.080591</td>\n      <td>0.183903</td>\n      <td>matched (3)</td>\n    </tr>\n  </tbody>\n</table>\n<p>72500 rows × 17 columns</p>\n</div>",
      "text/plain": [
       "          index   patnum       fdate       idate       pdate   permno  \\\n",
       "328307    38913  1606979  04/03/1926  11/16/1926              12490.0   \n",
       "328308    78759  1646850  06/04/1925  10/25/1927              12490.0   \n",
       "328309    58785  1626871  07/09/1924  05/03/1927              12490.0   \n",
       "328310   104932  1673039  06/30/1926  06/12/1928              12490.0   \n",
       "328311   106553  1674660  04/17/1922  06/26/1928              12490.0   \n",
       "...         ...      ...         ...         ...         ...      ...   \n",
       "400802  6057276  7644291  12/30/2005  01/05/2010  07/05/2007  12490.0   \n",
       "400803  6081856  7668905  12/01/2005  02/23/2010  03/08/2007  12490.0   \n",
       "400804  6077671  7664711  12/16/2002  02/16/2010  06/17/2004  12490.0   \n",
       "400805  6102662  7689774  04/06/2007  03/30/2010  10/09/2008  12490.0   \n",
       "400806  6160698  7748006  06/02/2008  06/29/2010  09/25/2008  12490.0   \n",
       "\n",
       "       patent_class subclass  ncites         xi  year  Npats          Tcw  \\\n",
       "328307        206.0  375000O     1.0   0.151648  1926      1     1.561298   \n",
       "328308        279.0  051000O     1.0   0.268815  1927      2     3.655511   \n",
       "328309        234.0  030000O     2.0   0.232024  1927      2     3.655511   \n",
       "328310        407.0  064000O     5.0   0.379686  1928      3     6.232343   \n",
       "328311        271.0  258050O     0.0   0.393123  1928      3     6.232343   \n",
       "...             ...      ...     ...        ...   ...    ...          ...   \n",
       "400802        713.0  300000O     0.0   7.441997  2010   5052  9143.233767   \n",
       "400803        709.0  203000O     0.0   3.712214  2010   5052  9143.233767   \n",
       "400804        705.0  412000O     1.0  18.711040  2010   5052  9143.233767   \n",
       "400805        711.0  137000O     0.0   3.650043  2010   5052  9143.233767   \n",
       "400806        718.0  104000O     0.0   4.994732  2010   5052  9143.233767   \n",
       "\n",
       "                 Tsm       tcw       tsm       _merge  \n",
       "328307      0.151648       NaN       NaN  matched (3)  \n",
       "328308      0.500838       NaN       NaN  matched (3)  \n",
       "328309      0.500838       NaN       NaN  matched (3)  \n",
       "328310      1.178278       NaN       NaN  matched (3)  \n",
       "328311      1.178278       NaN       NaN  matched (3)  \n",
       "...              ...       ...       ...          ...  \n",
       "400802  20864.188617  0.080591  0.183903  matched (3)  \n",
       "400803  20864.188617  0.080591  0.183903  matched (3)  \n",
       "400804  20864.188617  0.080591  0.183903  matched (3)  \n",
       "400805  20864.188617  0.080591  0.183903  matched (3)  \n",
       "400806  20864.188617  0.080591  0.183903  matched (3)  \n",
       "\n",
       "[72500 rows x 17 columns]"
      ]
     },
     "execution_count": 12,
     "metadata": {},
     "output_type": "execute_result"
    }
   ],
   "source": [
    "patents_firm_merge[patents_firm_merge[\"permno\"]==12490.0]"
   ]
  },
  {
   "cell_type": "code",
   "execution_count": 13,
   "metadata": {},
   "outputs": [
    {
     "data": {
      "text/plain": [
       "6995"
      ]
     },
     "execution_count": 13,
     "metadata": {},
     "output_type": "execute_result"
    }
   ],
   "source": [
    "patents_firm_merge[\"permno\"].nunique()"
   ]
  },
  {
   "cell_type": "code",
   "execution_count": 14,
   "metadata": {},
   "outputs": [],
   "source": [
    "big_firms = patents_firm_merge.groupby(\"permno\"\n",
    ")[\"Npats\"\n",
    "].mean(\n",
    ").sort_values(ascending=False\n",
    ").iloc[10:13]"
   ]
  },
  {
   "cell_type": "code",
   "execution_count": 15,
   "metadata": {},
   "outputs": [],
   "source": [
    "big_firms_index = big_firms.reset_index()[\"permno\"].values"
   ]
  },
  {
   "cell_type": "code",
   "execution_count": 16,
   "metadata": {},
   "outputs": [],
   "source": [
    "reduced_data = patents_firm_merge[patents_firm_merge[\"permno\"].isin(big_firms_index)]"
   ]
  },
  {
   "cell_type": "code",
   "execution_count": 17,
   "metadata": {},
   "outputs": [
    {
     "data": {
      "text/html": "<div>\n<style scoped>\n    .dataframe tbody tr th:only-of-type {\n        vertical-align: middle;\n    }\n\n    .dataframe tbody tr th {\n        vertical-align: top;\n    }\n\n    .dataframe thead th {\n        text-align: right;\n    }\n</style>\n<table border=\"1\" class=\"dataframe\">\n  <thead>\n    <tr style=\"text-align: right;\">\n      <th></th>\n      <th>index</th>\n      <th>patnum</th>\n      <th>fdate</th>\n      <th>idate</th>\n      <th>pdate</th>\n      <th>permno</th>\n      <th>patent_class</th>\n      <th>subclass</th>\n      <th>ncites</th>\n      <th>xi</th>\n      <th>year</th>\n      <th>Npats</th>\n      <th>Tcw</th>\n      <th>Tsm</th>\n      <th>tcw</th>\n      <th>tsm</th>\n      <th>_merge</th>\n    </tr>\n  </thead>\n  <tbody>\n    <tr>\n      <th>1104029</th>\n      <td>1440696</td>\n      <td>3010070</td>\n      <td>05/31/1960</td>\n      <td>11/21/1961</td>\n      <td></td>\n      <td>27828.0</td>\n      <td>327.0</td>\n      <td>134000O</td>\n      <td>3.0</td>\n      <td>1.580217</td>\n      <td>1961</td>\n      <td>11</td>\n      <td>35.180475</td>\n      <td>30.088601</td>\n      <td>NaN</td>\n      <td>NaN</td>\n      <td>matched (3)</td>\n    </tr>\n    <tr>\n      <th>1104030</th>\n      <td>1424641</td>\n      <td>2994012</td>\n      <td>03/17/1960</td>\n      <td>07/25/1961</td>\n      <td></td>\n      <td>27828.0</td>\n      <td>315.0</td>\n      <td>206000O</td>\n      <td>2.0</td>\n      <td>3.676502</td>\n      <td>1961</td>\n      <td>11</td>\n      <td>35.180475</td>\n      <td>30.088601</td>\n      <td>NaN</td>\n      <td>NaN</td>\n      <td>matched (3)</td>\n    </tr>\n    <tr>\n      <th>1104031</th>\n      <td>1441755</td>\n      <td>3011129</td>\n      <td>08/10/1959</td>\n      <td>11/28/1961</td>\n      <td></td>\n      <td>27828.0</td>\n      <td>315.0</td>\n      <td>076000O</td>\n      <td>33.0</td>\n      <td>3.569988</td>\n      <td>1961</td>\n      <td>11</td>\n      <td>35.180475</td>\n      <td>30.088601</td>\n      <td>NaN</td>\n      <td>NaN</td>\n      <td>matched (3)</td>\n    </tr>\n    <tr>\n      <th>1104032</th>\n      <td>1431758</td>\n      <td>3001131</td>\n      <td>06/30/1958</td>\n      <td>09/19/1961</td>\n      <td></td>\n      <td>27828.0</td>\n      <td>324.0</td>\n      <td>074000O</td>\n      <td>8.0</td>\n      <td>2.846502</td>\n      <td>1961</td>\n      <td>11</td>\n      <td>35.180475</td>\n      <td>30.088601</td>\n      <td>NaN</td>\n      <td>NaN</td>\n      <td>matched (3)</td>\n    </tr>\n    <tr>\n      <th>1104033</th>\n      <td>1432778</td>\n      <td>3002151</td>\n      <td>06/18/1957</td>\n      <td>09/26/1961</td>\n      <td></td>\n      <td>27828.0</td>\n      <td>327.0</td>\n      <td>176000O</td>\n      <td>7.0</td>\n      <td>2.763990</td>\n      <td>1961</td>\n      <td>11</td>\n      <td>35.180475</td>\n      <td>30.088601</td>\n      <td>NaN</td>\n      <td>NaN</td>\n      <td>matched (3)</td>\n    </tr>\n    <tr>\n      <th>...</th>\n      <td>...</td>\n      <td>...</td>\n      <td>...</td>\n      <td>...</td>\n      <td>...</td>\n      <td>...</td>\n      <td>...</td>\n      <td>...</td>\n      <td>...</td>\n      <td>...</td>\n      <td>...</td>\n      <td>...</td>\n      <td>...</td>\n      <td>...</td>\n      <td>...</td>\n      <td>...</td>\n      <td>...</td>\n    </tr>\n    <tr>\n      <th>1815296</th>\n      <td>6145440</td>\n      <td>7732709</td>\n      <td>07/16/2007</td>\n      <td>06/08/2010</td>\n      <td>01/24/2008</td>\n      <td>88935.0</td>\n      <td>174.0</td>\n      <td>050000O</td>\n      <td>2.0</td>\n      <td>1.675647</td>\n      <td>2010</td>\n      <td>1060</td>\n      <td>1794.248698</td>\n      <td>1190.591984</td>\n      <td>0.012829</td>\n      <td>0.008513</td>\n      <td>matched (3)</td>\n    </tr>\n    <tr>\n      <th>1815297</th>\n      <td>6222712</td>\n      <td>7810186</td>\n      <td>09/20/2005</td>\n      <td>10/12/2010</td>\n      <td>05/01/2008</td>\n      <td>88935.0</td>\n      <td>5.0</td>\n      <td>601000O</td>\n      <td>0.0</td>\n      <td>1.581025</td>\n      <td>2010</td>\n      <td>1060</td>\n      <td>1794.248698</td>\n      <td>1190.591984</td>\n      <td>0.012829</td>\n      <td>0.008513</td>\n      <td>matched (3)</td>\n    </tr>\n    <tr>\n      <th>1815298</th>\n      <td>6116429</td>\n      <td>7703589</td>\n      <td>03/22/2006</td>\n      <td>04/27/2010</td>\n      <td>05/14/2009</td>\n      <td>88935.0</td>\n      <td>191.0</td>\n      <td>032000O</td>\n      <td>0.0</td>\n      <td>0.862609</td>\n      <td>2010</td>\n      <td>1060</td>\n      <td>1794.248698</td>\n      <td>1190.591984</td>\n      <td>0.012829</td>\n      <td>0.008513</td>\n      <td>matched (3)</td>\n    </tr>\n    <tr>\n      <th>1815299</th>\n      <td>6213582</td>\n      <td>7801038</td>\n      <td>10/23/2003</td>\n      <td>09/21/2010</td>\n      <td>01/20/2005</td>\n      <td>88935.0</td>\n      <td>370.0</td>\n      <td>230100O</td>\n      <td>0.0</td>\n      <td>1.239622</td>\n      <td>2010</td>\n      <td>1060</td>\n      <td>1794.248698</td>\n      <td>1190.591984</td>\n      <td>0.012829</td>\n      <td>0.008513</td>\n      <td>matched (3)</td>\n    </tr>\n    <tr>\n      <th>1815300</th>\n      <td>6229135</td>\n      <td>7816625</td>\n      <td>09/02/2004</td>\n      <td>10/19/2010</td>\n      <td>05/31/2007</td>\n      <td>88935.0</td>\n      <td>219.0</td>\n      <td>121710O</td>\n      <td>0.0</td>\n      <td>1.040749</td>\n      <td>2010</td>\n      <td>1060</td>\n      <td>1794.248698</td>\n      <td>1190.591984</td>\n      <td>0.012829</td>\n      <td>0.008513</td>\n      <td>matched (3)</td>\n    </tr>\n  </tbody>\n</table>\n<p>52205 rows × 17 columns</p>\n</div>",
      "text/plain": [
       "           index   patnum       fdate       idate       pdate   permno  \\\n",
       "1104029  1440696  3010070  05/31/1960  11/21/1961              27828.0   \n",
       "1104030  1424641  2994012  03/17/1960  07/25/1961              27828.0   \n",
       "1104031  1441755  3011129  08/10/1959  11/28/1961              27828.0   \n",
       "1104032  1431758  3001131  06/30/1958  09/19/1961              27828.0   \n",
       "1104033  1432778  3002151  06/18/1957  09/26/1961              27828.0   \n",
       "...          ...      ...         ...         ...         ...      ...   \n",
       "1815296  6145440  7732709  07/16/2007  06/08/2010  01/24/2008  88935.0   \n",
       "1815297  6222712  7810186  09/20/2005  10/12/2010  05/01/2008  88935.0   \n",
       "1815298  6116429  7703589  03/22/2006  04/27/2010  05/14/2009  88935.0   \n",
       "1815299  6213582  7801038  10/23/2003  09/21/2010  01/20/2005  88935.0   \n",
       "1815300  6229135  7816625  09/02/2004  10/19/2010  05/31/2007  88935.0   \n",
       "\n",
       "        patent_class subclass  ncites        xi  year  Npats          Tcw  \\\n",
       "1104029        327.0  134000O     3.0  1.580217  1961     11    35.180475   \n",
       "1104030        315.0  206000O     2.0  3.676502  1961     11    35.180475   \n",
       "1104031        315.0  076000O    33.0  3.569988  1961     11    35.180475   \n",
       "1104032        324.0  074000O     8.0  2.846502  1961     11    35.180475   \n",
       "1104033        327.0  176000O     7.0  2.763990  1961     11    35.180475   \n",
       "...              ...      ...     ...       ...   ...    ...          ...   \n",
       "1815296        174.0  050000O     2.0  1.675647  2010   1060  1794.248698   \n",
       "1815297          5.0  601000O     0.0  1.581025  2010   1060  1794.248698   \n",
       "1815298        191.0  032000O     0.0  0.862609  2010   1060  1794.248698   \n",
       "1815299        370.0  230100O     0.0  1.239622  2010   1060  1794.248698   \n",
       "1815300        219.0  121710O     0.0  1.040749  2010   1060  1794.248698   \n",
       "\n",
       "                 Tsm       tcw       tsm       _merge  \n",
       "1104029    30.088601       NaN       NaN  matched (3)  \n",
       "1104030    30.088601       NaN       NaN  matched (3)  \n",
       "1104031    30.088601       NaN       NaN  matched (3)  \n",
       "1104032    30.088601       NaN       NaN  matched (3)  \n",
       "1104033    30.088601       NaN       NaN  matched (3)  \n",
       "...              ...       ...       ...          ...  \n",
       "1815296  1190.591984  0.012829  0.008513  matched (3)  \n",
       "1815297  1190.591984  0.012829  0.008513  matched (3)  \n",
       "1815298  1190.591984  0.012829  0.008513  matched (3)  \n",
       "1815299  1190.591984  0.012829  0.008513  matched (3)  \n",
       "1815300  1190.591984  0.012829  0.008513  matched (3)  \n",
       "\n",
       "[52205 rows x 17 columns]"
      ]
     },
     "execution_count": 17,
     "metadata": {},
     "output_type": "execute_result"
    }
   ],
   "source": [
    "reduced_data"
   ]
  },
  {
   "cell_type": "markdown",
   "metadata": {},
   "source": [
    "### Utilise les index données dans la df et convertit les dates"
   ]
  },
  {
   "cell_type": "code",
   "execution_count": 18,
   "metadata": {},
   "outputs": [],
   "source": [
    "datetime_df = reduced_data\n",
    "for col in [\"fdate\", \"idate\", \"pdate\"]:\n",
    "    a = pd.to_datetime(reduced_data[col], format=\"%m/%d/%Y\", errors=\"coerce\")\n",
    "    datetime_df[col] = a\n",
    "datetime_df.set_index(\"index\", inplace=True)"
   ]
  },
  {
   "cell_type": "code",
   "execution_count": 19,
   "metadata": {},
   "outputs": [
    {
     "data": {
      "text/plain": [
       "patnum                   int32\n",
       "fdate           datetime64[ns]\n",
       "idate           datetime64[ns]\n",
       "pdate           datetime64[ns]\n",
       "permno                 float64\n",
       "patent_class            object\n",
       "subclass                object\n",
       "ncites                 float64\n",
       "xi                     float64\n",
       "year                     int32\n",
       "Npats                    int32\n",
       "Tcw                    float64\n",
       "Tsm                    float64\n",
       "tcw                    float64\n",
       "tsm                    float64\n",
       "_merge                category\n",
       "dtype: object"
      ]
     },
     "execution_count": 19,
     "metadata": {},
     "output_type": "execute_result"
    }
   ],
   "source": [
    "datetime_df.dtypes"
   ]
  },
  {
   "cell_type": "markdown",
   "metadata": {},
   "source": [
    "### On enlève les lignes incomplètes\r\n",
    "\r\n",
    "On voit le pourcentage de lignes non vides pour chaques colonnes :"
   ]
  },
  {
   "cell_type": "code",
   "execution_count": 20,
   "metadata": {},
   "outputs": [
    {
     "data": {
      "text/plain": [
       "patnum          1.000000\n",
       "fdate           0.998908\n",
       "idate           1.000000\n",
       "pdate           0.568298\n",
       "permno          1.000000\n",
       "patent_class    1.000000\n",
       "subclass        1.000000\n",
       "ncites          0.996188\n",
       "xi              0.996188\n",
       "year            1.000000\n",
       "Npats           1.000000\n",
       "Tcw             1.000000\n",
       "Tsm             1.000000\n",
       "tcw             0.999789\n",
       "tsm             0.999789\n",
       "_merge          1.000000\n",
       "dtype: float64"
      ]
     },
     "execution_count": 20,
     "metadata": {},
     "output_type": "execute_result"
    }
   ],
   "source": [
    "datetime_df.count()/len(datetime_df)"
   ]
  },
  {
   "cell_type": "code",
   "execution_count": 21,
   "metadata": {},
   "outputs": [],
   "source": [
    "full_df = datetime_df.dropna(subset=['xi', 'ncites', 'tcw', 'tsm'])"
   ]
  },
  {
   "cell_type": "code",
   "execution_count": 22,
   "metadata": {},
   "outputs": [
    {
     "data": {
      "text/plain": [
       "patnum          1.000000\n",
       "fdate           0.999423\n",
       "idate           1.000000\n",
       "pdate           0.568343\n",
       "permno          1.000000\n",
       "patent_class    1.000000\n",
       "subclass        1.000000\n",
       "ncites          1.000000\n",
       "xi              1.000000\n",
       "year            1.000000\n",
       "Npats           1.000000\n",
       "Tcw             1.000000\n",
       "Tsm             1.000000\n",
       "tcw             1.000000\n",
       "tsm             1.000000\n",
       "_merge          1.000000\n",
       "dtype: float64"
      ]
     },
     "execution_count": 22,
     "metadata": {},
     "output_type": "execute_result"
    }
   ],
   "source": [
    "full_df.count()/len(full_df)"
   ]
  },
  {
   "cell_type": "code",
   "execution_count": 23,
   "metadata": {},
   "outputs": [
    {
     "data": {
      "text/html": "<div>\n<style scoped>\n    .dataframe tbody tr th:only-of-type {\n        vertical-align: middle;\n    }\n\n    .dataframe tbody tr th {\n        vertical-align: top;\n    }\n\n    .dataframe thead th {\n        text-align: right;\n    }\n</style>\n<table border=\"1\" class=\"dataframe\">\n  <thead>\n    <tr style=\"text-align: right;\">\n      <th></th>\n      <th>patnum</th>\n      <th>fdate</th>\n      <th>idate</th>\n      <th>pdate</th>\n      <th>permno</th>\n      <th>patent_class</th>\n      <th>subclass</th>\n      <th>ncites</th>\n      <th>xi</th>\n      <th>year</th>\n      <th>Npats</th>\n      <th>Tcw</th>\n      <th>Tsm</th>\n      <th>tcw</th>\n      <th>tsm</th>\n      <th>_merge</th>\n    </tr>\n    <tr>\n      <th>index</th>\n      <th></th>\n      <th></th>\n      <th></th>\n      <th></th>\n      <th></th>\n      <th></th>\n      <th></th>\n      <th></th>\n      <th></th>\n      <th></th>\n      <th></th>\n      <th></th>\n      <th></th>\n      <th></th>\n      <th></th>\n      <th></th>\n    </tr>\n  </thead>\n  <tbody>\n    <tr>\n      <th>1470886</th>\n      <td>3040265</td>\n      <td>1960-07-18</td>\n      <td>1962-06-19</td>\n      <td>NaT</td>\n      <td>27828.0</td>\n      <td>330</td>\n      <td>290000O</td>\n      <td>6.0</td>\n      <td>0.239454</td>\n      <td>1962</td>\n      <td>7</td>\n      <td>20.538391</td>\n      <td>3.101149</td>\n      <td>0.339478</td>\n      <td>0.051259</td>\n      <td>matched (3)</td>\n    </tr>\n    <tr>\n      <th>1472156</th>\n      <td>3041535</td>\n      <td>1959-01-12</td>\n      <td>1962-06-26</td>\n      <td>NaT</td>\n      <td>27828.0</td>\n      <td>324</td>\n      <td>118000O</td>\n      <td>22.0</td>\n      <td>1.664426</td>\n      <td>1962</td>\n      <td>7</td>\n      <td>20.538391</td>\n      <td>3.101149</td>\n      <td>0.339478</td>\n      <td>0.051259</td>\n      <td>matched (3)</td>\n    </tr>\n    <tr>\n      <th>1470827</th>\n      <td>3040206</td>\n      <td>1959-11-04</td>\n      <td>1962-06-19</td>\n      <td>NaT</td>\n      <td>27828.0</td>\n      <td>315</td>\n      <td>383000O</td>\n      <td>2.0</td>\n      <td>0.239454</td>\n      <td>1962</td>\n      <td>7</td>\n      <td>20.538391</td>\n      <td>3.101149</td>\n      <td>0.339478</td>\n      <td>0.051259</td>\n      <td>matched (3)</td>\n    </tr>\n    <tr>\n      <th>1470807</th>\n      <td>3040186</td>\n      <td>1960-09-19</td>\n      <td>1962-06-19</td>\n      <td>NaT</td>\n      <td>27828.0</td>\n      <td>327</td>\n      <td>114000O</td>\n      <td>13.0</td>\n      <td>0.239454</td>\n      <td>1962</td>\n      <td>7</td>\n      <td>20.538391</td>\n      <td>3.101149</td>\n      <td>0.339478</td>\n      <td>0.051259</td>\n      <td>matched (3)</td>\n    </tr>\n    <tr>\n      <th>1470779</th>\n      <td>3040158</td>\n      <td>1960-12-01</td>\n      <td>1962-06-19</td>\n      <td>NaT</td>\n      <td>27828.0</td>\n      <td>219</td>\n      <td>210000O</td>\n      <td>12.0</td>\n      <td>0.239454</td>\n      <td>1962</td>\n      <td>7</td>\n      <td>20.538391</td>\n      <td>3.101149</td>\n      <td>0.339478</td>\n      <td>0.051259</td>\n      <td>matched (3)</td>\n    </tr>\n    <tr>\n      <th>...</th>\n      <td>...</td>\n      <td>...</td>\n      <td>...</td>\n      <td>...</td>\n      <td>...</td>\n      <td>...</td>\n      <td>...</td>\n      <td>...</td>\n      <td>...</td>\n      <td>...</td>\n      <td>...</td>\n      <td>...</td>\n      <td>...</td>\n      <td>...</td>\n      <td>...</td>\n      <td>...</td>\n    </tr>\n    <tr>\n      <th>6145440</th>\n      <td>7732709</td>\n      <td>2007-07-16</td>\n      <td>2010-06-08</td>\n      <td>2008-01-24</td>\n      <td>88935.0</td>\n      <td>174.0</td>\n      <td>050000O</td>\n      <td>2.0</td>\n      <td>1.675647</td>\n      <td>2010</td>\n      <td>1060</td>\n      <td>1794.248698</td>\n      <td>1190.591984</td>\n      <td>0.012829</td>\n      <td>0.008513</td>\n      <td>matched (3)</td>\n    </tr>\n    <tr>\n      <th>6222712</th>\n      <td>7810186</td>\n      <td>2005-09-20</td>\n      <td>2010-10-12</td>\n      <td>2008-05-01</td>\n      <td>88935.0</td>\n      <td>5.0</td>\n      <td>601000O</td>\n      <td>0.0</td>\n      <td>1.581025</td>\n      <td>2010</td>\n      <td>1060</td>\n      <td>1794.248698</td>\n      <td>1190.591984</td>\n      <td>0.012829</td>\n      <td>0.008513</td>\n      <td>matched (3)</td>\n    </tr>\n    <tr>\n      <th>6116429</th>\n      <td>7703589</td>\n      <td>2006-03-22</td>\n      <td>2010-04-27</td>\n      <td>2009-05-14</td>\n      <td>88935.0</td>\n      <td>191.0</td>\n      <td>032000O</td>\n      <td>0.0</td>\n      <td>0.862609</td>\n      <td>2010</td>\n      <td>1060</td>\n      <td>1794.248698</td>\n      <td>1190.591984</td>\n      <td>0.012829</td>\n      <td>0.008513</td>\n      <td>matched (3)</td>\n    </tr>\n    <tr>\n      <th>6213582</th>\n      <td>7801038</td>\n      <td>2003-10-23</td>\n      <td>2010-09-21</td>\n      <td>2005-01-20</td>\n      <td>88935.0</td>\n      <td>370.0</td>\n      <td>230100O</td>\n      <td>0.0</td>\n      <td>1.239622</td>\n      <td>2010</td>\n      <td>1060</td>\n      <td>1794.248698</td>\n      <td>1190.591984</td>\n      <td>0.012829</td>\n      <td>0.008513</td>\n      <td>matched (3)</td>\n    </tr>\n    <tr>\n      <th>6229135</th>\n      <td>7816625</td>\n      <td>2004-09-02</td>\n      <td>2010-10-19</td>\n      <td>2007-05-31</td>\n      <td>88935.0</td>\n      <td>219.0</td>\n      <td>121710O</td>\n      <td>0.0</td>\n      <td>1.040749</td>\n      <td>2010</td>\n      <td>1060</td>\n      <td>1794.248698</td>\n      <td>1190.591984</td>\n      <td>0.012829</td>\n      <td>0.008513</td>\n      <td>matched (3)</td>\n    </tr>\n  </tbody>\n</table>\n<p>51995 rows × 16 columns</p>\n</div>",
      "text/plain": [
       "          patnum      fdate      idate      pdate   permno patent_class  \\\n",
       "index                                                                     \n",
       "1470886  3040265 1960-07-18 1962-06-19        NaT  27828.0          330   \n",
       "1472156  3041535 1959-01-12 1962-06-26        NaT  27828.0          324   \n",
       "1470827  3040206 1959-11-04 1962-06-19        NaT  27828.0          315   \n",
       "1470807  3040186 1960-09-19 1962-06-19        NaT  27828.0          327   \n",
       "1470779  3040158 1960-12-01 1962-06-19        NaT  27828.0          219   \n",
       "...          ...        ...        ...        ...      ...          ...   \n",
       "6145440  7732709 2007-07-16 2010-06-08 2008-01-24  88935.0        174.0   \n",
       "6222712  7810186 2005-09-20 2010-10-12 2008-05-01  88935.0          5.0   \n",
       "6116429  7703589 2006-03-22 2010-04-27 2009-05-14  88935.0        191.0   \n",
       "6213582  7801038 2003-10-23 2010-09-21 2005-01-20  88935.0        370.0   \n",
       "6229135  7816625 2004-09-02 2010-10-19 2007-05-31  88935.0        219.0   \n",
       "\n",
       "        subclass  ncites        xi  year  Npats          Tcw          Tsm  \\\n",
       "index                                                                       \n",
       "1470886  290000O     6.0  0.239454  1962      7    20.538391     3.101149   \n",
       "1472156  118000O    22.0  1.664426  1962      7    20.538391     3.101149   \n",
       "1470827  383000O     2.0  0.239454  1962      7    20.538391     3.101149   \n",
       "1470807  114000O    13.0  0.239454  1962      7    20.538391     3.101149   \n",
       "1470779  210000O    12.0  0.239454  1962      7    20.538391     3.101149   \n",
       "...          ...     ...       ...   ...    ...          ...          ...   \n",
       "6145440  050000O     2.0  1.675647  2010   1060  1794.248698  1190.591984   \n",
       "6222712  601000O     0.0  1.581025  2010   1060  1794.248698  1190.591984   \n",
       "6116429  032000O     0.0  0.862609  2010   1060  1794.248698  1190.591984   \n",
       "6213582  230100O     0.0  1.239622  2010   1060  1794.248698  1190.591984   \n",
       "6229135  121710O     0.0  1.040749  2010   1060  1794.248698  1190.591984   \n",
       "\n",
       "              tcw       tsm       _merge  \n",
       "index                                     \n",
       "1470886  0.339478  0.051259  matched (3)  \n",
       "1472156  0.339478  0.051259  matched (3)  \n",
       "1470827  0.339478  0.051259  matched (3)  \n",
       "1470807  0.339478  0.051259  matched (3)  \n",
       "1470779  0.339478  0.051259  matched (3)  \n",
       "...           ...       ...          ...  \n",
       "6145440  0.012829  0.008513  matched (3)  \n",
       "6222712  0.012829  0.008513  matched (3)  \n",
       "6116429  0.012829  0.008513  matched (3)  \n",
       "6213582  0.012829  0.008513  matched (3)  \n",
       "6229135  0.012829  0.008513  matched (3)  \n",
       "\n",
       "[51995 rows x 16 columns]"
      ]
     },
     "execution_count": 23,
     "metadata": {},
     "output_type": "execute_result"
    }
   ],
   "source": [
    "full_df"
   ]
  },
  {
   "cell_type": "markdown",
   "metadata": {},
   "source": [
    "### On lisse les données numériques par rapport au temps"
   ]
  },
  {
   "cell_type": "code",
   "execution_count": 24,
   "metadata": {},
   "outputs": [],
   "source": [
    "features = [\"xi\", \"Tcw\", \"Tsm\", \"tcw\", \"tsm\", \"ncites\"]\n",
    "SMA_features = [\"SMA_\"+l for l in features]"
   ]
  },
  {
   "cell_type": "code",
   "execution_count": 25,
   "metadata": {},
   "outputs": [],
   "source": [
    "full_df[SMA_features] = full_df.sort_values(by=\"idate\"\r\n",
    ").groupby([\"permno\", \"patent_class\"]\r\n",
    ")[features\r\n",
    "].rolling(window=5, min_periods=1 # =5?\r\n",
    ").mean(\r\n",
    ").reset_index(level=[0, 1], drop=True\r\n",
    ").rename(columns={l: \"SMA_\"+l for l in features})"
   ]
  },
  {
   "cell_type": "code",
   "execution_count": 26,
   "metadata": {},
   "outputs": [],
   "source": [
    "for l in features:\n",
    "    full_df[\"log_\"+l] = np.log(1 + full_df[\"SMA_\"+l])"
   ]
  },
  {
   "cell_type": "markdown",
   "metadata": {},
   "source": [
    "### On normalise les données numériques lissées et passées au log"
   ]
  },
  {
   "cell_type": "code",
   "execution_count": 27,
   "metadata": {},
   "outputs": [],
   "source": [
    "matrix = full_df[['log_xi', 'log_Tcw', 'log_Tsm', 'log_tcw', 'log_tsm', 'log_ncites']]"
   ]
  },
  {
   "cell_type": "code",
   "execution_count": 28,
   "metadata": {},
   "outputs": [
    {
     "data": {
      "text/html": "<div>\n<style scoped>\n    .dataframe tbody tr th:only-of-type {\n        vertical-align: middle;\n    }\n\n    .dataframe tbody tr th {\n        vertical-align: top;\n    }\n\n    .dataframe thead th {\n        text-align: right;\n    }\n</style>\n<table border=\"1\" class=\"dataframe\">\n  <thead>\n    <tr style=\"text-align: right;\">\n      <th></th>\n      <th>log_xi</th>\n      <th>log_Tcw</th>\n      <th>log_Tsm</th>\n      <th>log_tcw</th>\n      <th>log_tsm</th>\n      <th>log_ncites</th>\n    </tr>\n    <tr>\n      <th>index</th>\n      <th></th>\n      <th></th>\n      <th></th>\n      <th></th>\n      <th></th>\n      <th></th>\n    </tr>\n  </thead>\n  <tbody>\n    <tr>\n      <th>1470886</th>\n      <td>0.214671</td>\n      <td>3.069837</td>\n      <td>1.411267</td>\n      <td>0.292280</td>\n      <td>0.049988</td>\n      <td>1.945910</td>\n    </tr>\n    <tr>\n      <th>1472156</th>\n      <td>0.668824</td>\n      <td>3.069837</td>\n      <td>1.411267</td>\n      <td>0.292280</td>\n      <td>0.049988</td>\n      <td>2.995732</td>\n    </tr>\n    <tr>\n      <th>1470827</th>\n      <td>0.214671</td>\n      <td>3.069837</td>\n      <td>1.411267</td>\n      <td>0.292280</td>\n      <td>0.049988</td>\n      <td>1.098612</td>\n    </tr>\n    <tr>\n      <th>1470807</th>\n      <td>0.214671</td>\n      <td>3.069837</td>\n      <td>1.411267</td>\n      <td>0.292280</td>\n      <td>0.049988</td>\n      <td>2.639057</td>\n    </tr>\n    <tr>\n      <th>1470779</th>\n      <td>0.214671</td>\n      <td>3.069837</td>\n      <td>1.411267</td>\n      <td>0.292280</td>\n      <td>0.049988</td>\n      <td>2.564949</td>\n    </tr>\n    <tr>\n      <th>...</th>\n      <td>...</td>\n      <td>...</td>\n      <td>...</td>\n      <td>...</td>\n      <td>...</td>\n      <td>...</td>\n    </tr>\n    <tr>\n      <th>6145440</th>\n      <td>0.797136</td>\n      <td>7.489044</td>\n      <td>7.187985</td>\n      <td>0.012752</td>\n      <td>0.009454</td>\n      <td>0.470004</td>\n    </tr>\n    <tr>\n      <th>6222712</th>\n      <td>0.790934</td>\n      <td>7.492899</td>\n      <td>7.083045</td>\n      <td>0.012748</td>\n      <td>0.008477</td>\n      <td>0.000000</td>\n    </tr>\n    <tr>\n      <th>6116429</th>\n      <td>0.273720</td>\n      <td>7.496506</td>\n      <td>6.072049</td>\n      <td>0.018200</td>\n      <td>0.003767</td>\n      <td>0.182322</td>\n    </tr>\n    <tr>\n      <th>6213582</th>\n      <td>0.780494</td>\n      <td>7.492899</td>\n      <td>7.083045</td>\n      <td>0.012748</td>\n      <td>0.008477</td>\n      <td>0.000000</td>\n    </tr>\n    <tr>\n      <th>6229135</th>\n      <td>0.957175</td>\n      <td>7.489044</td>\n      <td>7.187985</td>\n      <td>0.012752</td>\n      <td>0.009454</td>\n      <td>0.470004</td>\n    </tr>\n  </tbody>\n</table>\n<p>51995 rows × 6 columns</p>\n</div>",
      "text/plain": [
       "           log_xi   log_Tcw   log_Tsm   log_tcw   log_tsm  log_ncites\n",
       "index                                                                \n",
       "1470886  0.214671  3.069837  1.411267  0.292280  0.049988    1.945910\n",
       "1472156  0.668824  3.069837  1.411267  0.292280  0.049988    2.995732\n",
       "1470827  0.214671  3.069837  1.411267  0.292280  0.049988    1.098612\n",
       "1470807  0.214671  3.069837  1.411267  0.292280  0.049988    2.639057\n",
       "1470779  0.214671  3.069837  1.411267  0.292280  0.049988    2.564949\n",
       "...           ...       ...       ...       ...       ...         ...\n",
       "6145440  0.797136  7.489044  7.187985  0.012752  0.009454    0.470004\n",
       "6222712  0.790934  7.492899  7.083045  0.012748  0.008477    0.000000\n",
       "6116429  0.273720  7.496506  6.072049  0.018200  0.003767    0.182322\n",
       "6213582  0.780494  7.492899  7.083045  0.012748  0.008477    0.000000\n",
       "6229135  0.957175  7.489044  7.187985  0.012752  0.009454    0.470004\n",
       "\n",
       "[51995 rows x 6 columns]"
      ]
     },
     "execution_count": 28,
     "metadata": {},
     "output_type": "execute_result"
    }
   ],
   "source": [
    "matrix"
   ]
  },
  {
   "cell_type": "code",
   "execution_count": 29,
   "metadata": {},
   "outputs": [],
   "source": [
    "normalised_matrix = StandardScaler().fit_transform(matrix)"
   ]
  },
  {
   "cell_type": "code",
   "execution_count": 30,
   "metadata": {},
   "outputs": [
    {
     "data": {
      "text/plain": [
       "array([[-1.02521922, -5.658049  , -3.01405747,  6.38254427, -0.52548486,\n",
       "         0.30047711],\n",
       "       [-0.68574681, -5.658049  , -3.01405747,  6.38254427, -0.52548486,\n",
       "         1.3422254 ],\n",
       "       [-1.02521922, -5.658049  , -3.01405747,  6.38254427, -0.52548486,\n",
       "        -0.54030447],\n",
       "       ...,\n",
       "       [-0.98108127,  0.04799788, -0.7894394 , -0.44953741, -0.72288655,\n",
       "        -1.44954831],\n",
       "       [-0.60227526,  0.04334845, -0.30688465, -0.58544459, -0.70277041,\n",
       "        -1.6304677 ],\n",
       "       [-0.47020839,  0.03837899, -0.2567962 , -0.58533426, -0.69859983,\n",
       "        -1.16407871]])"
      ]
     },
     "execution_count": 30,
     "metadata": {},
     "output_type": "execute_result"
    }
   ],
   "source": [
    "normalised_matrix"
   ]
  },
  {
   "cell_type": "markdown",
   "metadata": {},
   "source": [
    "### On fait une ACP sur cette matrice\r\n",
    "\r\n",
    "Puis on rajoute les indices"
   ]
  },
  {
   "cell_type": "code",
   "execution_count": 31,
   "metadata": {},
   "outputs": [],
   "source": [
    "pca = PCA(n_components=2)\r\n",
    "principalComponents = pca.fit_transform(normalised_matrix)\r\n",
    "principalDf = pd.DataFrame(data=principalComponents, columns=['PC1', 'PC2'])"
   ]
  },
  {
   "cell_type": "code",
   "execution_count": 32,
   "metadata": {},
   "outputs": [],
   "source": [
    "projected_data = pd.concat([matrix.reset_index()[\"index\"], principalDf], axis=1).set_index(\"index\")"
   ]
  },
  {
   "cell_type": "code",
   "execution_count": 33,
   "metadata": {},
   "outputs": [
    {
     "data": {
      "text/html": "<div>\n<style scoped>\n    .dataframe tbody tr th:only-of-type {\n        vertical-align: middle;\n    }\n\n    .dataframe tbody tr th {\n        vertical-align: top;\n    }\n\n    .dataframe thead th {\n        text-align: right;\n    }\n</style>\n<table border=\"1\" class=\"dataframe\">\n  <thead>\n    <tr style=\"text-align: right;\">\n      <th></th>\n      <th>PC1</th>\n      <th>PC2</th>\n    </tr>\n    <tr>\n      <th>index</th>\n      <th></th>\n      <th></th>\n    </tr>\n  </thead>\n  <tbody>\n    <tr>\n      <th>1470886</th>\n      <td>-0.907068</td>\n      <td>7.830799</td>\n    </tr>\n    <tr>\n      <th>1472156</th>\n      <td>-0.443467</td>\n      <td>8.275950</td>\n    </tr>\n    <tr>\n      <th>1470827</th>\n      <td>-1.130389</td>\n      <td>7.445494</td>\n    </tr>\n    <tr>\n      <th>1470807</th>\n      <td>-0.724377</td>\n      <td>8.146004</td>\n    </tr>\n    <tr>\n      <th>1470779</th>\n      <td>-0.743909</td>\n      <td>8.112304</td>\n    </tr>\n    <tr>\n      <th>...</th>\n      <td>...</td>\n      <td>...</td>\n    </tr>\n    <tr>\n      <th>6145440</th>\n      <td>-1.302928</td>\n      <td>-0.714676</td>\n    </tr>\n    <tr>\n      <th>6222712</th>\n      <td>-1.456056</td>\n      <td>-0.913321</td>\n    </tr>\n    <tr>\n      <th>6116429</th>\n      <td>-1.832127</td>\n      <td>-0.563809</td>\n    </tr>\n    <tr>\n      <th>6213582</th>\n      <td>-1.460353</td>\n      <td>-0.912580</td>\n    </tr>\n    <tr>\n      <th>6229135</th>\n      <td>-1.237065</td>\n      <td>-0.726041</td>\n    </tr>\n  </tbody>\n</table>\n<p>51995 rows × 2 columns</p>\n</div>",
      "text/plain": [
       "              PC1       PC2\n",
       "index                      \n",
       "1470886 -0.907068  7.830799\n",
       "1472156 -0.443467  8.275950\n",
       "1470827 -1.130389  7.445494\n",
       "1470807 -0.724377  8.146004\n",
       "1470779 -0.743909  8.112304\n",
       "...           ...       ...\n",
       "6145440 -1.302928 -0.714676\n",
       "6222712 -1.456056 -0.913321\n",
       "6116429 -1.832127 -0.563809\n",
       "6213582 -1.460353 -0.912580\n",
       "6229135 -1.237065 -0.726041\n",
       "\n",
       "[51995 rows x 2 columns]"
      ]
     },
     "execution_count": 33,
     "metadata": {},
     "output_type": "execute_result"
    }
   ],
   "source": [
    "projected_data"
   ]
  },
  {
   "cell_type": "markdown",
   "metadata": {},
   "source": [
    "### On applique le Mapper Algorithm"
   ]
  },
  {
   "cell_type": "code",
   "execution_count": 34,
   "metadata": {},
   "outputs": [
    {
     "name": "stdout",
     "output_type": "stream",
     "text": [
      "KeplerMapper(verbose=1)\n"
     ]
    }
   ],
   "source": [
    "# Initialize\n",
    "mapper = km.KeplerMapper(verbose=1)"
   ]
  },
  {
   "cell_type": "code",
   "execution_count": 35,
   "metadata": {},
   "outputs": [
    {
     "name": "stdout",
     "output_type": "stream",
     "text": [
      "..Composing projection pipeline of length 1:\n",
      "\tProjections: PCA(n_components=2)\n",
      "\tDistance matrices: False\n",
      "\tScalers: MinMaxScaler()\n",
      "..Projecting on data shaped (51995, 6)\n",
      "\n",
      "..Projecting data using: \n",
      "\tPCA(n_components=2)\n",
      "\n",
      "\n",
      "..Scaling with: MinMaxScaler()\n",
      "\n"
     ]
    }
   ],
   "source": [
    "proj_matrix = mapper.fit_transform(X=normalised_matrix, projection=PCA(n_components=2)) # , scaler=StandardScaler())"
   ]
  },
  {
   "cell_type": "code",
   "execution_count": 36,
   "metadata": {},
   "outputs": [
    {
     "data": {
      "text/plain": [
       "array([[0.1984046 , 0.86944952],\n",
       "       [0.25872037, 0.90922807],\n",
       "       [0.16934996, 0.8350188 ],\n",
       "       ...,\n",
       "       [0.07805192, 0.11930942],\n",
       "       [0.1264207 , 0.0881433 ],\n",
       "       [0.15547107, 0.10481237]])"
      ]
     },
     "execution_count": 36,
     "metadata": {},
     "output_type": "execute_result"
    }
   ],
   "source": [
    "proj_matrix"
   ]
  },
  {
   "cell_type": "code",
   "execution_count": 39,
   "metadata": {},
   "outputs": [
    {
     "name": "stdout",
     "output_type": "stream",
     "text": [
      "Mapping on data shaped (51995, 6) using lens shaped (51995, 2)\n",
      "\n",
      "Creating 25 hypercubes.\n",
      "\n",
      "Created 206 edges and 108 nodes in 0:01:00.624035.\n"
     ]
    }
   ],
   "source": [
    "# Create dictionary called 'graph' with nodes, edges and meta-information\n",
    "graph = mapper.map(lens=proj_matrix, X=normalised_matrix, cover=Cover(n_cubes=20, perc_overlap=0.5)) #, clusterer=AgglomerativeClustering(n_clusters=[2], linkage=\"single\"))"
   ]
  },
  {
   "cell_type": "code",
   "execution_count": 40,
   "metadata": {},
   "outputs": [
    {
     "name": "stdout",
     "output_type": "stream",
     "text": [
      "Wrote visualization to: ../docs/MapperCluste2r.html\n"
     ]
    }
   ],
   "source": [
    "# Visualize it\n",
    "html = mapper.visualize(graph, path_html=\"../docs/MapperCluster2.html\", title=\"Mapper Clustering Algorithm\")\n",
    "\n",
    "# Inline display\n",
    "# jupyter.display(path_html=\"../docs/MapperCluster.html\")"
   ]
  }
 ],
 "metadata": {
  "kernelspec": {
   "display_name": "Python 3.9.1 64-bit ('statapp': conda)",
   "metadata": {
    "interpreter": {
     "hash": "378f004e57fe3eca8e623a5d07b582d035b03563d5176b734c6491bec59f748c"
    }
   },
   "name": "python3"
  },
  "language_info": {
   "codemirror_mode": {
    "name": "ipython",
    "version": 3
   },
   "file_extension": ".py",
   "mimetype": "text/x-python",
   "name": "python",
   "nbconvert_exporter": "python",
   "pygments_lexer": "ipython3",
   "version": "3.9.1"
  },
  "orig_nbformat": 2
 },
 "nbformat": 4,
 "nbformat_minor": 2
}