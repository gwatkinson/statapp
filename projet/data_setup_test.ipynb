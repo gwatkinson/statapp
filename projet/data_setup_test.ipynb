{
 "cells": [
  {
   "cell_type": "code",
   "execution_count": 2,
   "id": "08b6bed5-2b3f-4fa5-adc0-a9fb7dbdcf63",
   "metadata": {},
   "outputs": [],
   "source": [
    "import data_setup as ds"
   ]
  },
  {
   "cell_type": "code",
   "execution_count": 4,
   "id": "ee52124a-d1f0-422d-a425-a6105ec0ff7b",
   "metadata": {},
   "outputs": [],
   "source": [
    "data_firm_level, patents_firm_merge, cites = ds.load_data(dfs=['data_firm_level', 'patents_firm_merge', 'cites'])"
   ]
  },
  {
   "cell_type": "code",
   "execution_count": 9,
   "id": "cadd9476-9b1d-49af-8c5b-663ac6d1da95",
   "metadata": {},
   "outputs": [
    {
     "name": "stdout",
     "output_type": "stream",
     "text": [
      "1\n"
     ]
    }
   ],
   "source": [
    "if [\"A\", \"b\"]:\n",
    "    print(1)"
   ]
  }
 ],
 "metadata": {
  "kernelspec": {
   "display_name": "Python 3",
   "language": "python",
   "name": "python3"
  },
  "language_info": {
   "codemirror_mode": {
    "name": "ipython",
    "version": 3
   },
   "file_extension": ".py",
   "mimetype": "text/x-python",
   "name": "python",
   "nbconvert_exporter": "python",
   "pygments_lexer": "ipython3",
   "version": "3.9.2"
  }
 },
 "nbformat": 4,
 "nbformat_minor": 5
}
