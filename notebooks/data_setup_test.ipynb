{
 "cells": [
  {
   "cell_type": "code",
   "execution_count": null,
   "metadata": {},
   "outputs": [],
   "source": [
    "import sys\n",
    "sys.path.append('../projet')"
   ]
  },
  {
   "cell_type": "code",
   "execution_count": null,
   "id": "08b6bed5-2b3f-4fa5-adc0-a9fb7dbdcf63",
   "metadata": {},
   "outputs": [],
   "source": [
    "import data_setup as ds"
   ]
  },
  {
   "cell_type": "code",
   "execution_count": null,
   "metadata": {},
   "outputs": [],
   "source": [
    "data = ds.load_derived(path=\"../data/\")"
   ]
  },
  {
   "cell_type": "code",
   "execution_count": null,
   "id": "ee52124a-d1f0-422d-a425-a6105ec0ff7b",
   "metadata": {},
   "outputs": [],
   "source": [
    "data_firm_level, patents_firm_merge, cites = ds.load_data(dfs=['data_firm_level', 'patents_firm_merge', 'cites'], path=\"../data/\")"
   ]
  },
  {
   "cell_type": "code",
   "execution_count": null,
   "id": "cadd9476-9b1d-49af-8c5b-663ac6d1da95",
   "metadata": {},
   "outputs": [],
   "source": [
    "format = ds.format_patent_data(\n",
    "    patents_firm_merge, \n",
    "    keep=['index', 'patnum', 'fdate', 'idate', 'pdate', 'permno', 'patent_class',\n",
    "    'subclass', 'ncites', 'xi', 'year', 'Npats', 'Tcw', 'Tsm', 'tcw', 'tsm'],\n",
    "    date_cols=['idate'],\n",
    "    save=False\n",
    "    )"
   ]
  },
  {
   "cell_type": "code",
   "execution_count": null,
   "metadata": {},
   "outputs": [],
   "source": [
    "format.info(verbose=True, show_counts=True)"
   ]
  },
  {
   "cell_type": "code",
   "execution_count": null,
   "metadata": {},
   "outputs": [],
   "source": [
    "format2 = ds.format_patent_data(patents_firm_merge, keep=['year', 'permno', 'xi', 'Npats', 'Tcw', 'Tsm', 'patent_class'], na_cols=['patent_class', 'xi'])"
   ]
  },
  {
   "cell_type": "code",
   "execution_count": null,
   "metadata": {},
   "outputs": [],
   "source": [
    "format2"
   ]
  },
  {
   "cell_type": "code",
   "execution_count": null,
   "metadata": {},
   "outputs": [],
   "source": [
    "dummies = ds.add_dumies(format2, extra={\"xi\": \"mean\", \"Npats\": \"first\", \"Tcw\": \"first\", \"Tsm\": \"first\"})\n",
    "dummies"
   ]
  },
  {
   "cell_type": "code",
   "execution_count": null,
   "metadata": {},
   "outputs": [],
   "source": [
    "cites_permno = ds.add_permno(cites, patents_firm_merge, save=False)"
   ]
  },
  {
   "cell_type": "code",
   "execution_count": null,
   "metadata": {},
   "outputs": [],
   "source": [
    "cites_permno"
   ]
  },
  {
   "source": [
    "patent_cite = ds.patent_to_firm_cites(cites_permno)"
   ],
   "cell_type": "code",
   "metadata": {},
   "execution_count": null,
   "outputs": []
  },
  {
   "cell_type": "code",
   "execution_count": null,
   "metadata": {},
   "outputs": [],
   "source": [
    "patent_cite"
   ]
  },
  {
   "cell_type": "code",
   "execution_count": null,
   "metadata": {},
   "outputs": [],
   "source": [
    "(firm_cites, patent_cites, patent_data, patent_distribution) = ds.load_derived(path='../data/')"
   ]
  },
  {
   "cell_type": "code",
   "execution_count": null,
   "metadata": {},
   "outputs": [],
   "source": []
  }
 ],
 "metadata": {
  "kernelspec": {
   "display_name": "Python 3",
   "language": "python",
   "name": "python3"
  },
  "language_info": {
   "codemirror_mode": {
    "name": "ipython",
    "version": 3
   },
   "file_extension": ".py",
   "mimetype": "text/x-python",
   "name": "python",
   "nbconvert_exporter": "python",
   "pygments_lexer": "ipython3",
   "version": "3.9.2"
  }
 },
 "nbformat": 4,
 "nbformat_minor": 5
}