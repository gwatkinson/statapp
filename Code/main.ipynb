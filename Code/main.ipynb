{
 "metadata": {
  "language_info": {
   "codemirror_mode": {
    "name": "ipython",
    "version": 3
   },
   "file_extension": ".py",
   "mimetype": "text/x-python",
   "name": "python",
   "nbconvert_exporter": "python",
   "pygments_lexer": "ipython3",
   "version": "3.9.1-final"
  },
  "orig_nbformat": 2,
  "kernelspec": {
   "name": "python3",
   "display_name": "Python 3.9.1 64-bit ('statapp': conda)",
   "metadata": {
    "interpreter": {
     "hash": "378f004e57fe3eca8e623a5d07b582d035b03563d5176b734c6491bec59f748c"
    }
   }
  }
 },
 "nbformat": 4,
 "nbformat_minor": 2,
 "cells": [
  {
   "cell_type": "code",
   "execution_count": 13,
   "metadata": {},
   "outputs": [],
   "source": [
    "import pandas as pd"
   ]
  },
  {
   "cell_type": "code",
   "execution_count": 42,
   "metadata": {},
   "outputs": [],
   "source": [
    "data_firm_level = pd.read_stata(\"../Data/Firm_patent/data_firm_level.dta\")"
   ]
  },
  {
   "cell_type": "code",
   "execution_count": 43,
   "metadata": {},
   "outputs": [
    {
     "output_type": "execute_result",
     "data": {
      "text/plain": [
       "     year   gvkey   fyr     csho      ebit    ebitda      emp     pstk  \\\n",
       "0  1994.0   10846  12.0  363.661  3856.000  4977.000  304.000      NaN   \n",
       "1  1995.0   10846  12.0  363.800  3986.000  5242.000  308.000      NaN   \n",
       "2  1996.0   10846  12.0  363.816  4473.000  5794.000  306.000  153.435   \n",
       "3  1996.0  153351  12.0   15.669    -3.810    -3.766    0.012    0.001   \n",
       "4  1996.0   27961  12.0      NaN    15.514    20.698    0.915    0.000   \n",
       "\n",
       "        sale      xrd  ...       rivao      rintan          ract  \\\n",
       "0  45419.000  831.000  ...  148.300720    0.000000  15795.056641   \n",
       "1  49732.000  923.000  ...  169.000000    0.000000  16314.000000   \n",
       "2  52161.000  934.000  ...  187.683273    0.000000  16892.472656   \n",
       "3      2.000    3.344  ...    0.000000    0.000000     47.806450   \n",
       "4    170.821    0.900  ...    0.000000  144.434006     57.626587   \n",
       "\n",
       "          value       value_e       value_d       qkstock       tobinq  \\\n",
       "0           NaN           NaN -10743.563477  19477.857422          NaN   \n",
       "1           NaN           NaN -11067.000000  20419.000000          NaN   \n",
       "2  51197.640625  62475.253906 -11277.615234  19883.673828     2.574858   \n",
       "3    124.507561    172.314011    -47.806450      0.085044  1464.037354   \n",
       "4           NaN           NaN     98.776138    204.719437          NaN   \n",
       "\n",
       "      tobinq_e    tobinq_d  \n",
       "0          NaN   -0.551578  \n",
       "1          NaN   -0.541995  \n",
       "2     3.142038   -0.567180  \n",
       "3  2026.175293 -562.137939  \n",
       "4          NaN    0.482495  \n",
       "\n",
       "[5 rows x 49 columns]"
      ],
      "text/html": "<div>\n<style scoped>\n    .dataframe tbody tr th:only-of-type {\n        vertical-align: middle;\n    }\n\n    .dataframe tbody tr th {\n        vertical-align: top;\n    }\n\n    .dataframe thead th {\n        text-align: right;\n    }\n</style>\n<table border=\"1\" class=\"dataframe\">\n  <thead>\n    <tr style=\"text-align: right;\">\n      <th></th>\n      <th>year</th>\n      <th>gvkey</th>\n      <th>fyr</th>\n      <th>csho</th>\n      <th>ebit</th>\n      <th>ebitda</th>\n      <th>emp</th>\n      <th>pstk</th>\n      <th>sale</th>\n      <th>xrd</th>\n      <th>...</th>\n      <th>rivao</th>\n      <th>rintan</th>\n      <th>ract</th>\n      <th>value</th>\n      <th>value_e</th>\n      <th>value_d</th>\n      <th>qkstock</th>\n      <th>tobinq</th>\n      <th>tobinq_e</th>\n      <th>tobinq_d</th>\n    </tr>\n  </thead>\n  <tbody>\n    <tr>\n      <th>0</th>\n      <td>1994.0</td>\n      <td>10846</td>\n      <td>12.0</td>\n      <td>363.661</td>\n      <td>3856.000</td>\n      <td>4977.000</td>\n      <td>304.000</td>\n      <td>NaN</td>\n      <td>45419.000</td>\n      <td>831.000</td>\n      <td>...</td>\n      <td>148.300720</td>\n      <td>0.000000</td>\n      <td>15795.056641</td>\n      <td>NaN</td>\n      <td>NaN</td>\n      <td>-10743.563477</td>\n      <td>19477.857422</td>\n      <td>NaN</td>\n      <td>NaN</td>\n      <td>-0.551578</td>\n    </tr>\n    <tr>\n      <th>1</th>\n      <td>1995.0</td>\n      <td>10846</td>\n      <td>12.0</td>\n      <td>363.800</td>\n      <td>3986.000</td>\n      <td>5242.000</td>\n      <td>308.000</td>\n      <td>NaN</td>\n      <td>49732.000</td>\n      <td>923.000</td>\n      <td>...</td>\n      <td>169.000000</td>\n      <td>0.000000</td>\n      <td>16314.000000</td>\n      <td>NaN</td>\n      <td>NaN</td>\n      <td>-11067.000000</td>\n      <td>20419.000000</td>\n      <td>NaN</td>\n      <td>NaN</td>\n      <td>-0.541995</td>\n    </tr>\n    <tr>\n      <th>2</th>\n      <td>1996.0</td>\n      <td>10846</td>\n      <td>12.0</td>\n      <td>363.816</td>\n      <td>4473.000</td>\n      <td>5794.000</td>\n      <td>306.000</td>\n      <td>153.435</td>\n      <td>52161.000</td>\n      <td>934.000</td>\n      <td>...</td>\n      <td>187.683273</td>\n      <td>0.000000</td>\n      <td>16892.472656</td>\n      <td>51197.640625</td>\n      <td>62475.253906</td>\n      <td>-11277.615234</td>\n      <td>19883.673828</td>\n      <td>2.574858</td>\n      <td>3.142038</td>\n      <td>-0.567180</td>\n    </tr>\n    <tr>\n      <th>3</th>\n      <td>1996.0</td>\n      <td>153351</td>\n      <td>12.0</td>\n      <td>15.669</td>\n      <td>-3.810</td>\n      <td>-3.766</td>\n      <td>0.012</td>\n      <td>0.001</td>\n      <td>2.000</td>\n      <td>3.344</td>\n      <td>...</td>\n      <td>0.000000</td>\n      <td>0.000000</td>\n      <td>47.806450</td>\n      <td>124.507561</td>\n      <td>172.314011</td>\n      <td>-47.806450</td>\n      <td>0.085044</td>\n      <td>1464.037354</td>\n      <td>2026.175293</td>\n      <td>-562.137939</td>\n    </tr>\n    <tr>\n      <th>4</th>\n      <td>1996.0</td>\n      <td>27961</td>\n      <td>12.0</td>\n      <td>NaN</td>\n      <td>15.514</td>\n      <td>20.698</td>\n      <td>0.915</td>\n      <td>0.000</td>\n      <td>170.821</td>\n      <td>0.900</td>\n      <td>...</td>\n      <td>0.000000</td>\n      <td>144.434006</td>\n      <td>57.626587</td>\n      <td>NaN</td>\n      <td>NaN</td>\n      <td>98.776138</td>\n      <td>204.719437</td>\n      <td>NaN</td>\n      <td>NaN</td>\n      <td>0.482495</td>\n    </tr>\n  </tbody>\n</table>\n<p>5 rows × 49 columns</p>\n</div>"
     },
     "metadata": {},
     "execution_count": 43
    }
   ],
   "source": [
    "data_firm_level.head()"
   ]
  },
  {
   "cell_type": "code",
   "execution_count": null,
   "metadata": {},
   "outputs": [],
   "source": [
    "data_firm_level.describe()"
   ]
  },
  {
   "cell_type": "code",
   "execution_count": 44,
   "metadata": {},
   "outputs": [],
   "source": [
    "patents_firm_merge = pd.read_stata(r\"..\\Data\\Firm_patent\\patents_firm_merge.dta\")"
   ]
  },
  {
   "cell_type": "code",
   "execution_count": 46,
   "metadata": {},
   "outputs": [],
   "source": [
    "feature_names = [c for c in patents_firm_merge.columns if c not in [\"index\", \"patnum\", \"fdate\", \"idate\", \"pdate\", \"permno\", \"year\", \"Npats\", \"_merge\"]]"
   ]
  },
  {
   "cell_type": "code",
   "execution_count": 47,
   "metadata": {},
   "outputs": [],
   "source": [
    "df = patents_firm_merge[feature_names]"
   ]
  },
  {
   "cell_type": "code",
   "execution_count": 48,
   "metadata": {},
   "outputs": [
    {
     "output_type": "execute_result",
     "data": {
      "text/plain": [
       "patent_class     object\n",
       "subclass         object\n",
       "ncites          float64\n",
       "xi              float64\n",
       "Tcw             float64\n",
       "Tsm             float64\n",
       "tcw             float64\n",
       "tsm             float64\n",
       "dtype: object"
      ]
     },
     "metadata": {},
     "execution_count": 48
    }
   ],
   "source": [
    "df.dtypes"
   ]
  },
  {
   "cell_type": "code",
   "execution_count": 49,
   "metadata": {},
   "outputs": [
    {
     "output_type": "error",
     "ename": "ValueError",
     "evalue": "could not convert string to float: '206000O'",
     "traceback": [
      "\u001b[1;31m---------------------------------------------------------------------------\u001b[0m",
      "\u001b[1;31mValueError\u001b[0m                                Traceback (most recent call last)",
      "\u001b[1;32m<ipython-input-49-dbd8659128c2>\u001b[0m in \u001b[0;36m<module>\u001b[1;34m\u001b[0m\n\u001b[1;32m----> 1\u001b[1;33m \u001b[0mdf\u001b[0m\u001b[1;33m.\u001b[0m\u001b[0mastype\u001b[0m\u001b[1;33m(\u001b[0m\u001b[1;33m{\u001b[0m\u001b[1;34m\"subclass\"\u001b[0m\u001b[1;33m:\u001b[0m \u001b[0mfloat\u001b[0m\u001b[1;33m}\u001b[0m\u001b[1;33m)\u001b[0m\u001b[1;33m\u001b[0m\u001b[1;33m\u001b[0m\u001b[0m\n\u001b[0m",
      "\u001b[1;32m~\\anaconda3\\envs\\statapp\\lib\\site-packages\\pandas\\core\\generic.py\u001b[0m in \u001b[0;36mastype\u001b[1;34m(self, dtype, copy, errors)\u001b[0m\n\u001b[0;32m   5857\u001b[0m                 \u001b[1;32mif\u001b[0m \u001b[0mcol_name\u001b[0m \u001b[1;32min\u001b[0m \u001b[0mdtype\u001b[0m\u001b[1;33m:\u001b[0m\u001b[1;33m\u001b[0m\u001b[1;33m\u001b[0m\u001b[0m\n\u001b[0;32m   5858\u001b[0m                     results.append(\n\u001b[1;32m-> 5859\u001b[1;33m                         \u001b[0mcol\u001b[0m\u001b[1;33m.\u001b[0m\u001b[0mastype\u001b[0m\u001b[1;33m(\u001b[0m\u001b[0mdtype\u001b[0m\u001b[1;33m=\u001b[0m\u001b[0mdtype\u001b[0m\u001b[1;33m[\u001b[0m\u001b[0mcol_name\u001b[0m\u001b[1;33m]\u001b[0m\u001b[1;33m,\u001b[0m \u001b[0mcopy\u001b[0m\u001b[1;33m=\u001b[0m\u001b[0mcopy\u001b[0m\u001b[1;33m,\u001b[0m \u001b[0merrors\u001b[0m\u001b[1;33m=\u001b[0m\u001b[0merrors\u001b[0m\u001b[1;33m)\u001b[0m\u001b[1;33m\u001b[0m\u001b[1;33m\u001b[0m\u001b[0m\n\u001b[0m\u001b[0;32m   5860\u001b[0m                     )\n\u001b[0;32m   5861\u001b[0m                 \u001b[1;32melse\u001b[0m\u001b[1;33m:\u001b[0m\u001b[1;33m\u001b[0m\u001b[1;33m\u001b[0m\u001b[0m\n",
      "\u001b[1;32m~\\anaconda3\\envs\\statapp\\lib\\site-packages\\pandas\\core\\generic.py\u001b[0m in \u001b[0;36mastype\u001b[1;34m(self, dtype, copy, errors)\u001b[0m\n\u001b[0;32m   5872\u001b[0m         \u001b[1;32melse\u001b[0m\u001b[1;33m:\u001b[0m\u001b[1;33m\u001b[0m\u001b[1;33m\u001b[0m\u001b[0m\n\u001b[0;32m   5873\u001b[0m             \u001b[1;31m# else, only a single dtype is given\u001b[0m\u001b[1;33m\u001b[0m\u001b[1;33m\u001b[0m\u001b[1;33m\u001b[0m\u001b[0m\n\u001b[1;32m-> 5874\u001b[1;33m             \u001b[0mnew_data\u001b[0m \u001b[1;33m=\u001b[0m \u001b[0mself\u001b[0m\u001b[1;33m.\u001b[0m\u001b[0m_mgr\u001b[0m\u001b[1;33m.\u001b[0m\u001b[0mastype\u001b[0m\u001b[1;33m(\u001b[0m\u001b[0mdtype\u001b[0m\u001b[1;33m=\u001b[0m\u001b[0mdtype\u001b[0m\u001b[1;33m,\u001b[0m \u001b[0mcopy\u001b[0m\u001b[1;33m=\u001b[0m\u001b[0mcopy\u001b[0m\u001b[1;33m,\u001b[0m \u001b[0merrors\u001b[0m\u001b[1;33m=\u001b[0m\u001b[0merrors\u001b[0m\u001b[1;33m)\u001b[0m\u001b[1;33m\u001b[0m\u001b[1;33m\u001b[0m\u001b[0m\n\u001b[0m\u001b[0;32m   5875\u001b[0m             \u001b[1;32mreturn\u001b[0m \u001b[0mself\u001b[0m\u001b[1;33m.\u001b[0m\u001b[0m_constructor\u001b[0m\u001b[1;33m(\u001b[0m\u001b[0mnew_data\u001b[0m\u001b[1;33m)\u001b[0m\u001b[1;33m.\u001b[0m\u001b[0m__finalize__\u001b[0m\u001b[1;33m(\u001b[0m\u001b[0mself\u001b[0m\u001b[1;33m,\u001b[0m \u001b[0mmethod\u001b[0m\u001b[1;33m=\u001b[0m\u001b[1;34m\"astype\"\u001b[0m\u001b[1;33m)\u001b[0m\u001b[1;33m\u001b[0m\u001b[1;33m\u001b[0m\u001b[0m\n\u001b[0;32m   5876\u001b[0m \u001b[1;33m\u001b[0m\u001b[0m\n",
      "\u001b[1;32m~\\anaconda3\\envs\\statapp\\lib\\site-packages\\pandas\\core\\internals\\managers.py\u001b[0m in \u001b[0;36mastype\u001b[1;34m(self, dtype, copy, errors)\u001b[0m\n\u001b[0;32m    629\u001b[0m         \u001b[0mself\u001b[0m\u001b[1;33m,\u001b[0m \u001b[0mdtype\u001b[0m\u001b[1;33m,\u001b[0m \u001b[0mcopy\u001b[0m\u001b[1;33m:\u001b[0m \u001b[0mbool\u001b[0m \u001b[1;33m=\u001b[0m \u001b[1;32mFalse\u001b[0m\u001b[1;33m,\u001b[0m \u001b[0merrors\u001b[0m\u001b[1;33m:\u001b[0m \u001b[0mstr\u001b[0m \u001b[1;33m=\u001b[0m \u001b[1;34m\"raise\"\u001b[0m\u001b[1;33m\u001b[0m\u001b[1;33m\u001b[0m\u001b[0m\n\u001b[0;32m    630\u001b[0m     ) -> \"BlockManager\":\n\u001b[1;32m--> 631\u001b[1;33m         \u001b[1;32mreturn\u001b[0m \u001b[0mself\u001b[0m\u001b[1;33m.\u001b[0m\u001b[0mapply\u001b[0m\u001b[1;33m(\u001b[0m\u001b[1;34m\"astype\"\u001b[0m\u001b[1;33m,\u001b[0m \u001b[0mdtype\u001b[0m\u001b[1;33m=\u001b[0m\u001b[0mdtype\u001b[0m\u001b[1;33m,\u001b[0m \u001b[0mcopy\u001b[0m\u001b[1;33m=\u001b[0m\u001b[0mcopy\u001b[0m\u001b[1;33m,\u001b[0m \u001b[0merrors\u001b[0m\u001b[1;33m=\u001b[0m\u001b[0merrors\u001b[0m\u001b[1;33m)\u001b[0m\u001b[1;33m\u001b[0m\u001b[1;33m\u001b[0m\u001b[0m\n\u001b[0m\u001b[0;32m    632\u001b[0m \u001b[1;33m\u001b[0m\u001b[0m\n\u001b[0;32m    633\u001b[0m     def convert(\n",
      "\u001b[1;32m~\\anaconda3\\envs\\statapp\\lib\\site-packages\\pandas\\core\\internals\\managers.py\u001b[0m in \u001b[0;36mapply\u001b[1;34m(self, f, align_keys, ignore_failures, **kwargs)\u001b[0m\n\u001b[0;32m    425\u001b[0m                     \u001b[0mapplied\u001b[0m \u001b[1;33m=\u001b[0m \u001b[0mb\u001b[0m\u001b[1;33m.\u001b[0m\u001b[0mapply\u001b[0m\u001b[1;33m(\u001b[0m\u001b[0mf\u001b[0m\u001b[1;33m,\u001b[0m \u001b[1;33m**\u001b[0m\u001b[0mkwargs\u001b[0m\u001b[1;33m)\u001b[0m\u001b[1;33m\u001b[0m\u001b[1;33m\u001b[0m\u001b[0m\n\u001b[0;32m    426\u001b[0m                 \u001b[1;32melse\u001b[0m\u001b[1;33m:\u001b[0m\u001b[1;33m\u001b[0m\u001b[1;33m\u001b[0m\u001b[0m\n\u001b[1;32m--> 427\u001b[1;33m                     \u001b[0mapplied\u001b[0m \u001b[1;33m=\u001b[0m \u001b[0mgetattr\u001b[0m\u001b[1;33m(\u001b[0m\u001b[0mb\u001b[0m\u001b[1;33m,\u001b[0m \u001b[0mf\u001b[0m\u001b[1;33m)\u001b[0m\u001b[1;33m(\u001b[0m\u001b[1;33m**\u001b[0m\u001b[0mkwargs\u001b[0m\u001b[1;33m)\u001b[0m\u001b[1;33m\u001b[0m\u001b[1;33m\u001b[0m\u001b[0m\n\u001b[0m\u001b[0;32m    428\u001b[0m             \u001b[1;32mexcept\u001b[0m \u001b[1;33m(\u001b[0m\u001b[0mTypeError\u001b[0m\u001b[1;33m,\u001b[0m \u001b[0mNotImplementedError\u001b[0m\u001b[1;33m)\u001b[0m\u001b[1;33m:\u001b[0m\u001b[1;33m\u001b[0m\u001b[1;33m\u001b[0m\u001b[0m\n\u001b[0;32m    429\u001b[0m                 \u001b[1;32mif\u001b[0m \u001b[1;32mnot\u001b[0m \u001b[0mignore_failures\u001b[0m\u001b[1;33m:\u001b[0m\u001b[1;33m\u001b[0m\u001b[1;33m\u001b[0m\u001b[0m\n",
      "\u001b[1;32m~\\anaconda3\\envs\\statapp\\lib\\site-packages\\pandas\\core\\internals\\blocks.py\u001b[0m in \u001b[0;36mastype\u001b[1;34m(self, dtype, copy, errors)\u001b[0m\n\u001b[0;32m    671\u001b[0m             \u001b[0mvals1d\u001b[0m \u001b[1;33m=\u001b[0m \u001b[0mvalues\u001b[0m\u001b[1;33m.\u001b[0m\u001b[0mravel\u001b[0m\u001b[1;33m(\u001b[0m\u001b[1;33m)\u001b[0m\u001b[1;33m\u001b[0m\u001b[1;33m\u001b[0m\u001b[0m\n\u001b[0;32m    672\u001b[0m             \u001b[1;32mtry\u001b[0m\u001b[1;33m:\u001b[0m\u001b[1;33m\u001b[0m\u001b[1;33m\u001b[0m\u001b[0m\n\u001b[1;32m--> 673\u001b[1;33m                 \u001b[0mvalues\u001b[0m \u001b[1;33m=\u001b[0m \u001b[0mastype_nansafe\u001b[0m\u001b[1;33m(\u001b[0m\u001b[0mvals1d\u001b[0m\u001b[1;33m,\u001b[0m \u001b[0mdtype\u001b[0m\u001b[1;33m,\u001b[0m \u001b[0mcopy\u001b[0m\u001b[1;33m=\u001b[0m\u001b[1;32mTrue\u001b[0m\u001b[1;33m)\u001b[0m\u001b[1;33m\u001b[0m\u001b[1;33m\u001b[0m\u001b[0m\n\u001b[0m\u001b[0;32m    674\u001b[0m             \u001b[1;32mexcept\u001b[0m \u001b[1;33m(\u001b[0m\u001b[0mValueError\u001b[0m\u001b[1;33m,\u001b[0m \u001b[0mTypeError\u001b[0m\u001b[1;33m)\u001b[0m\u001b[1;33m:\u001b[0m\u001b[1;33m\u001b[0m\u001b[1;33m\u001b[0m\u001b[0m\n\u001b[0;32m    675\u001b[0m                 \u001b[1;31m# e.g. astype_nansafe can fail on object-dtype of strings\u001b[0m\u001b[1;33m\u001b[0m\u001b[1;33m\u001b[0m\u001b[1;33m\u001b[0m\u001b[0m\n",
      "\u001b[1;32m~\\anaconda3\\envs\\statapp\\lib\\site-packages\\pandas\\core\\dtypes\\cast.py\u001b[0m in \u001b[0;36mastype_nansafe\u001b[1;34m(arr, dtype, copy, skipna)\u001b[0m\n\u001b[0;32m   1095\u001b[0m     \u001b[1;32mif\u001b[0m \u001b[0mcopy\u001b[0m \u001b[1;32mor\u001b[0m \u001b[0mis_object_dtype\u001b[0m\u001b[1;33m(\u001b[0m\u001b[0marr\u001b[0m\u001b[1;33m)\u001b[0m \u001b[1;32mor\u001b[0m \u001b[0mis_object_dtype\u001b[0m\u001b[1;33m(\u001b[0m\u001b[0mdtype\u001b[0m\u001b[1;33m)\u001b[0m\u001b[1;33m:\u001b[0m\u001b[1;33m\u001b[0m\u001b[1;33m\u001b[0m\u001b[0m\n\u001b[0;32m   1096\u001b[0m         \u001b[1;31m# Explicit copy, or required since NumPy can't view from / to object.\u001b[0m\u001b[1;33m\u001b[0m\u001b[1;33m\u001b[0m\u001b[1;33m\u001b[0m\u001b[0m\n\u001b[1;32m-> 1097\u001b[1;33m         \u001b[1;32mreturn\u001b[0m \u001b[0marr\u001b[0m\u001b[1;33m.\u001b[0m\u001b[0mastype\u001b[0m\u001b[1;33m(\u001b[0m\u001b[0mdtype\u001b[0m\u001b[1;33m,\u001b[0m \u001b[0mcopy\u001b[0m\u001b[1;33m=\u001b[0m\u001b[1;32mTrue\u001b[0m\u001b[1;33m)\u001b[0m\u001b[1;33m\u001b[0m\u001b[1;33m\u001b[0m\u001b[0m\n\u001b[0m\u001b[0;32m   1098\u001b[0m \u001b[1;33m\u001b[0m\u001b[0m\n\u001b[0;32m   1099\u001b[0m     \u001b[1;32mreturn\u001b[0m \u001b[0marr\u001b[0m\u001b[1;33m.\u001b[0m\u001b[0mview\u001b[0m\u001b[1;33m(\u001b[0m\u001b[0mdtype\u001b[0m\u001b[1;33m)\u001b[0m\u001b[1;33m\u001b[0m\u001b[1;33m\u001b[0m\u001b[0m\n",
      "\u001b[1;31mValueError\u001b[0m: could not convert string to float: '206000O'"
     ]
    }
   ],
   "source": [
    "df.astype({\"patent_class\": float, \"subclass\": float})"
   ]
  },
  {
   "source": [
    "* Lisser / au temps\n",
    "* Passer au log\n",
    "* Enlever les index\n",
    "* Normaliser\n",
    "* ACP\n",
    "* km.cover(n = 20, cov = 0.5)\n",
    "* km.map(ACP, data, cover)\n",
    "* Clustering\n",
    "* Créer le graph"
   ],
   "cell_type": "markdown",
   "metadata": {}
  },
  {
   "cell_type": "code",
   "execution_count": 45,
   "metadata": {},
   "outputs": [
    {
     "output_type": "execute_result",
     "data": {
      "text/plain": [
       "         index   patnum       fdate       idate       pdate   permno  \\\n",
       "20000  5703160  7289102  06/06/2001  10/30/2007  02/21/2002  10107.0   \n",
       "20001  5698136  7284056  02/13/2002  10/16/2007  04/10/2003  10107.0   \n",
       "20002  5657515  7243239  06/28/2002  07/10/2007  01/15/2004  10107.0   \n",
       "20003  5722402  7308408  09/29/2004  12/11/2007              10107.0   \n",
       "20004  5698282  7284202  02/14/2000  10/16/2007              10107.0   \n",
       "20005  5701173  7287106  12/15/2004  10/23/2007  05/05/2005  10107.0   \n",
       "20006  5686691  7272557  05/01/2003  09/18/2007  11/04/2004  10107.0   \n",
       "20007  5713368  7299351  09/19/2001  11/20/2007  03/20/2003  10107.0   \n",
       "20008  5707053  7293013  10/19/2004  11/06/2007              10107.0   \n",
       "20009  5707086  7293046  12/23/2004  11/06/2007  06/30/2005  10107.0   \n",
       "\n",
       "      patent_class subclass  ncites        xi  year  Npats          Tcw  \\\n",
       "20000        345.0  156000O    11.0  48.29374  2007   1632  4798.287629   \n",
       "20001        709.0  227000O     3.0  20.73327  2007   1632  4798.287629   \n",
       "20002        713.0  184000O     4.0  38.78856  2007   1632  4798.287629   \n",
       "20003        704.0  266000O     4.0  50.25811  2007   1632  4798.287629   \n",
       "20004        715.0  744000O    10.0  20.73327  2007   1632  4798.287629   \n",
       "20005        710.0  057000O     1.0  31.18564  2007   1632  4798.287629   \n",
       "20006        704.0  230000O     1.0  44.12155  2007   1632  4798.287629   \n",
       "20007        713.0  156000O    13.0  45.34085  2007   1632  4798.287629   \n",
       "20008        707.0  694000O     5.0  21.28750  2007   1632  4798.287629   \n",
       "20009        707.0  613000O     0.0  21.28750  2007   1632  4798.287629   \n",
       "\n",
       "                Tsm       tcw       tsm       _merge  \n",
       "20000  61577.590671  0.075957  0.974776  matched (3)  \n",
       "20001  61577.590671  0.075957  0.974776  matched (3)  \n",
       "20002  61577.590671  0.075957  0.974776  matched (3)  \n",
       "20003  61577.590671  0.075957  0.974776  matched (3)  \n",
       "20004  61577.590671  0.075957  0.974776  matched (3)  \n",
       "20005  61577.590671  0.075957  0.974776  matched (3)  \n",
       "20006  61577.590671  0.075957  0.974776  matched (3)  \n",
       "20007  61577.590671  0.075957  0.974776  matched (3)  \n",
       "20008  61577.590671  0.075957  0.974776  matched (3)  \n",
       "20009  61577.590671  0.075957  0.974776  matched (3)  "
      ],
      "text/html": "<div>\n<style scoped>\n    .dataframe tbody tr th:only-of-type {\n        vertical-align: middle;\n    }\n\n    .dataframe tbody tr th {\n        vertical-align: top;\n    }\n\n    .dataframe thead th {\n        text-align: right;\n    }\n</style>\n<table border=\"1\" class=\"dataframe\">\n  <thead>\n    <tr style=\"text-align: right;\">\n      <th></th>\n      <th>index</th>\n      <th>patnum</th>\n      <th>fdate</th>\n      <th>idate</th>\n      <th>pdate</th>\n      <th>permno</th>\n      <th>patent_class</th>\n      <th>subclass</th>\n      <th>ncites</th>\n      <th>xi</th>\n      <th>year</th>\n      <th>Npats</th>\n      <th>Tcw</th>\n      <th>Tsm</th>\n      <th>tcw</th>\n      <th>tsm</th>\n      <th>_merge</th>\n    </tr>\n  </thead>\n  <tbody>\n    <tr>\n      <th>20000</th>\n      <td>5703160</td>\n      <td>7289102</td>\n      <td>06/06/2001</td>\n      <td>10/30/2007</td>\n      <td>02/21/2002</td>\n      <td>10107.0</td>\n      <td>345.0</td>\n      <td>156000O</td>\n      <td>11.0</td>\n      <td>48.29374</td>\n      <td>2007</td>\n      <td>1632</td>\n      <td>4798.287629</td>\n      <td>61577.590671</td>\n      <td>0.075957</td>\n      <td>0.974776</td>\n      <td>matched (3)</td>\n    </tr>\n    <tr>\n      <th>20001</th>\n      <td>5698136</td>\n      <td>7284056</td>\n      <td>02/13/2002</td>\n      <td>10/16/2007</td>\n      <td>04/10/2003</td>\n      <td>10107.0</td>\n      <td>709.0</td>\n      <td>227000O</td>\n      <td>3.0</td>\n      <td>20.73327</td>\n      <td>2007</td>\n      <td>1632</td>\n      <td>4798.287629</td>\n      <td>61577.590671</td>\n      <td>0.075957</td>\n      <td>0.974776</td>\n      <td>matched (3)</td>\n    </tr>\n    <tr>\n      <th>20002</th>\n      <td>5657515</td>\n      <td>7243239</td>\n      <td>06/28/2002</td>\n      <td>07/10/2007</td>\n      <td>01/15/2004</td>\n      <td>10107.0</td>\n      <td>713.0</td>\n      <td>184000O</td>\n      <td>4.0</td>\n      <td>38.78856</td>\n      <td>2007</td>\n      <td>1632</td>\n      <td>4798.287629</td>\n      <td>61577.590671</td>\n      <td>0.075957</td>\n      <td>0.974776</td>\n      <td>matched (3)</td>\n    </tr>\n    <tr>\n      <th>20003</th>\n      <td>5722402</td>\n      <td>7308408</td>\n      <td>09/29/2004</td>\n      <td>12/11/2007</td>\n      <td></td>\n      <td>10107.0</td>\n      <td>704.0</td>\n      <td>266000O</td>\n      <td>4.0</td>\n      <td>50.25811</td>\n      <td>2007</td>\n      <td>1632</td>\n      <td>4798.287629</td>\n      <td>61577.590671</td>\n      <td>0.075957</td>\n      <td>0.974776</td>\n      <td>matched (3)</td>\n    </tr>\n    <tr>\n      <th>20004</th>\n      <td>5698282</td>\n      <td>7284202</td>\n      <td>02/14/2000</td>\n      <td>10/16/2007</td>\n      <td></td>\n      <td>10107.0</td>\n      <td>715.0</td>\n      <td>744000O</td>\n      <td>10.0</td>\n      <td>20.73327</td>\n      <td>2007</td>\n      <td>1632</td>\n      <td>4798.287629</td>\n      <td>61577.590671</td>\n      <td>0.075957</td>\n      <td>0.974776</td>\n      <td>matched (3)</td>\n    </tr>\n    <tr>\n      <th>20005</th>\n      <td>5701173</td>\n      <td>7287106</td>\n      <td>12/15/2004</td>\n      <td>10/23/2007</td>\n      <td>05/05/2005</td>\n      <td>10107.0</td>\n      <td>710.0</td>\n      <td>057000O</td>\n      <td>1.0</td>\n      <td>31.18564</td>\n      <td>2007</td>\n      <td>1632</td>\n      <td>4798.287629</td>\n      <td>61577.590671</td>\n      <td>0.075957</td>\n      <td>0.974776</td>\n      <td>matched (3)</td>\n    </tr>\n    <tr>\n      <th>20006</th>\n      <td>5686691</td>\n      <td>7272557</td>\n      <td>05/01/2003</td>\n      <td>09/18/2007</td>\n      <td>11/04/2004</td>\n      <td>10107.0</td>\n      <td>704.0</td>\n      <td>230000O</td>\n      <td>1.0</td>\n      <td>44.12155</td>\n      <td>2007</td>\n      <td>1632</td>\n      <td>4798.287629</td>\n      <td>61577.590671</td>\n      <td>0.075957</td>\n      <td>0.974776</td>\n      <td>matched (3)</td>\n    </tr>\n    <tr>\n      <th>20007</th>\n      <td>5713368</td>\n      <td>7299351</td>\n      <td>09/19/2001</td>\n      <td>11/20/2007</td>\n      <td>03/20/2003</td>\n      <td>10107.0</td>\n      <td>713.0</td>\n      <td>156000O</td>\n      <td>13.0</td>\n      <td>45.34085</td>\n      <td>2007</td>\n      <td>1632</td>\n      <td>4798.287629</td>\n      <td>61577.590671</td>\n      <td>0.075957</td>\n      <td>0.974776</td>\n      <td>matched (3)</td>\n    </tr>\n    <tr>\n      <th>20008</th>\n      <td>5707053</td>\n      <td>7293013</td>\n      <td>10/19/2004</td>\n      <td>11/06/2007</td>\n      <td></td>\n      <td>10107.0</td>\n      <td>707.0</td>\n      <td>694000O</td>\n      <td>5.0</td>\n      <td>21.28750</td>\n      <td>2007</td>\n      <td>1632</td>\n      <td>4798.287629</td>\n      <td>61577.590671</td>\n      <td>0.075957</td>\n      <td>0.974776</td>\n      <td>matched (3)</td>\n    </tr>\n    <tr>\n      <th>20009</th>\n      <td>5707086</td>\n      <td>7293046</td>\n      <td>12/23/2004</td>\n      <td>11/06/2007</td>\n      <td>06/30/2005</td>\n      <td>10107.0</td>\n      <td>707.0</td>\n      <td>613000O</td>\n      <td>0.0</td>\n      <td>21.28750</td>\n      <td>2007</td>\n      <td>1632</td>\n      <td>4798.287629</td>\n      <td>61577.590671</td>\n      <td>0.075957</td>\n      <td>0.974776</td>\n      <td>matched (3)</td>\n    </tr>\n  </tbody>\n</table>\n</div>"
     },
     "metadata": {},
     "execution_count": 45
    }
   ],
   "source": [
    "patents_firm_merge.iloc[20000:20010]"
   ]
  },
  {
   "cell_type": "code",
   "execution_count": 15,
   "metadata": {},
   "outputs": [
    {
     "output_type": "execute_result",
     "data": {
      "text/plain": [
       "Index(['index', 'patnum', 'fdate', 'idate', 'pdate', 'permno', 'patent_class',\n",
       "       'subclass', 'ncites', 'xi', 'year', 'Npats', 'Tcw', 'Tsm', 'tcw', 'tsm',\n",
       "       '_merge'],\n",
       "      dtype='object')"
      ]
     },
     "metadata": {},
     "execution_count": 15
    }
   ],
   "source": [
    "patents_firm_merge.columns"
   ]
  },
  {
   "cell_type": "code",
   "execution_count": 10,
   "metadata": {},
   "outputs": [
    {
     "output_type": "execute_result",
     "data": {
      "text/plain": [
       "index           1844881\n",
       "patnum          1844881\n",
       "fdate           1844881\n",
       "idate           1844881\n",
       "pdate           1844881\n",
       "permno          1844881\n",
       "patent_class    1844881\n",
       "subclass        1844881\n",
       "ncites          1801879\n",
       "xi              1801879\n",
       "year            1844881\n",
       "Npats           1844881\n",
       "Tcw             1844881\n",
       "Tsm             1844881\n",
       "tcw             1669418\n",
       "tsm             1669418\n",
       "_merge          1844881\n",
       "dtype: int64"
      ]
     },
     "metadata": {},
     "execution_count": 10
    }
   ],
   "source": [
    "patents_firm_merge.count()"
   ]
  },
  {
   "cell_type": "code",
   "execution_count": 15,
   "metadata": {},
   "outputs": [
    {
     "output_type": "execute_result",
     "data": {
      "text/plain": [
       "12490.0    72500\n",
       "12060.0    61116\n",
       "64231.0    51964\n",
       "21152.0    40937\n",
       "53727.0    37800\n",
       "           ...  \n",
       "18200.0        1\n",
       "50024.0        1\n",
       "80248.0        1\n",
       "80235.0        1\n",
       "69243.0        1\n",
       "Name: permno, Length: 6995, dtype: int64"
      ]
     },
     "metadata": {},
     "execution_count": 15
    }
   ],
   "source": [
    "patents_firm_merge[\"permno\"].value_counts()"
   ]
  },
  {
   "cell_type": "code",
   "execution_count": null,
   "metadata": {},
   "outputs": [],
   "source": [
    "data_patent_level = pd.read_stata(r\"..\\Data\\Patent_level_data\\data_patent_level.dta\")"
   ]
  },
  {
   "cell_type": "code",
   "execution_count": null,
   "metadata": {},
   "outputs": [],
   "source": [
    "data_patent_level.head()"
   ]
  },
  {
   "cell_type": "code",
   "execution_count": null,
   "metadata": {},
   "outputs": [],
   "source": [
    "data_patent_level.describe()"
   ]
  },
  {
   "cell_type": "code",
   "execution_count": 16,
   "metadata": {},
   "outputs": [],
   "source": [
    "data_patent_level = pd.read_stata(r\"..\\Data\\Patent_level_data\\data_patent_level.dta\")"
   ]
  },
  {
   "cell_type": "code",
   "execution_count": 17,
   "metadata": {},
   "outputs": [
    {
     "output_type": "execute_result",
     "data": {
      "text/plain": [
       "    patnum       fdate       idate pdate   permno patent_class subclass  \\\n",
       "0  1568124  06/12/1920  01/05/1926        12503.0         56.0  006000O   \n",
       "1  1568134  09/09/1922  01/05/1926        12503.0        239.0  584000O   \n",
       "2  1568142  08/13/1920  01/05/1926        10401.0        333.0  168000O   \n",
       "3  1568163  05/03/1920  01/05/1926        12503.0         56.0  011500O   \n",
       "4  1568338  11/02/1923  01/05/1926        14875.0        400.0  689000O   \n",
       "\n",
       "   ncites        xi  year  Npats         Tcw         Tsm  forward_citations  \\\n",
       "0     0.0  0.161681  1926     15   25.664662    4.485454                NaN   \n",
       "1     0.0  0.161681  1926     15   25.664662    4.485454                NaN   \n",
       "2     1.0  1.625674  1926    430  871.180249  187.894016                NaN   \n",
       "3     1.0  0.161681  1926     15   25.664662    4.485454                NaN   \n",
       "4     3.0  0.163435  1926    104  134.871391    5.036761                NaN   \n",
       "\n",
       "   backward_citations  \n",
       "0                 NaN  \n",
       "1                 NaN  \n",
       "2                 1.0  \n",
       "3                 NaN  \n",
       "4                 3.0  "
      ],
      "text/html": "<div>\n<style scoped>\n    .dataframe tbody tr th:only-of-type {\n        vertical-align: middle;\n    }\n\n    .dataframe tbody tr th {\n        vertical-align: top;\n    }\n\n    .dataframe thead th {\n        text-align: right;\n    }\n</style>\n<table border=\"1\" class=\"dataframe\">\n  <thead>\n    <tr style=\"text-align: right;\">\n      <th></th>\n      <th>patnum</th>\n      <th>fdate</th>\n      <th>idate</th>\n      <th>pdate</th>\n      <th>permno</th>\n      <th>patent_class</th>\n      <th>subclass</th>\n      <th>ncites</th>\n      <th>xi</th>\n      <th>year</th>\n      <th>Npats</th>\n      <th>Tcw</th>\n      <th>Tsm</th>\n      <th>forward_citations</th>\n      <th>backward_citations</th>\n    </tr>\n  </thead>\n  <tbody>\n    <tr>\n      <th>0</th>\n      <td>1568124</td>\n      <td>06/12/1920</td>\n      <td>01/05/1926</td>\n      <td></td>\n      <td>12503.0</td>\n      <td>56.0</td>\n      <td>006000O</td>\n      <td>0.0</td>\n      <td>0.161681</td>\n      <td>1926</td>\n      <td>15</td>\n      <td>25.664662</td>\n      <td>4.485454</td>\n      <td>NaN</td>\n      <td>NaN</td>\n    </tr>\n    <tr>\n      <th>1</th>\n      <td>1568134</td>\n      <td>09/09/1922</td>\n      <td>01/05/1926</td>\n      <td></td>\n      <td>12503.0</td>\n      <td>239.0</td>\n      <td>584000O</td>\n      <td>0.0</td>\n      <td>0.161681</td>\n      <td>1926</td>\n      <td>15</td>\n      <td>25.664662</td>\n      <td>4.485454</td>\n      <td>NaN</td>\n      <td>NaN</td>\n    </tr>\n    <tr>\n      <th>2</th>\n      <td>1568142</td>\n      <td>08/13/1920</td>\n      <td>01/05/1926</td>\n      <td></td>\n      <td>10401.0</td>\n      <td>333.0</td>\n      <td>168000O</td>\n      <td>1.0</td>\n      <td>1.625674</td>\n      <td>1926</td>\n      <td>430</td>\n      <td>871.180249</td>\n      <td>187.894016</td>\n      <td>NaN</td>\n      <td>1.0</td>\n    </tr>\n    <tr>\n      <th>3</th>\n      <td>1568163</td>\n      <td>05/03/1920</td>\n      <td>01/05/1926</td>\n      <td></td>\n      <td>12503.0</td>\n      <td>56.0</td>\n      <td>011500O</td>\n      <td>1.0</td>\n      <td>0.161681</td>\n      <td>1926</td>\n      <td>15</td>\n      <td>25.664662</td>\n      <td>4.485454</td>\n      <td>NaN</td>\n      <td>NaN</td>\n    </tr>\n    <tr>\n      <th>4</th>\n      <td>1568338</td>\n      <td>11/02/1923</td>\n      <td>01/05/1926</td>\n      <td></td>\n      <td>14875.0</td>\n      <td>400.0</td>\n      <td>689000O</td>\n      <td>3.0</td>\n      <td>0.163435</td>\n      <td>1926</td>\n      <td>104</td>\n      <td>134.871391</td>\n      <td>5.036761</td>\n      <td>NaN</td>\n      <td>3.0</td>\n    </tr>\n  </tbody>\n</table>\n</div>"
     },
     "metadata": {},
     "execution_count": 17
    }
   ],
   "source": [
    "data_patent_level.head()"
   ]
  },
  {
   "cell_type": "code",
   "execution_count": null,
   "metadata": {},
   "outputs": [],
   "source": [
    "data_patent_level.describe()"
   ]
  },
  {
   "cell_type": "code",
   "execution_count": null,
   "metadata": {},
   "outputs": [],
   "source": [
    "cites = pd.read_stata(r\"..\\Data\\Patent_level_data\\USPatent_1926-2010\\cites\\cites.dta\")"
   ]
  },
  {
   "cell_type": "code",
   "execution_count": null,
   "metadata": {},
   "outputs": [],
   "source": [
    "cites.head()"
   ]
  },
  {
   "cell_type": "code",
   "execution_count": null,
   "metadata": {},
   "outputs": [],
   "source": [
    "cites.describe()"
   ]
  },
  {
   "cell_type": "code",
   "execution_count": null,
   "metadata": {},
   "outputs": [],
   "source": [
    "firm_innovation_v2 = pd.read_stata(r\"..\\Data\\Patent_level_data\\USPatent_1926-2010\\firm_innovation\\firm_innovation_v2.dta\")"
   ]
  },
  {
   "cell_type": "code",
   "execution_count": null,
   "metadata": {},
   "outputs": [],
   "source": [
    "firm_innovation_v2.head()"
   ]
  },
  {
   "cell_type": "code",
   "execution_count": null,
   "metadata": {},
   "outputs": [],
   "source": [
    "firm_innovation_v2.describe()"
   ]
  },
  {
   "cell_type": "code",
   "execution_count": null,
   "metadata": {},
   "outputs": [],
   "source": [
    "patents_xi = pd.read_stata(r\"..\\Data\\Patent_level_data\\USPatent_1926-2010\\patents_xi\\patents_xi.dta\")"
   ]
  },
  {
   "cell_type": "code",
   "execution_count": null,
   "metadata": {},
   "outputs": [],
   "source": [
    "patents_xi.head()"
   ]
  },
  {
   "cell_type": "code",
   "execution_count": null,
   "metadata": {},
   "outputs": [],
   "source": [
    "patents_xi.describe()"
   ]
  },
  {
   "cell_type": "code",
   "execution_count": null,
   "metadata": {},
   "outputs": [],
   "source": [
    "patent_values = pd.read_stata(r\"..\\Data\\Patent_level_data\\Patent_CRSP_match_1929-2017\\patent_values\\patent_values.dta\")"
   ]
  },
  {
   "cell_type": "code",
   "execution_count": null,
   "metadata": {},
   "outputs": [],
   "source": [
    "patent_values.head()"
   ]
  },
  {
   "cell_type": "code",
   "execution_count": null,
   "metadata": {},
   "outputs": [],
   "source": [
    "patent_values.describe()"
   ]
  },
  {
   "source": [
    "# Import the class\n",
    "import kmapper as km\n",
    "from kmapper import jupyter # Creates custom CSS full-size Jupyter screen\n",
    "\n",
    "# Some sample data\n",
    "from sklearn import datasets\n",
    "data, labels = datasets.make_circles(n_samples=5000, noise=0.03, factor=0.3)\n",
    "\n",
    "# Initialize\n",
    "mapper = km.KeplerMapper(verbose=1)\n",
    "\n",
    "# Fit to and transform the data\n",
    "projected_data = mapper.fit_transform(data, projection=[0,1]) # X-Y axis\n",
    "\n",
    "# Create dictionary called 'graph' with nodes, edges and meta-information\n",
    "graph = mapper.map(projected_data, data)\n",
    "\n",
    "# Visualize it\n",
    "html = mapper.visualize(graph, path_html=\"make_circles_keplermapper_output.html\",\n",
    "                 title=\"make_circles(n_samples=5000, noise=0.03, factor=0.3)\")\n",
    "\n",
    "# Inline display\n",
    "# jupyter.display(path_html=\"http://mlwave.github.io/tda/word2vec-gender-bias.html\")\n",
    "jupyter.display(path_html=\"make_circles_keplermapper_output.html\")"
   ],
   "cell_type": "code",
   "metadata": {},
   "execution_count": 11,
   "outputs": [
    {
     "output_type": "stream",
     "name": "stdout",
     "text": [
      "KeplerMapper(verbose=1)\n",
      "..Composing projection pipeline of length 1:\n",
      "\tProjections: [0, 1]\n",
      "\tDistance matrices: False\n",
      "\tScalers: MinMaxScaler()\n",
      "..Projecting on data shaped (5000, 2)\n",
      "\n",
      "..Projecting data using: [0, 1]\n",
      "\n",
      "..Scaling with: MinMaxScaler()\n",
      "\n",
      "Mapping on data shaped (5000, 2) using lens shaped (5000, 2)\n",
      "\n",
      "Creating 100 hypercubes.\n",
      "\n",
      "Created 93 edges and 57 nodes in 0:00:00.135998.\n",
      "Wrote visualization to: make_circles_keplermapper_output.html\n"
     ]
    },
    {
     "output_type": "display_data",
     "data": {
      "text/plain": "<IPython.core.display.HTML object>",
      "text/html": "<style>\n        .container { width:100% !important; }\n        .output_scroll {height: 800px !important;}\n        </style>"
     },
     "metadata": {}
    },
    {
     "output_type": "display_data",
     "data": {
      "text/plain": "<IPython.core.display.HTML object>",
      "text/html": "<iframe src=make_circles_keplermapper_output.html width=100%% height=800 frameBorder=\"0\"></iframe>"
     },
     "metadata": {}
    }
   ]
  },
  {
   "source": [
    "data\n"
   ],
   "cell_type": "code",
   "metadata": {},
   "execution_count": 6,
   "outputs": [
    {
     "output_type": "execute_result",
     "data": {
      "text/plain": [
       "array([[ 0.20432314,  0.22339408],\n",
       "       [-0.89852117,  0.54866288],\n",
       "       [ 0.31528727,  0.02173862],\n",
       "       ...,\n",
       "       [ 0.50171767,  0.81474048],\n",
       "       [ 0.22024521, -0.19627437],\n",
       "       [-0.70816586,  0.68560701]])"
      ]
     },
     "metadata": {},
     "execution_count": 6
    }
   ]
  },
  {
   "cell_type": "code",
   "execution_count": 7,
   "metadata": {},
   "outputs": [
    {
     "output_type": "execute_result",
     "data": {
      "text/plain": [
       "array([[0.59212259, 0.60168439],\n",
       "       [0.07926769, 0.75177098],\n",
       "       [0.64372416, 0.50863587],\n",
       "       ...,\n",
       "       [0.73041975, 0.87454537],\n",
       "       [0.59952682, 0.4080396 ],\n",
       "       [0.16778849, 0.81496018]])"
      ]
     },
     "metadata": {},
     "execution_count": 7
    }
   ],
   "source": [
    "projected_data"
   ]
  }
 ]
}