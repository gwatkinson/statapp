{
 "metadata": {
  "language_info": {
   "codemirror_mode": {
    "name": "ipython",
    "version": 3
   },
   "file_extension": ".py",
   "mimetype": "text/x-python",
   "name": "python",
   "nbconvert_exporter": "python",
   "pygments_lexer": "ipython3",
   "version": "3.7.6-final"
  },
  "orig_nbformat": 2,
  "kernelspec": {
   "name": "python3",
   "display_name": "Python 3",
   "language": "python"
  }
 },
 "nbformat": 4,
 "nbformat_minor": 2,
 "cells": [
  {
   "cell_type": "code",
   "execution_count": 1,
   "metadata": {},
   "outputs": [],
   "source": [
    "import pandas as pd"
   ]
  },
  {
   "cell_type": "code",
   "execution_count": 2,
   "metadata": {},
   "outputs": [],
   "source": [
    "data_firm_level = pd.read_stata(r\"..\\Data\\Firm_patent\\data_firm_level.dta\")"
   ]
  },
  {
   "cell_type": "code",
   "execution_count": 3,
   "metadata": {},
   "outputs": [
    {
     "output_type": "execute_result",
     "data": {
      "text/plain": [
       "     year   gvkey   fyr     csho      ebit    ebitda      emp     pstk  \\\n",
       "0  1994.0   10846  12.0  363.661  3856.000  4977.000  304.000      NaN   \n",
       "1  1995.0   10846  12.0  363.800  3986.000  5242.000  308.000      NaN   \n",
       "2  1996.0   10846  12.0  363.816  4473.000  5794.000  306.000  153.435   \n",
       "3  1996.0  153351  12.0   15.669    -3.810    -3.766    0.012    0.001   \n",
       "4  1996.0   27961  12.0      NaN    15.514    20.698    0.915    0.000   \n",
       "\n",
       "        sale      xrd  ...       rivao      rintan          ract  \\\n",
       "0  45419.000  831.000  ...  148.300720    0.000000  15795.056641   \n",
       "1  49732.000  923.000  ...  169.000000    0.000000  16314.000000   \n",
       "2  52161.000  934.000  ...  187.683273    0.000000  16892.472656   \n",
       "3      2.000    3.344  ...    0.000000    0.000000     47.806450   \n",
       "4    170.821    0.900  ...    0.000000  144.434006     57.626587   \n",
       "\n",
       "          value       value_e       value_d       qkstock       tobinq  \\\n",
       "0           NaN           NaN -10743.563477  19477.857422          NaN   \n",
       "1           NaN           NaN -11067.000000  20419.000000          NaN   \n",
       "2  51197.640625  62475.253906 -11277.615234  19883.673828     2.574858   \n",
       "3    124.507561    172.314011    -47.806450      0.085044  1464.037354   \n",
       "4           NaN           NaN     98.776138    204.719437          NaN   \n",
       "\n",
       "      tobinq_e    tobinq_d  \n",
       "0          NaN   -0.551578  \n",
       "1          NaN   -0.541995  \n",
       "2     3.142038   -0.567180  \n",
       "3  2026.175293 -562.137939  \n",
       "4          NaN    0.482495  \n",
       "\n",
       "[5 rows x 49 columns]"
      ],
      "text/html": "<div>\n<style scoped>\n    .dataframe tbody tr th:only-of-type {\n        vertical-align: middle;\n    }\n\n    .dataframe tbody tr th {\n        vertical-align: top;\n    }\n\n    .dataframe thead th {\n        text-align: right;\n    }\n</style>\n<table border=\"1\" class=\"dataframe\">\n  <thead>\n    <tr style=\"text-align: right;\">\n      <th></th>\n      <th>year</th>\n      <th>gvkey</th>\n      <th>fyr</th>\n      <th>csho</th>\n      <th>ebit</th>\n      <th>ebitda</th>\n      <th>emp</th>\n      <th>pstk</th>\n      <th>sale</th>\n      <th>xrd</th>\n      <th>...</th>\n      <th>rivao</th>\n      <th>rintan</th>\n      <th>ract</th>\n      <th>value</th>\n      <th>value_e</th>\n      <th>value_d</th>\n      <th>qkstock</th>\n      <th>tobinq</th>\n      <th>tobinq_e</th>\n      <th>tobinq_d</th>\n    </tr>\n  </thead>\n  <tbody>\n    <tr>\n      <th>0</th>\n      <td>1994.0</td>\n      <td>10846</td>\n      <td>12.0</td>\n      <td>363.661</td>\n      <td>3856.000</td>\n      <td>4977.000</td>\n      <td>304.000</td>\n      <td>NaN</td>\n      <td>45419.000</td>\n      <td>831.000</td>\n      <td>...</td>\n      <td>148.300720</td>\n      <td>0.000000</td>\n      <td>15795.056641</td>\n      <td>NaN</td>\n      <td>NaN</td>\n      <td>-10743.563477</td>\n      <td>19477.857422</td>\n      <td>NaN</td>\n      <td>NaN</td>\n      <td>-0.551578</td>\n    </tr>\n    <tr>\n      <th>1</th>\n      <td>1995.0</td>\n      <td>10846</td>\n      <td>12.0</td>\n      <td>363.800</td>\n      <td>3986.000</td>\n      <td>5242.000</td>\n      <td>308.000</td>\n      <td>NaN</td>\n      <td>49732.000</td>\n      <td>923.000</td>\n      <td>...</td>\n      <td>169.000000</td>\n      <td>0.000000</td>\n      <td>16314.000000</td>\n      <td>NaN</td>\n      <td>NaN</td>\n      <td>-11067.000000</td>\n      <td>20419.000000</td>\n      <td>NaN</td>\n      <td>NaN</td>\n      <td>-0.541995</td>\n    </tr>\n    <tr>\n      <th>2</th>\n      <td>1996.0</td>\n      <td>10846</td>\n      <td>12.0</td>\n      <td>363.816</td>\n      <td>4473.000</td>\n      <td>5794.000</td>\n      <td>306.000</td>\n      <td>153.435</td>\n      <td>52161.000</td>\n      <td>934.000</td>\n      <td>...</td>\n      <td>187.683273</td>\n      <td>0.000000</td>\n      <td>16892.472656</td>\n      <td>51197.640625</td>\n      <td>62475.253906</td>\n      <td>-11277.615234</td>\n      <td>19883.673828</td>\n      <td>2.574858</td>\n      <td>3.142038</td>\n      <td>-0.567180</td>\n    </tr>\n    <tr>\n      <th>3</th>\n      <td>1996.0</td>\n      <td>153351</td>\n      <td>12.0</td>\n      <td>15.669</td>\n      <td>-3.810</td>\n      <td>-3.766</td>\n      <td>0.012</td>\n      <td>0.001</td>\n      <td>2.000</td>\n      <td>3.344</td>\n      <td>...</td>\n      <td>0.000000</td>\n      <td>0.000000</td>\n      <td>47.806450</td>\n      <td>124.507561</td>\n      <td>172.314011</td>\n      <td>-47.806450</td>\n      <td>0.085044</td>\n      <td>1464.037354</td>\n      <td>2026.175293</td>\n      <td>-562.137939</td>\n    </tr>\n    <tr>\n      <th>4</th>\n      <td>1996.0</td>\n      <td>27961</td>\n      <td>12.0</td>\n      <td>NaN</td>\n      <td>15.514</td>\n      <td>20.698</td>\n      <td>0.915</td>\n      <td>0.000</td>\n      <td>170.821</td>\n      <td>0.900</td>\n      <td>...</td>\n      <td>0.000000</td>\n      <td>144.434006</td>\n      <td>57.626587</td>\n      <td>NaN</td>\n      <td>NaN</td>\n      <td>98.776138</td>\n      <td>204.719437</td>\n      <td>NaN</td>\n      <td>NaN</td>\n      <td>0.482495</td>\n    </tr>\n  </tbody>\n</table>\n<p>5 rows × 49 columns</p>\n</div>"
     },
     "metadata": {},
     "execution_count": 3
    }
   ],
   "source": [
    "data_firm_level.head()"
   ]
  },
  {
   "cell_type": "code",
   "execution_count": 4,
   "metadata": {},
   "outputs": [
    {
     "output_type": "execute_result",
     "data": {
      "text/plain": [
       "               year          gvkey           fyr          csho          ebit  \\\n",
       "count  12987.000000   12987.000000  12987.000000  12972.000000  12987.000000   \n",
       "mean    2004.331023   56854.403480     10.026334    233.957002    588.087075   \n",
       "std        3.404230   58906.719922      3.233852    739.313699   2444.137458   \n",
       "min     1994.000000    1013.000000      1.000000      0.001000 -10537.000000   \n",
       "25%     2001.000000    9555.000000      9.000000     21.664750     -9.135000   \n",
       "50%     2004.000000   28194.000000     12.000000     44.654000     14.081000   \n",
       "75%     2007.000000  112040.000000     12.000000    125.452750    175.212500   \n",
       "max     2010.000000  282553.000000     12.000000  10862.000000  50182.000000   \n",
       "\n",
       "             ebitda           emp          pstk           sale           xrd  \\\n",
       "count  12959.000000  12987.000000  12984.000000   12987.000000  12987.000000   \n",
       "mean     890.304981     14.793719      5.594837    5033.167998    234.863520   \n",
       "std     3469.930124     64.137153     63.099025   19075.794789    815.738421   \n",
       "min    -5062.000000      0.000000   -109.000000      -0.294000     -0.100000   \n",
       "25%       -3.541000      0.251000      0.000000      51.786000      8.181000   \n",
       "50%       30.055000      1.119000      0.000000     283.267000     27.436000   \n",
       "75%      278.050000      7.347000      0.000000    1808.393000     91.027000   \n",
       "max    62540.000000   2100.000000   2500.000000  420016.000000  12183.000000   \n",
       "\n",
       "       ...          rivao         rintan           ract          value  \\\n",
       "count  ...   12249.000000   12987.000000   12863.000000   12830.000000   \n",
       "mean   ...     313.752075     962.701477    1666.342529    4952.295898   \n",
       "std    ...    3014.001953    5316.743652    5330.618652   18031.783203   \n",
       "min    ...       0.000000       0.000000       0.005036   -9883.476562   \n",
       "25%    ...       0.000000       0.831040      49.265190      58.652008   \n",
       "50%    ...       0.000000      24.231129     182.555359     311.854706   \n",
       "75%    ...      16.659876     265.783340     793.660278    1763.491455   \n",
       "max    ...  129072.296875  147387.968750  117406.539062  403882.062500   \n",
       "\n",
       "             value_e       value_d        qkstock        tobinq      tobinq_e  \\\n",
       "count   12955.000000  12862.000000   11092.000000  10954.000000  1.105200e+04   \n",
       "mean     5887.724121   -655.460754    2973.737061     23.008007  2.859210e+01   \n",
       "std     21045.695312   3363.937988   13321.155273    636.676392  7.020701e+02   \n",
       "min         0.000015 -56679.519531       0.000000  -1510.426758  1.849711e-07   \n",
       "25%       114.832901   -323.524628      17.262848      0.868188  1.472013e+00   \n",
       "50%       456.005768    -86.995613      95.920517      2.141841  3.271380e+00   \n",
       "75%      2294.695312    -18.521852     690.134949      6.176023  8.552984e+00   \n",
       "max    462959.437500  50982.308594  268091.593750  63620.855469  6.986986e+04   \n",
       "\n",
       "           tobinq_d  \n",
       "count  10985.000000  \n",
       "mean      -5.800142  \n",
       "std       90.511459  \n",
       "min    -6249.000488  \n",
       "25%       -2.302479  \n",
       "50%       -0.945903  \n",
       "75%       -0.329962  \n",
       "max      589.391296  \n",
       "\n",
       "[8 rows x 37 columns]"
      ],
      "text/html": "<div>\n<style scoped>\n    .dataframe tbody tr th:only-of-type {\n        vertical-align: middle;\n    }\n\n    .dataframe tbody tr th {\n        vertical-align: top;\n    }\n\n    .dataframe thead th {\n        text-align: right;\n    }\n</style>\n<table border=\"1\" class=\"dataframe\">\n  <thead>\n    <tr style=\"text-align: right;\">\n      <th></th>\n      <th>year</th>\n      <th>gvkey</th>\n      <th>fyr</th>\n      <th>csho</th>\n      <th>ebit</th>\n      <th>ebitda</th>\n      <th>emp</th>\n      <th>pstk</th>\n      <th>sale</th>\n      <th>xrd</th>\n      <th>...</th>\n      <th>rivao</th>\n      <th>rintan</th>\n      <th>ract</th>\n      <th>value</th>\n      <th>value_e</th>\n      <th>value_d</th>\n      <th>qkstock</th>\n      <th>tobinq</th>\n      <th>tobinq_e</th>\n      <th>tobinq_d</th>\n    </tr>\n  </thead>\n  <tbody>\n    <tr>\n      <th>count</th>\n      <td>12987.000000</td>\n      <td>12987.000000</td>\n      <td>12987.000000</td>\n      <td>12972.000000</td>\n      <td>12987.000000</td>\n      <td>12959.000000</td>\n      <td>12987.000000</td>\n      <td>12984.000000</td>\n      <td>12987.000000</td>\n      <td>12987.000000</td>\n      <td>...</td>\n      <td>12249.000000</td>\n      <td>12987.000000</td>\n      <td>12863.000000</td>\n      <td>12830.000000</td>\n      <td>12955.000000</td>\n      <td>12862.000000</td>\n      <td>11092.000000</td>\n      <td>10954.000000</td>\n      <td>1.105200e+04</td>\n      <td>10985.000000</td>\n    </tr>\n    <tr>\n      <th>mean</th>\n      <td>2004.331023</td>\n      <td>56854.403480</td>\n      <td>10.026334</td>\n      <td>233.957002</td>\n      <td>588.087075</td>\n      <td>890.304981</td>\n      <td>14.793719</td>\n      <td>5.594837</td>\n      <td>5033.167998</td>\n      <td>234.863520</td>\n      <td>...</td>\n      <td>313.752075</td>\n      <td>962.701477</td>\n      <td>1666.342529</td>\n      <td>4952.295898</td>\n      <td>5887.724121</td>\n      <td>-655.460754</td>\n      <td>2973.737061</td>\n      <td>23.008007</td>\n      <td>2.859210e+01</td>\n      <td>-5.800142</td>\n    </tr>\n    <tr>\n      <th>std</th>\n      <td>3.404230</td>\n      <td>58906.719922</td>\n      <td>3.233852</td>\n      <td>739.313699</td>\n      <td>2444.137458</td>\n      <td>3469.930124</td>\n      <td>64.137153</td>\n      <td>63.099025</td>\n      <td>19075.794789</td>\n      <td>815.738421</td>\n      <td>...</td>\n      <td>3014.001953</td>\n      <td>5316.743652</td>\n      <td>5330.618652</td>\n      <td>18031.783203</td>\n      <td>21045.695312</td>\n      <td>3363.937988</td>\n      <td>13321.155273</td>\n      <td>636.676392</td>\n      <td>7.020701e+02</td>\n      <td>90.511459</td>\n    </tr>\n    <tr>\n      <th>min</th>\n      <td>1994.000000</td>\n      <td>1013.000000</td>\n      <td>1.000000</td>\n      <td>0.001000</td>\n      <td>-10537.000000</td>\n      <td>-5062.000000</td>\n      <td>0.000000</td>\n      <td>-109.000000</td>\n      <td>-0.294000</td>\n      <td>-0.100000</td>\n      <td>...</td>\n      <td>0.000000</td>\n      <td>0.000000</td>\n      <td>0.005036</td>\n      <td>-9883.476562</td>\n      <td>0.000015</td>\n      <td>-56679.519531</td>\n      <td>0.000000</td>\n      <td>-1510.426758</td>\n      <td>1.849711e-07</td>\n      <td>-6249.000488</td>\n    </tr>\n    <tr>\n      <th>25%</th>\n      <td>2001.000000</td>\n      <td>9555.000000</td>\n      <td>9.000000</td>\n      <td>21.664750</td>\n      <td>-9.135000</td>\n      <td>-3.541000</td>\n      <td>0.251000</td>\n      <td>0.000000</td>\n      <td>51.786000</td>\n      <td>8.181000</td>\n      <td>...</td>\n      <td>0.000000</td>\n      <td>0.831040</td>\n      <td>49.265190</td>\n      <td>58.652008</td>\n      <td>114.832901</td>\n      <td>-323.524628</td>\n      <td>17.262848</td>\n      <td>0.868188</td>\n      <td>1.472013e+00</td>\n      <td>-2.302479</td>\n    </tr>\n    <tr>\n      <th>50%</th>\n      <td>2004.000000</td>\n      <td>28194.000000</td>\n      <td>12.000000</td>\n      <td>44.654000</td>\n      <td>14.081000</td>\n      <td>30.055000</td>\n      <td>1.119000</td>\n      <td>0.000000</td>\n      <td>283.267000</td>\n      <td>27.436000</td>\n      <td>...</td>\n      <td>0.000000</td>\n      <td>24.231129</td>\n      <td>182.555359</td>\n      <td>311.854706</td>\n      <td>456.005768</td>\n      <td>-86.995613</td>\n      <td>95.920517</td>\n      <td>2.141841</td>\n      <td>3.271380e+00</td>\n      <td>-0.945903</td>\n    </tr>\n    <tr>\n      <th>75%</th>\n      <td>2007.000000</td>\n      <td>112040.000000</td>\n      <td>12.000000</td>\n      <td>125.452750</td>\n      <td>175.212500</td>\n      <td>278.050000</td>\n      <td>7.347000</td>\n      <td>0.000000</td>\n      <td>1808.393000</td>\n      <td>91.027000</td>\n      <td>...</td>\n      <td>16.659876</td>\n      <td>265.783340</td>\n      <td>793.660278</td>\n      <td>1763.491455</td>\n      <td>2294.695312</td>\n      <td>-18.521852</td>\n      <td>690.134949</td>\n      <td>6.176023</td>\n      <td>8.552984e+00</td>\n      <td>-0.329962</td>\n    </tr>\n    <tr>\n      <th>max</th>\n      <td>2010.000000</td>\n      <td>282553.000000</td>\n      <td>12.000000</td>\n      <td>10862.000000</td>\n      <td>50182.000000</td>\n      <td>62540.000000</td>\n      <td>2100.000000</td>\n      <td>2500.000000</td>\n      <td>420016.000000</td>\n      <td>12183.000000</td>\n      <td>...</td>\n      <td>129072.296875</td>\n      <td>147387.968750</td>\n      <td>117406.539062</td>\n      <td>403882.062500</td>\n      <td>462959.437500</td>\n      <td>50982.308594</td>\n      <td>268091.593750</td>\n      <td>63620.855469</td>\n      <td>6.986986e+04</td>\n      <td>589.391296</td>\n    </tr>\n  </tbody>\n</table>\n<p>8 rows × 37 columns</p>\n</div>"
     },
     "metadata": {},
     "execution_count": 4
    }
   ],
   "source": [
    "data_firm_level.describe()"
   ]
  },
  {
   "cell_type": "code",
   "execution_count": 5,
   "metadata": {},
   "outputs": [],
   "source": [
    "patents_firm_merge = pd.read_stata(r\"..\\Data\\Firm_patent\\patents_firm_merge.dta\")"
   ]
  },
  {
   "cell_type": "code",
   "execution_count": 6,
   "metadata": {},
   "outputs": [
    {
     "output_type": "execute_result",
     "data": {
      "text/plain": [
       "   index   patnum       fdate       idate pdate   permno patent_class  \\\n",
       "0  37352  1605417  10/23/1923  11/02/1926        10006.0        403.0   \n",
       "1  11188  1579234  05/14/1923  04/06/1926        10006.0         74.0   \n",
       "2  37345  1605410  04/09/1926  11/02/1926        10006.0        295.0   \n",
       "3  37377  1605442  03/24/1922  11/02/1926        10006.0        164.0   \n",
       "4  37350  1605415  01/22/1923  11/02/1926        10006.0        267.0   \n",
       "\n",
       "  subclass  ncites        xi  year  Npats        Tcw       Tsm  tcw  tsm  \\\n",
       "0  206000O     2.0  0.046886  1926     10  18.980768  0.375693  NaN  NaN   \n",
       "1  503000O     4.0  0.031358  1926     10  18.980768  0.375693  NaN  NaN   \n",
       "2  042000O     1.0  0.046886  1926     10  18.980768  0.375693  NaN  NaN   \n",
       "3  168000O     0.0  0.046886  1926     10  18.980768  0.375693  NaN  NaN   \n",
       "4  086000O     2.0  0.046886  1926     10  18.980768  0.375693  NaN  NaN   \n",
       "\n",
       "        _merge  \n",
       "0  matched (3)  \n",
       "1  matched (3)  \n",
       "2  matched (3)  \n",
       "3  matched (3)  \n",
       "4  matched (3)  "
      ],
      "text/html": "<div>\n<style scoped>\n    .dataframe tbody tr th:only-of-type {\n        vertical-align: middle;\n    }\n\n    .dataframe tbody tr th {\n        vertical-align: top;\n    }\n\n    .dataframe thead th {\n        text-align: right;\n    }\n</style>\n<table border=\"1\" class=\"dataframe\">\n  <thead>\n    <tr style=\"text-align: right;\">\n      <th></th>\n      <th>index</th>\n      <th>patnum</th>\n      <th>fdate</th>\n      <th>idate</th>\n      <th>pdate</th>\n      <th>permno</th>\n      <th>patent_class</th>\n      <th>subclass</th>\n      <th>ncites</th>\n      <th>xi</th>\n      <th>year</th>\n      <th>Npats</th>\n      <th>Tcw</th>\n      <th>Tsm</th>\n      <th>tcw</th>\n      <th>tsm</th>\n      <th>_merge</th>\n    </tr>\n  </thead>\n  <tbody>\n    <tr>\n      <th>0</th>\n      <td>37352</td>\n      <td>1605417</td>\n      <td>10/23/1923</td>\n      <td>11/02/1926</td>\n      <td></td>\n      <td>10006.0</td>\n      <td>403.0</td>\n      <td>206000O</td>\n      <td>2.0</td>\n      <td>0.046886</td>\n      <td>1926</td>\n      <td>10</td>\n      <td>18.980768</td>\n      <td>0.375693</td>\n      <td>NaN</td>\n      <td>NaN</td>\n      <td>matched (3)</td>\n    </tr>\n    <tr>\n      <th>1</th>\n      <td>11188</td>\n      <td>1579234</td>\n      <td>05/14/1923</td>\n      <td>04/06/1926</td>\n      <td></td>\n      <td>10006.0</td>\n      <td>74.0</td>\n      <td>503000O</td>\n      <td>4.0</td>\n      <td>0.031358</td>\n      <td>1926</td>\n      <td>10</td>\n      <td>18.980768</td>\n      <td>0.375693</td>\n      <td>NaN</td>\n      <td>NaN</td>\n      <td>matched (3)</td>\n    </tr>\n    <tr>\n      <th>2</th>\n      <td>37345</td>\n      <td>1605410</td>\n      <td>04/09/1926</td>\n      <td>11/02/1926</td>\n      <td></td>\n      <td>10006.0</td>\n      <td>295.0</td>\n      <td>042000O</td>\n      <td>1.0</td>\n      <td>0.046886</td>\n      <td>1926</td>\n      <td>10</td>\n      <td>18.980768</td>\n      <td>0.375693</td>\n      <td>NaN</td>\n      <td>NaN</td>\n      <td>matched (3)</td>\n    </tr>\n    <tr>\n      <th>3</th>\n      <td>37377</td>\n      <td>1605442</td>\n      <td>03/24/1922</td>\n      <td>11/02/1926</td>\n      <td></td>\n      <td>10006.0</td>\n      <td>164.0</td>\n      <td>168000O</td>\n      <td>0.0</td>\n      <td>0.046886</td>\n      <td>1926</td>\n      <td>10</td>\n      <td>18.980768</td>\n      <td>0.375693</td>\n      <td>NaN</td>\n      <td>NaN</td>\n      <td>matched (3)</td>\n    </tr>\n    <tr>\n      <th>4</th>\n      <td>37350</td>\n      <td>1605415</td>\n      <td>01/22/1923</td>\n      <td>11/02/1926</td>\n      <td></td>\n      <td>10006.0</td>\n      <td>267.0</td>\n      <td>086000O</td>\n      <td>2.0</td>\n      <td>0.046886</td>\n      <td>1926</td>\n      <td>10</td>\n      <td>18.980768</td>\n      <td>0.375693</td>\n      <td>NaN</td>\n      <td>NaN</td>\n      <td>matched (3)</td>\n    </tr>\n  </tbody>\n</table>\n</div>"
     },
     "metadata": {},
     "execution_count": 6
    }
   ],
   "source": [
    "patents_firm_merge.head()"
   ]
  },
  {
   "cell_type": "code",
   "execution_count": 7,
   "metadata": {},
   "outputs": [
    {
     "output_type": "execute_result",
     "data": {
      "text/plain": [
       "              index        patnum        permno        ncites            xi  \\\n",
       "count  1.844881e+06  1.844881e+06  1.844881e+06  1.801879e+06  1.801879e+06   \n",
       "mean   3.579055e+06  5.156201e+06  3.466204e+04  1.025662e+01  1.629867e+01   \n",
       "std    1.659959e+06  1.666433e+06  2.549417e+04  2.013455e+01  5.985516e+01   \n",
       "min    8.400000e+01  1.568124e+06  1.000600e+04  0.000000e+00  0.000000e+00   \n",
       "25%    2.205231e+06  3.777131e+06  1.409000e+04  1.000000e+00  4.743302e-01   \n",
       "50%    3.658791e+06  5.233054e+06  2.234900e+04  5.000000e+00  2.941844e+00   \n",
       "75%    5.078303e+06  6.662437e+06  5.372700e+04  1.100000e+01  1.177292e+01   \n",
       "max    6.240105e+06  7.827616e+06  9.328700e+04  2.424000e+03  6.208359e+03   \n",
       "\n",
       "               year         Npats           Tcw           Tsm           tcw  \\\n",
       "count  1.844881e+06  1.844881e+06  1.844881e+06  1.844881e+06  1.669418e+06   \n",
       "mean   1.986901e+03  5.552485e+02  1.173347e+03  6.289900e+03  1.582112e-01   \n",
       "std    1.998026e+01  8.358954e+02  1.781197e+03  1.733616e+04  4.999385e-01   \n",
       "min    1.926000e+03  1.000000e+00  1.000000e+00  0.000000e+00  4.921287e-07   \n",
       "25%    1.973000e+03  5.600000e+01  1.149980e+02  7.486781e+01  2.816062e-02   \n",
       "50%    1.993000e+03  2.220000e+02  4.673977e+02  5.376674e+02  6.449876e-02   \n",
       "75%    2.003000e+03  6.290000e+02  1.385416e+03  3.596585e+03  1.460098e-01   \n",
       "max    2.010000e+03  5.052000e+03  1.016166e+04  2.595804e+05  7.655125e+01   \n",
       "\n",
       "                tsm  \n",
       "count  1.669418e+06  \n",
       "mean   3.115258e-01  \n",
       "std    5.596020e-01  \n",
       "min    0.000000e+00  \n",
       "25%    3.964551e-02  \n",
       "50%    1.495097e-01  \n",
       "75%    3.382327e-01  \n",
       "max    2.226794e+01  "
      ],
      "text/html": "<div>\n<style scoped>\n    .dataframe tbody tr th:only-of-type {\n        vertical-align: middle;\n    }\n\n    .dataframe tbody tr th {\n        vertical-align: top;\n    }\n\n    .dataframe thead th {\n        text-align: right;\n    }\n</style>\n<table border=\"1\" class=\"dataframe\">\n  <thead>\n    <tr style=\"text-align: right;\">\n      <th></th>\n      <th>index</th>\n      <th>patnum</th>\n      <th>permno</th>\n      <th>ncites</th>\n      <th>xi</th>\n      <th>year</th>\n      <th>Npats</th>\n      <th>Tcw</th>\n      <th>Tsm</th>\n      <th>tcw</th>\n      <th>tsm</th>\n    </tr>\n  </thead>\n  <tbody>\n    <tr>\n      <th>count</th>\n      <td>1.844881e+06</td>\n      <td>1.844881e+06</td>\n      <td>1.844881e+06</td>\n      <td>1.801879e+06</td>\n      <td>1.801879e+06</td>\n      <td>1.844881e+06</td>\n      <td>1.844881e+06</td>\n      <td>1.844881e+06</td>\n      <td>1.844881e+06</td>\n      <td>1.669418e+06</td>\n      <td>1.669418e+06</td>\n    </tr>\n    <tr>\n      <th>mean</th>\n      <td>3.579055e+06</td>\n      <td>5.156201e+06</td>\n      <td>3.466204e+04</td>\n      <td>1.025662e+01</td>\n      <td>1.629867e+01</td>\n      <td>1.986901e+03</td>\n      <td>5.552485e+02</td>\n      <td>1.173347e+03</td>\n      <td>6.289900e+03</td>\n      <td>1.582112e-01</td>\n      <td>3.115258e-01</td>\n    </tr>\n    <tr>\n      <th>std</th>\n      <td>1.659959e+06</td>\n      <td>1.666433e+06</td>\n      <td>2.549417e+04</td>\n      <td>2.013455e+01</td>\n      <td>5.985516e+01</td>\n      <td>1.998026e+01</td>\n      <td>8.358954e+02</td>\n      <td>1.781197e+03</td>\n      <td>1.733616e+04</td>\n      <td>4.999385e-01</td>\n      <td>5.596020e-01</td>\n    </tr>\n    <tr>\n      <th>min</th>\n      <td>8.400000e+01</td>\n      <td>1.568124e+06</td>\n      <td>1.000600e+04</td>\n      <td>0.000000e+00</td>\n      <td>0.000000e+00</td>\n      <td>1.926000e+03</td>\n      <td>1.000000e+00</td>\n      <td>1.000000e+00</td>\n      <td>0.000000e+00</td>\n      <td>4.921287e-07</td>\n      <td>0.000000e+00</td>\n    </tr>\n    <tr>\n      <th>25%</th>\n      <td>2.205231e+06</td>\n      <td>3.777131e+06</td>\n      <td>1.409000e+04</td>\n      <td>1.000000e+00</td>\n      <td>4.743302e-01</td>\n      <td>1.973000e+03</td>\n      <td>5.600000e+01</td>\n      <td>1.149980e+02</td>\n      <td>7.486781e+01</td>\n      <td>2.816062e-02</td>\n      <td>3.964551e-02</td>\n    </tr>\n    <tr>\n      <th>50%</th>\n      <td>3.658791e+06</td>\n      <td>5.233054e+06</td>\n      <td>2.234900e+04</td>\n      <td>5.000000e+00</td>\n      <td>2.941844e+00</td>\n      <td>1.993000e+03</td>\n      <td>2.220000e+02</td>\n      <td>4.673977e+02</td>\n      <td>5.376674e+02</td>\n      <td>6.449876e-02</td>\n      <td>1.495097e-01</td>\n    </tr>\n    <tr>\n      <th>75%</th>\n      <td>5.078303e+06</td>\n      <td>6.662437e+06</td>\n      <td>5.372700e+04</td>\n      <td>1.100000e+01</td>\n      <td>1.177292e+01</td>\n      <td>2.003000e+03</td>\n      <td>6.290000e+02</td>\n      <td>1.385416e+03</td>\n      <td>3.596585e+03</td>\n      <td>1.460098e-01</td>\n      <td>3.382327e-01</td>\n    </tr>\n    <tr>\n      <th>max</th>\n      <td>6.240105e+06</td>\n      <td>7.827616e+06</td>\n      <td>9.328700e+04</td>\n      <td>2.424000e+03</td>\n      <td>6.208359e+03</td>\n      <td>2.010000e+03</td>\n      <td>5.052000e+03</td>\n      <td>1.016166e+04</td>\n      <td>2.595804e+05</td>\n      <td>7.655125e+01</td>\n      <td>2.226794e+01</td>\n    </tr>\n  </tbody>\n</table>\n</div>"
     },
     "metadata": {},
     "execution_count": 7
    }
   ],
   "source": [
    "patents_firm_merge.describe()"
   ]
  },
  {
   "cell_type": "code",
   "execution_count": 8,
   "metadata": {},
   "outputs": [],
   "source": [
    "data_patent_level = pd.read_stata(r\"..\\Data\\Patent_level_data\\data_patent_level.dta\")"
   ]
  },
  {
   "cell_type": "code",
   "execution_count": 9,
   "metadata": {},
   "outputs": [
    {
     "output_type": "execute_result",
     "data": {
      "text/plain": [
       "    patnum       fdate       idate pdate   permno patent_class subclass  \\\n",
       "0  1568124  06/12/1920  01/05/1926        12503.0         56.0  006000O   \n",
       "1  1568134  09/09/1922  01/05/1926        12503.0        239.0  584000O   \n",
       "2  1568142  08/13/1920  01/05/1926        10401.0        333.0  168000O   \n",
       "3  1568163  05/03/1920  01/05/1926        12503.0         56.0  011500O   \n",
       "4  1568338  11/02/1923  01/05/1926        14875.0        400.0  689000O   \n",
       "\n",
       "   ncites        xi  year  Npats         Tcw         Tsm  forward_citations  \\\n",
       "0     0.0  0.161681  1926     15   25.664662    4.485454                NaN   \n",
       "1     0.0  0.161681  1926     15   25.664662    4.485454                NaN   \n",
       "2     1.0  1.625674  1926    430  871.180249  187.894016                NaN   \n",
       "3     1.0  0.161681  1926     15   25.664662    4.485454                NaN   \n",
       "4     3.0  0.163435  1926    104  134.871391    5.036761                NaN   \n",
       "\n",
       "   backward_citations  \n",
       "0                 NaN  \n",
       "1                 NaN  \n",
       "2                 1.0  \n",
       "3                 NaN  \n",
       "4                 3.0  "
      ],
      "text/html": "<div>\n<style scoped>\n    .dataframe tbody tr th:only-of-type {\n        vertical-align: middle;\n    }\n\n    .dataframe tbody tr th {\n        vertical-align: top;\n    }\n\n    .dataframe thead th {\n        text-align: right;\n    }\n</style>\n<table border=\"1\" class=\"dataframe\">\n  <thead>\n    <tr style=\"text-align: right;\">\n      <th></th>\n      <th>patnum</th>\n      <th>fdate</th>\n      <th>idate</th>\n      <th>pdate</th>\n      <th>permno</th>\n      <th>patent_class</th>\n      <th>subclass</th>\n      <th>ncites</th>\n      <th>xi</th>\n      <th>year</th>\n      <th>Npats</th>\n      <th>Tcw</th>\n      <th>Tsm</th>\n      <th>forward_citations</th>\n      <th>backward_citations</th>\n    </tr>\n  </thead>\n  <tbody>\n    <tr>\n      <th>0</th>\n      <td>1568124</td>\n      <td>06/12/1920</td>\n      <td>01/05/1926</td>\n      <td></td>\n      <td>12503.0</td>\n      <td>56.0</td>\n      <td>006000O</td>\n      <td>0.0</td>\n      <td>0.161681</td>\n      <td>1926</td>\n      <td>15</td>\n      <td>25.664662</td>\n      <td>4.485454</td>\n      <td>NaN</td>\n      <td>NaN</td>\n    </tr>\n    <tr>\n      <th>1</th>\n      <td>1568134</td>\n      <td>09/09/1922</td>\n      <td>01/05/1926</td>\n      <td></td>\n      <td>12503.0</td>\n      <td>239.0</td>\n      <td>584000O</td>\n      <td>0.0</td>\n      <td>0.161681</td>\n      <td>1926</td>\n      <td>15</td>\n      <td>25.664662</td>\n      <td>4.485454</td>\n      <td>NaN</td>\n      <td>NaN</td>\n    </tr>\n    <tr>\n      <th>2</th>\n      <td>1568142</td>\n      <td>08/13/1920</td>\n      <td>01/05/1926</td>\n      <td></td>\n      <td>10401.0</td>\n      <td>333.0</td>\n      <td>168000O</td>\n      <td>1.0</td>\n      <td>1.625674</td>\n      <td>1926</td>\n      <td>430</td>\n      <td>871.180249</td>\n      <td>187.894016</td>\n      <td>NaN</td>\n      <td>1.0</td>\n    </tr>\n    <tr>\n      <th>3</th>\n      <td>1568163</td>\n      <td>05/03/1920</td>\n      <td>01/05/1926</td>\n      <td></td>\n      <td>12503.0</td>\n      <td>56.0</td>\n      <td>011500O</td>\n      <td>1.0</td>\n      <td>0.161681</td>\n      <td>1926</td>\n      <td>15</td>\n      <td>25.664662</td>\n      <td>4.485454</td>\n      <td>NaN</td>\n      <td>NaN</td>\n    </tr>\n    <tr>\n      <th>4</th>\n      <td>1568338</td>\n      <td>11/02/1923</td>\n      <td>01/05/1926</td>\n      <td></td>\n      <td>14875.0</td>\n      <td>400.0</td>\n      <td>689000O</td>\n      <td>3.0</td>\n      <td>0.163435</td>\n      <td>1926</td>\n      <td>104</td>\n      <td>134.871391</td>\n      <td>5.036761</td>\n      <td>NaN</td>\n      <td>3.0</td>\n    </tr>\n  </tbody>\n</table>\n</div>"
     },
     "metadata": {},
     "execution_count": 9
    }
   ],
   "source": [
    "data_patent_level.head()"
   ]
  },
  {
   "cell_type": "code",
   "execution_count": 10,
   "metadata": {},
   "outputs": [
    {
     "output_type": "execute_result",
     "data": {
      "text/plain": [
       "             patnum        permno        ncites            xi          year  \\\n",
       "count  1.801308e+06  1.801308e+06  1.801308e+06  1.801308e+06  1.801308e+06   \n",
       "mean   5.167546e+06  3.484628e+04  1.025952e+01  1.629619e+01  1.986999e+03   \n",
       "std    1.669579e+06  2.552283e+04  2.013693e+01  5.985719e+01  2.005846e+01   \n",
       "min    1.568124e+06  1.000600e+04  0.000000e+00  0.000000e+00  1.926000e+03   \n",
       "25%    3.794678e+06  1.409000e+04  1.000000e+00  4.742682e-01  1.974000e+03   \n",
       "50%    5.261326e+06  2.256800e+04  5.000000e+00  2.940681e+00  1.993000e+03   \n",
       "75%    6.674794e+06  5.418100e+04  1.100000e+01  1.176838e+01  2.004000e+03   \n",
       "max    7.827616e+06  9.328700e+04  2.424000e+03  6.208359e+03  2.010000e+03   \n",
       "\n",
       "              Npats           Tcw           Tsm  forward_citations  \\\n",
       "count  1.801308e+06  1.801308e+06  1.801308e+06       1.531473e+06   \n",
       "mean   5.628692e+02  1.189529e+03  6.391305e+03       1.088757e+01   \n",
       "std    8.414713e+02  1.792490e+03  1.749233e+04       2.161838e+01   \n",
       "min    1.000000e+00  1.000000e+00  0.000000e+00       1.000000e+00   \n",
       "25%    5.700000e+01  1.167448e+02  7.528275e+01       3.000000e+00   \n",
       "50%    2.260000e+02  4.795861e+02  5.444828e+02       6.000000e+00   \n",
       "75%    6.420000e+02  1.429433e+03  3.657433e+03       1.100000e+01   \n",
       "max    5.052000e+03  1.016166e+04  2.595804e+05       1.176000e+03   \n",
       "\n",
       "       backward_citations  \n",
       "count        1.502493e+06  \n",
       "mean         1.190791e+01  \n",
       "std          2.145773e+01  \n",
       "min          1.000000e+00  \n",
       "25%          2.000000e+00  \n",
       "50%          6.000000e+00  \n",
       "75%          1.300000e+01  \n",
       "max          2.413000e+03  "
      ],
      "text/html": "<div>\n<style scoped>\n    .dataframe tbody tr th:only-of-type {\n        vertical-align: middle;\n    }\n\n    .dataframe tbody tr th {\n        vertical-align: top;\n    }\n\n    .dataframe thead th {\n        text-align: right;\n    }\n</style>\n<table border=\"1\" class=\"dataframe\">\n  <thead>\n    <tr style=\"text-align: right;\">\n      <th></th>\n      <th>patnum</th>\n      <th>permno</th>\n      <th>ncites</th>\n      <th>xi</th>\n      <th>year</th>\n      <th>Npats</th>\n      <th>Tcw</th>\n      <th>Tsm</th>\n      <th>forward_citations</th>\n      <th>backward_citations</th>\n    </tr>\n  </thead>\n  <tbody>\n    <tr>\n      <th>count</th>\n      <td>1.801308e+06</td>\n      <td>1.801308e+06</td>\n      <td>1.801308e+06</td>\n      <td>1.801308e+06</td>\n      <td>1.801308e+06</td>\n      <td>1.801308e+06</td>\n      <td>1.801308e+06</td>\n      <td>1.801308e+06</td>\n      <td>1.531473e+06</td>\n      <td>1.502493e+06</td>\n    </tr>\n    <tr>\n      <th>mean</th>\n      <td>5.167546e+06</td>\n      <td>3.484628e+04</td>\n      <td>1.025952e+01</td>\n      <td>1.629619e+01</td>\n      <td>1.986999e+03</td>\n      <td>5.628692e+02</td>\n      <td>1.189529e+03</td>\n      <td>6.391305e+03</td>\n      <td>1.088757e+01</td>\n      <td>1.190791e+01</td>\n    </tr>\n    <tr>\n      <th>std</th>\n      <td>1.669579e+06</td>\n      <td>2.552283e+04</td>\n      <td>2.013693e+01</td>\n      <td>5.985719e+01</td>\n      <td>2.005846e+01</td>\n      <td>8.414713e+02</td>\n      <td>1.792490e+03</td>\n      <td>1.749233e+04</td>\n      <td>2.161838e+01</td>\n      <td>2.145773e+01</td>\n    </tr>\n    <tr>\n      <th>min</th>\n      <td>1.568124e+06</td>\n      <td>1.000600e+04</td>\n      <td>0.000000e+00</td>\n      <td>0.000000e+00</td>\n      <td>1.926000e+03</td>\n      <td>1.000000e+00</td>\n      <td>1.000000e+00</td>\n      <td>0.000000e+00</td>\n      <td>1.000000e+00</td>\n      <td>1.000000e+00</td>\n    </tr>\n    <tr>\n      <th>25%</th>\n      <td>3.794678e+06</td>\n      <td>1.409000e+04</td>\n      <td>1.000000e+00</td>\n      <td>4.742682e-01</td>\n      <td>1.974000e+03</td>\n      <td>5.700000e+01</td>\n      <td>1.167448e+02</td>\n      <td>7.528275e+01</td>\n      <td>3.000000e+00</td>\n      <td>2.000000e+00</td>\n    </tr>\n    <tr>\n      <th>50%</th>\n      <td>5.261326e+06</td>\n      <td>2.256800e+04</td>\n      <td>5.000000e+00</td>\n      <td>2.940681e+00</td>\n      <td>1.993000e+03</td>\n      <td>2.260000e+02</td>\n      <td>4.795861e+02</td>\n      <td>5.444828e+02</td>\n      <td>6.000000e+00</td>\n      <td>6.000000e+00</td>\n    </tr>\n    <tr>\n      <th>75%</th>\n      <td>6.674794e+06</td>\n      <td>5.418100e+04</td>\n      <td>1.100000e+01</td>\n      <td>1.176838e+01</td>\n      <td>2.004000e+03</td>\n      <td>6.420000e+02</td>\n      <td>1.429433e+03</td>\n      <td>3.657433e+03</td>\n      <td>1.100000e+01</td>\n      <td>1.300000e+01</td>\n    </tr>\n    <tr>\n      <th>max</th>\n      <td>7.827616e+06</td>\n      <td>9.328700e+04</td>\n      <td>2.424000e+03</td>\n      <td>6.208359e+03</td>\n      <td>2.010000e+03</td>\n      <td>5.052000e+03</td>\n      <td>1.016166e+04</td>\n      <td>2.595804e+05</td>\n      <td>1.176000e+03</td>\n      <td>2.413000e+03</td>\n    </tr>\n  </tbody>\n</table>\n</div>"
     },
     "metadata": {},
     "execution_count": 10
    }
   ],
   "source": [
    "data_patent_level.describe()"
   ]
  },
  {
   "cell_type": "code",
   "execution_count": 25,
   "metadata": {},
   "outputs": [],
   "source": [
    "data_patent_level = pd.read_stata(r\"..\\Data\\Patent_level_data\\data_patent_level.dta\")"
   ]
  },
  {
   "cell_type": "code",
   "execution_count": 12,
   "metadata": {},
   "outputs": [
    {
     "output_type": "execute_result",
     "data": {
      "text/plain": [
       "    patnum       fdate       idate pdate   permno patent_class subclass  \\\n",
       "0  1568124  06/12/1920  01/05/1926        12503.0         56.0  006000O   \n",
       "1  1568134  09/09/1922  01/05/1926        12503.0        239.0  584000O   \n",
       "2  1568142  08/13/1920  01/05/1926        10401.0        333.0  168000O   \n",
       "3  1568163  05/03/1920  01/05/1926        12503.0         56.0  011500O   \n",
       "4  1568338  11/02/1923  01/05/1926        14875.0        400.0  689000O   \n",
       "\n",
       "   ncites        xi  year  Npats         Tcw         Tsm  forward_citations  \\\n",
       "0     0.0  0.161681  1926     15   25.664662    4.485454                NaN   \n",
       "1     0.0  0.161681  1926     15   25.664662    4.485454                NaN   \n",
       "2     1.0  1.625674  1926    430  871.180249  187.894016                NaN   \n",
       "3     1.0  0.161681  1926     15   25.664662    4.485454                NaN   \n",
       "4     3.0  0.163435  1926    104  134.871391    5.036761                NaN   \n",
       "\n",
       "   backward_citations  \n",
       "0                 NaN  \n",
       "1                 NaN  \n",
       "2                 1.0  \n",
       "3                 NaN  \n",
       "4                 3.0  "
      ],
      "text/html": "<div>\n<style scoped>\n    .dataframe tbody tr th:only-of-type {\n        vertical-align: middle;\n    }\n\n    .dataframe tbody tr th {\n        vertical-align: top;\n    }\n\n    .dataframe thead th {\n        text-align: right;\n    }\n</style>\n<table border=\"1\" class=\"dataframe\">\n  <thead>\n    <tr style=\"text-align: right;\">\n      <th></th>\n      <th>patnum</th>\n      <th>fdate</th>\n      <th>idate</th>\n      <th>pdate</th>\n      <th>permno</th>\n      <th>patent_class</th>\n      <th>subclass</th>\n      <th>ncites</th>\n      <th>xi</th>\n      <th>year</th>\n      <th>Npats</th>\n      <th>Tcw</th>\n      <th>Tsm</th>\n      <th>forward_citations</th>\n      <th>backward_citations</th>\n    </tr>\n  </thead>\n  <tbody>\n    <tr>\n      <th>0</th>\n      <td>1568124</td>\n      <td>06/12/1920</td>\n      <td>01/05/1926</td>\n      <td></td>\n      <td>12503.0</td>\n      <td>56.0</td>\n      <td>006000O</td>\n      <td>0.0</td>\n      <td>0.161681</td>\n      <td>1926</td>\n      <td>15</td>\n      <td>25.664662</td>\n      <td>4.485454</td>\n      <td>NaN</td>\n      <td>NaN</td>\n    </tr>\n    <tr>\n      <th>1</th>\n      <td>1568134</td>\n      <td>09/09/1922</td>\n      <td>01/05/1926</td>\n      <td></td>\n      <td>12503.0</td>\n      <td>239.0</td>\n      <td>584000O</td>\n      <td>0.0</td>\n      <td>0.161681</td>\n      <td>1926</td>\n      <td>15</td>\n      <td>25.664662</td>\n      <td>4.485454</td>\n      <td>NaN</td>\n      <td>NaN</td>\n    </tr>\n    <tr>\n      <th>2</th>\n      <td>1568142</td>\n      <td>08/13/1920</td>\n      <td>01/05/1926</td>\n      <td></td>\n      <td>10401.0</td>\n      <td>333.0</td>\n      <td>168000O</td>\n      <td>1.0</td>\n      <td>1.625674</td>\n      <td>1926</td>\n      <td>430</td>\n      <td>871.180249</td>\n      <td>187.894016</td>\n      <td>NaN</td>\n      <td>1.0</td>\n    </tr>\n    <tr>\n      <th>3</th>\n      <td>1568163</td>\n      <td>05/03/1920</td>\n      <td>01/05/1926</td>\n      <td></td>\n      <td>12503.0</td>\n      <td>56.0</td>\n      <td>011500O</td>\n      <td>1.0</td>\n      <td>0.161681</td>\n      <td>1926</td>\n      <td>15</td>\n      <td>25.664662</td>\n      <td>4.485454</td>\n      <td>NaN</td>\n      <td>NaN</td>\n    </tr>\n    <tr>\n      <th>4</th>\n      <td>1568338</td>\n      <td>11/02/1923</td>\n      <td>01/05/1926</td>\n      <td></td>\n      <td>14875.0</td>\n      <td>400.0</td>\n      <td>689000O</td>\n      <td>3.0</td>\n      <td>0.163435</td>\n      <td>1926</td>\n      <td>104</td>\n      <td>134.871391</td>\n      <td>5.036761</td>\n      <td>NaN</td>\n      <td>3.0</td>\n    </tr>\n  </tbody>\n</table>\n</div>"
     },
     "metadata": {},
     "execution_count": 12
    }
   ],
   "source": [
    "data_patent_level.head()"
   ]
  },
  {
   "cell_type": "code",
   "execution_count": 13,
   "metadata": {},
   "outputs": [
    {
     "output_type": "execute_result",
     "data": {
      "text/plain": [
       "             patnum        permno        ncites            xi          year  \\\n",
       "count  1.801308e+06  1.801308e+06  1.801308e+06  1.801308e+06  1.801308e+06   \n",
       "mean   5.167546e+06  3.484628e+04  1.025952e+01  1.629619e+01  1.986999e+03   \n",
       "std    1.669579e+06  2.552283e+04  2.013693e+01  5.985719e+01  2.005846e+01   \n",
       "min    1.568124e+06  1.000600e+04  0.000000e+00  0.000000e+00  1.926000e+03   \n",
       "25%    3.794678e+06  1.409000e+04  1.000000e+00  4.742682e-01  1.974000e+03   \n",
       "50%    5.261326e+06  2.256800e+04  5.000000e+00  2.940681e+00  1.993000e+03   \n",
       "75%    6.674794e+06  5.418100e+04  1.100000e+01  1.176838e+01  2.004000e+03   \n",
       "max    7.827616e+06  9.328700e+04  2.424000e+03  6.208359e+03  2.010000e+03   \n",
       "\n",
       "              Npats           Tcw           Tsm  forward_citations  \\\n",
       "count  1.801308e+06  1.801308e+06  1.801308e+06       1.531473e+06   \n",
       "mean   5.628692e+02  1.189529e+03  6.391305e+03       1.088757e+01   \n",
       "std    8.414713e+02  1.792490e+03  1.749233e+04       2.161838e+01   \n",
       "min    1.000000e+00  1.000000e+00  0.000000e+00       1.000000e+00   \n",
       "25%    5.700000e+01  1.167448e+02  7.528275e+01       3.000000e+00   \n",
       "50%    2.260000e+02  4.795861e+02  5.444828e+02       6.000000e+00   \n",
       "75%    6.420000e+02  1.429433e+03  3.657433e+03       1.100000e+01   \n",
       "max    5.052000e+03  1.016166e+04  2.595804e+05       1.176000e+03   \n",
       "\n",
       "       backward_citations  \n",
       "count        1.502493e+06  \n",
       "mean         1.190791e+01  \n",
       "std          2.145773e+01  \n",
       "min          1.000000e+00  \n",
       "25%          2.000000e+00  \n",
       "50%          6.000000e+00  \n",
       "75%          1.300000e+01  \n",
       "max          2.413000e+03  "
      ],
      "text/html": "<div>\n<style scoped>\n    .dataframe tbody tr th:only-of-type {\n        vertical-align: middle;\n    }\n\n    .dataframe tbody tr th {\n        vertical-align: top;\n    }\n\n    .dataframe thead th {\n        text-align: right;\n    }\n</style>\n<table border=\"1\" class=\"dataframe\">\n  <thead>\n    <tr style=\"text-align: right;\">\n      <th></th>\n      <th>patnum</th>\n      <th>permno</th>\n      <th>ncites</th>\n      <th>xi</th>\n      <th>year</th>\n      <th>Npats</th>\n      <th>Tcw</th>\n      <th>Tsm</th>\n      <th>forward_citations</th>\n      <th>backward_citations</th>\n    </tr>\n  </thead>\n  <tbody>\n    <tr>\n      <th>count</th>\n      <td>1.801308e+06</td>\n      <td>1.801308e+06</td>\n      <td>1.801308e+06</td>\n      <td>1.801308e+06</td>\n      <td>1.801308e+06</td>\n      <td>1.801308e+06</td>\n      <td>1.801308e+06</td>\n      <td>1.801308e+06</td>\n      <td>1.531473e+06</td>\n      <td>1.502493e+06</td>\n    </tr>\n    <tr>\n      <th>mean</th>\n      <td>5.167546e+06</td>\n      <td>3.484628e+04</td>\n      <td>1.025952e+01</td>\n      <td>1.629619e+01</td>\n      <td>1.986999e+03</td>\n      <td>5.628692e+02</td>\n      <td>1.189529e+03</td>\n      <td>6.391305e+03</td>\n      <td>1.088757e+01</td>\n      <td>1.190791e+01</td>\n    </tr>\n    <tr>\n      <th>std</th>\n      <td>1.669579e+06</td>\n      <td>2.552283e+04</td>\n      <td>2.013693e+01</td>\n      <td>5.985719e+01</td>\n      <td>2.005846e+01</td>\n      <td>8.414713e+02</td>\n      <td>1.792490e+03</td>\n      <td>1.749233e+04</td>\n      <td>2.161838e+01</td>\n      <td>2.145773e+01</td>\n    </tr>\n    <tr>\n      <th>min</th>\n      <td>1.568124e+06</td>\n      <td>1.000600e+04</td>\n      <td>0.000000e+00</td>\n      <td>0.000000e+00</td>\n      <td>1.926000e+03</td>\n      <td>1.000000e+00</td>\n      <td>1.000000e+00</td>\n      <td>0.000000e+00</td>\n      <td>1.000000e+00</td>\n      <td>1.000000e+00</td>\n    </tr>\n    <tr>\n      <th>25%</th>\n      <td>3.794678e+06</td>\n      <td>1.409000e+04</td>\n      <td>1.000000e+00</td>\n      <td>4.742682e-01</td>\n      <td>1.974000e+03</td>\n      <td>5.700000e+01</td>\n      <td>1.167448e+02</td>\n      <td>7.528275e+01</td>\n      <td>3.000000e+00</td>\n      <td>2.000000e+00</td>\n    </tr>\n    <tr>\n      <th>50%</th>\n      <td>5.261326e+06</td>\n      <td>2.256800e+04</td>\n      <td>5.000000e+00</td>\n      <td>2.940681e+00</td>\n      <td>1.993000e+03</td>\n      <td>2.260000e+02</td>\n      <td>4.795861e+02</td>\n      <td>5.444828e+02</td>\n      <td>6.000000e+00</td>\n      <td>6.000000e+00</td>\n    </tr>\n    <tr>\n      <th>75%</th>\n      <td>6.674794e+06</td>\n      <td>5.418100e+04</td>\n      <td>1.100000e+01</td>\n      <td>1.176838e+01</td>\n      <td>2.004000e+03</td>\n      <td>6.420000e+02</td>\n      <td>1.429433e+03</td>\n      <td>3.657433e+03</td>\n      <td>1.100000e+01</td>\n      <td>1.300000e+01</td>\n    </tr>\n    <tr>\n      <th>max</th>\n      <td>7.827616e+06</td>\n      <td>9.328700e+04</td>\n      <td>2.424000e+03</td>\n      <td>6.208359e+03</td>\n      <td>2.010000e+03</td>\n      <td>5.052000e+03</td>\n      <td>1.016166e+04</td>\n      <td>2.595804e+05</td>\n      <td>1.176000e+03</td>\n      <td>2.413000e+03</td>\n    </tr>\n  </tbody>\n</table>\n</div>"
     },
     "metadata": {},
     "execution_count": 13
    }
   ],
   "source": [
    "data_patent_level.describe()"
   ]
  },
  {
   "cell_type": "code",
   "execution_count": 14,
   "metadata": {},
   "outputs": [],
   "source": [
    "cites = pd.read_stata(r\"..\\Data\\Patent_level_data\\USPatent_1926-2010\\cites\\cites.dta\")"
   ]
  },
  {
   "cell_type": "code",
   "execution_count": 15,
   "metadata": {},
   "outputs": [
    {
     "output_type": "execute_result",
     "data": {
      "text/plain": [
       "    citing    cited\n",
       "0  2364973  1929241\n",
       "1  2364973  1917995\n",
       "2  2364973  2157122\n",
       "3  2364973  2173741\n",
       "4  2364973  1985654"
      ],
      "text/html": "<div>\n<style scoped>\n    .dataframe tbody tr th:only-of-type {\n        vertical-align: middle;\n    }\n\n    .dataframe tbody tr th {\n        vertical-align: top;\n    }\n\n    .dataframe thead th {\n        text-align: right;\n    }\n</style>\n<table border=\"1\" class=\"dataframe\">\n  <thead>\n    <tr style=\"text-align: right;\">\n      <th></th>\n      <th>citing</th>\n      <th>cited</th>\n    </tr>\n  </thead>\n  <tbody>\n    <tr>\n      <th>0</th>\n      <td>2364973</td>\n      <td>1929241</td>\n    </tr>\n    <tr>\n      <th>1</th>\n      <td>2364973</td>\n      <td>1917995</td>\n    </tr>\n    <tr>\n      <th>2</th>\n      <td>2364973</td>\n      <td>2157122</td>\n    </tr>\n    <tr>\n      <th>3</th>\n      <td>2364973</td>\n      <td>2173741</td>\n    </tr>\n    <tr>\n      <th>4</th>\n      <td>2364973</td>\n      <td>1985654</td>\n    </tr>\n  </tbody>\n</table>\n</div>"
     },
     "metadata": {},
     "execution_count": 15
    }
   ],
   "source": [
    "cites.head()"
   ]
  },
  {
   "cell_type": "code",
   "execution_count": 16,
   "metadata": {},
   "outputs": [
    {
     "output_type": "execute_result",
     "data": {
      "text/plain": [
       "             citing         cited\n",
       "count  5.251991e+07  5.251991e+07\n",
       "mean   6.182967e+06  4.760499e+06\n",
       "std    1.444457e+06  1.443307e+06\n",
       "min    2.364973e+06  4.000000e+00\n",
       "25%    5.254441e+06  3.916395e+06\n",
       "50%    6.493971e+06  4.976377e+06\n",
       "75%    7.381219e+06  5.821890e+06\n",
       "max    8.087093e+06  8.050926e+06"
      ],
      "text/html": "<div>\n<style scoped>\n    .dataframe tbody tr th:only-of-type {\n        vertical-align: middle;\n    }\n\n    .dataframe tbody tr th {\n        vertical-align: top;\n    }\n\n    .dataframe thead th {\n        text-align: right;\n    }\n</style>\n<table border=\"1\" class=\"dataframe\">\n  <thead>\n    <tr style=\"text-align: right;\">\n      <th></th>\n      <th>citing</th>\n      <th>cited</th>\n    </tr>\n  </thead>\n  <tbody>\n    <tr>\n      <th>count</th>\n      <td>5.251991e+07</td>\n      <td>5.251991e+07</td>\n    </tr>\n    <tr>\n      <th>mean</th>\n      <td>6.182967e+06</td>\n      <td>4.760499e+06</td>\n    </tr>\n    <tr>\n      <th>std</th>\n      <td>1.444457e+06</td>\n      <td>1.443307e+06</td>\n    </tr>\n    <tr>\n      <th>min</th>\n      <td>2.364973e+06</td>\n      <td>4.000000e+00</td>\n    </tr>\n    <tr>\n      <th>25%</th>\n      <td>5.254441e+06</td>\n      <td>3.916395e+06</td>\n    </tr>\n    <tr>\n      <th>50%</th>\n      <td>6.493971e+06</td>\n      <td>4.976377e+06</td>\n    </tr>\n    <tr>\n      <th>75%</th>\n      <td>7.381219e+06</td>\n      <td>5.821890e+06</td>\n    </tr>\n    <tr>\n      <th>max</th>\n      <td>8.087093e+06</td>\n      <td>8.050926e+06</td>\n    </tr>\n  </tbody>\n</table>\n</div>"
     },
     "metadata": {},
     "execution_count": 16
    }
   ],
   "source": [
    "cites.describe()"
   ]
  },
  {
   "cell_type": "code",
   "execution_count": 17,
   "metadata": {},
   "outputs": [],
   "source": [
    "firm_innovation_v2 = pd.read_stata(r\"..\\Data\\Patent_level_data\\USPatent_1926-2010\\firm_innovation\\firm_innovation_v2.dta\")"
   ]
  },
  {
   "cell_type": "code",
   "execution_count": 18,
   "metadata": {},
   "outputs": [
    {
     "output_type": "execute_result",
     "data": {
      "text/plain": [
       "   permno  year  npats        Tcw       Tsm  tcw  tsm\n",
       "0   10006  1926     10  18.980768  0.375693  NaN  NaN\n",
       "1   10006  1927     17  24.725719  0.803838  NaN  NaN\n",
       "2   10006  1928     15  34.932781  0.718042  NaN  NaN\n",
       "3   10006  1929     26  64.189056  1.568269  NaN  NaN\n",
       "4   10006  1930     16  35.434711  1.932471  NaN  NaN"
      ],
      "text/html": "<div>\n<style scoped>\n    .dataframe tbody tr th:only-of-type {\n        vertical-align: middle;\n    }\n\n    .dataframe tbody tr th {\n        vertical-align: top;\n    }\n\n    .dataframe thead th {\n        text-align: right;\n    }\n</style>\n<table border=\"1\" class=\"dataframe\">\n  <thead>\n    <tr style=\"text-align: right;\">\n      <th></th>\n      <th>permno</th>\n      <th>year</th>\n      <th>npats</th>\n      <th>Tcw</th>\n      <th>Tsm</th>\n      <th>tcw</th>\n      <th>tsm</th>\n    </tr>\n  </thead>\n  <tbody>\n    <tr>\n      <th>0</th>\n      <td>10006</td>\n      <td>1926</td>\n      <td>10</td>\n      <td>18.980768</td>\n      <td>0.375693</td>\n      <td>NaN</td>\n      <td>NaN</td>\n    </tr>\n    <tr>\n      <th>1</th>\n      <td>10006</td>\n      <td>1927</td>\n      <td>17</td>\n      <td>24.725719</td>\n      <td>0.803838</td>\n      <td>NaN</td>\n      <td>NaN</td>\n    </tr>\n    <tr>\n      <th>2</th>\n      <td>10006</td>\n      <td>1928</td>\n      <td>15</td>\n      <td>34.932781</td>\n      <td>0.718042</td>\n      <td>NaN</td>\n      <td>NaN</td>\n    </tr>\n    <tr>\n      <th>3</th>\n      <td>10006</td>\n      <td>1929</td>\n      <td>26</td>\n      <td>64.189056</td>\n      <td>1.568269</td>\n      <td>NaN</td>\n      <td>NaN</td>\n    </tr>\n    <tr>\n      <th>4</th>\n      <td>10006</td>\n      <td>1930</td>\n      <td>16</td>\n      <td>35.434711</td>\n      <td>1.932471</td>\n      <td>NaN</td>\n      <td>NaN</td>\n    </tr>\n  </tbody>\n</table>\n</div>"
     },
     "metadata": {},
     "execution_count": 18
    }
   ],
   "source": [
    "firm_innovation_v2.head()"
   ]
  },
  {
   "cell_type": "code",
   "execution_count": 19,
   "metadata": {},
   "outputs": [
    {
     "output_type": "execute_result",
     "data": {
      "text/plain": [
       "             permno          year         npats           Tcw            Tsm  \\\n",
       "count  65333.000000  65333.000000  65333.000000  65333.000000   65333.000000   \n",
       "mean   44737.019806   1982.640105     27.579921     60.017654     449.468628   \n",
       "std    27466.318539     20.197938    121.514061    261.355774    4003.377686   \n",
       "min    10006.000000   1926.000000      1.000000      1.000000       0.000000   \n",
       "25%    19351.000000   1970.000000      1.000000      3.071412       0.840483   \n",
       "50%    39263.000000   1987.000000      4.000000      8.496572       4.897320   \n",
       "75%    75696.000000   1999.000000     13.000000     28.587692      38.842308   \n",
       "max    93287.000000   2010.000000   5052.000000  10161.664062  259580.406250   \n",
       "\n",
       "                tcw           tsm  \n",
       "count  5.381100e+04  53811.000000  \n",
       "mean   1.883183e-01      0.118961  \n",
       "std    8.457907e-01      0.327683  \n",
       "min    4.921287e-07      0.000000  \n",
       "25%    1.299177e-02      0.010584  \n",
       "50%    4.620258e-02      0.033290  \n",
       "75%    1.488965e-01      0.105944  \n",
       "max    7.655125e+01     22.267939  "
      ],
      "text/html": "<div>\n<style scoped>\n    .dataframe tbody tr th:only-of-type {\n        vertical-align: middle;\n    }\n\n    .dataframe tbody tr th {\n        vertical-align: top;\n    }\n\n    .dataframe thead th {\n        text-align: right;\n    }\n</style>\n<table border=\"1\" class=\"dataframe\">\n  <thead>\n    <tr style=\"text-align: right;\">\n      <th></th>\n      <th>permno</th>\n      <th>year</th>\n      <th>npats</th>\n      <th>Tcw</th>\n      <th>Tsm</th>\n      <th>tcw</th>\n      <th>tsm</th>\n    </tr>\n  </thead>\n  <tbody>\n    <tr>\n      <th>count</th>\n      <td>65333.000000</td>\n      <td>65333.000000</td>\n      <td>65333.000000</td>\n      <td>65333.000000</td>\n      <td>65333.000000</td>\n      <td>5.381100e+04</td>\n      <td>53811.000000</td>\n    </tr>\n    <tr>\n      <th>mean</th>\n      <td>44737.019806</td>\n      <td>1982.640105</td>\n      <td>27.579921</td>\n      <td>60.017654</td>\n      <td>449.468628</td>\n      <td>1.883183e-01</td>\n      <td>0.118961</td>\n    </tr>\n    <tr>\n      <th>std</th>\n      <td>27466.318539</td>\n      <td>20.197938</td>\n      <td>121.514061</td>\n      <td>261.355774</td>\n      <td>4003.377686</td>\n      <td>8.457907e-01</td>\n      <td>0.327683</td>\n    </tr>\n    <tr>\n      <th>min</th>\n      <td>10006.000000</td>\n      <td>1926.000000</td>\n      <td>1.000000</td>\n      <td>1.000000</td>\n      <td>0.000000</td>\n      <td>4.921287e-07</td>\n      <td>0.000000</td>\n    </tr>\n    <tr>\n      <th>25%</th>\n      <td>19351.000000</td>\n      <td>1970.000000</td>\n      <td>1.000000</td>\n      <td>3.071412</td>\n      <td>0.840483</td>\n      <td>1.299177e-02</td>\n      <td>0.010584</td>\n    </tr>\n    <tr>\n      <th>50%</th>\n      <td>39263.000000</td>\n      <td>1987.000000</td>\n      <td>4.000000</td>\n      <td>8.496572</td>\n      <td>4.897320</td>\n      <td>4.620258e-02</td>\n      <td>0.033290</td>\n    </tr>\n    <tr>\n      <th>75%</th>\n      <td>75696.000000</td>\n      <td>1999.000000</td>\n      <td>13.000000</td>\n      <td>28.587692</td>\n      <td>38.842308</td>\n      <td>1.488965e-01</td>\n      <td>0.105944</td>\n    </tr>\n    <tr>\n      <th>max</th>\n      <td>93287.000000</td>\n      <td>2010.000000</td>\n      <td>5052.000000</td>\n      <td>10161.664062</td>\n      <td>259580.406250</td>\n      <td>7.655125e+01</td>\n      <td>22.267939</td>\n    </tr>\n  </tbody>\n</table>\n</div>"
     },
     "metadata": {},
     "execution_count": 19
    }
   ],
   "source": [
    "firm_innovation_v2.describe()"
   ]
  },
  {
   "cell_type": "code",
   "execution_count": 23,
   "metadata": {},
   "outputs": [],
   "source": [
    "patents_xi = pd.read_stata(r\"..\\Data\\Patent_level_data\\USPatent_1926-2010\\patents_xi\\patents_xi.dta\")"
   ]
  },
  {
   "cell_type": "code",
   "execution_count": 24,
   "metadata": {},
   "outputs": [
    {
     "output_type": "execute_result",
     "data": {
      "text/plain": [
       "    patnum fdate       idate pdate   permno class subclass  ncites  xi\n",
       "0  3620911        11/16/1971        32563.0                    NaN NaN\n",
       "1  3589077        06/29/1971        22680.0                    NaN NaN\n",
       "2  3675244        07/11/1972            NaN                    NaN NaN\n",
       "3  3703250        11/21/1972            NaN                    NaN NaN\n",
       "4  3470564        10/07/1969            NaN                    NaN NaN"
      ],
      "text/html": "<div>\n<style scoped>\n    .dataframe tbody tr th:only-of-type {\n        vertical-align: middle;\n    }\n\n    .dataframe tbody tr th {\n        vertical-align: top;\n    }\n\n    .dataframe thead th {\n        text-align: right;\n    }\n</style>\n<table border=\"1\" class=\"dataframe\">\n  <thead>\n    <tr style=\"text-align: right;\">\n      <th></th>\n      <th>patnum</th>\n      <th>fdate</th>\n      <th>idate</th>\n      <th>pdate</th>\n      <th>permno</th>\n      <th>class</th>\n      <th>subclass</th>\n      <th>ncites</th>\n      <th>xi</th>\n    </tr>\n  </thead>\n  <tbody>\n    <tr>\n      <th>0</th>\n      <td>3620911</td>\n      <td></td>\n      <td>11/16/1971</td>\n      <td></td>\n      <td>32563.0</td>\n      <td></td>\n      <td></td>\n      <td>NaN</td>\n      <td>NaN</td>\n    </tr>\n    <tr>\n      <th>1</th>\n      <td>3589077</td>\n      <td></td>\n      <td>06/29/1971</td>\n      <td></td>\n      <td>22680.0</td>\n      <td></td>\n      <td></td>\n      <td>NaN</td>\n      <td>NaN</td>\n    </tr>\n    <tr>\n      <th>2</th>\n      <td>3675244</td>\n      <td></td>\n      <td>07/11/1972</td>\n      <td></td>\n      <td>NaN</td>\n      <td></td>\n      <td></td>\n      <td>NaN</td>\n      <td>NaN</td>\n    </tr>\n    <tr>\n      <th>3</th>\n      <td>3703250</td>\n      <td></td>\n      <td>11/21/1972</td>\n      <td></td>\n      <td>NaN</td>\n      <td></td>\n      <td></td>\n      <td>NaN</td>\n      <td>NaN</td>\n    </tr>\n    <tr>\n      <th>4</th>\n      <td>3470564</td>\n      <td></td>\n      <td>10/07/1969</td>\n      <td></td>\n      <td>NaN</td>\n      <td></td>\n      <td></td>\n      <td>NaN</td>\n      <td>NaN</td>\n    </tr>\n  </tbody>\n</table>\n</div>"
     },
     "metadata": {},
     "execution_count": 24
    }
   ],
   "source": [
    "patents_xi.head()"
   ]
  },
  {
   "cell_type": "code",
   "execution_count": 26,
   "metadata": {},
   "outputs": [
    {
     "output_type": "execute_result",
     "data": {
      "text/plain": [
       "             patnum        permno        ncites            xi\n",
       "count  6.240106e+06  1.930089e+06  1.801879e+06  1.801879e+06\n",
       "mean   4.695703e+06  3.511032e+04  1.025662e+01  1.626178e+01\n",
       "std    1.807782e+06  2.577234e+04  2.013455e+01  5.970880e+01\n",
       "min    1.568040e+06  1.000600e+04  0.000000e+00  0.000000e+00\n",
       "25%    3.129564e+06  1.409000e+04  1.000000e+00  4.743301e-01\n",
       "50%    4.692958e+06  2.259200e+04  5.000000e+00  2.941844e+00\n",
       "75%    6.263094e+06  5.578200e+04  1.100000e+01  1.177292e+01\n",
       "max    7.827616e+06  9.328700e+04  2.424000e+03  6.208359e+03"
      ],
      "text/html": "<div>\n<style scoped>\n    .dataframe tbody tr th:only-of-type {\n        vertical-align: middle;\n    }\n\n    .dataframe tbody tr th {\n        vertical-align: top;\n    }\n\n    .dataframe thead th {\n        text-align: right;\n    }\n</style>\n<table border=\"1\" class=\"dataframe\">\n  <thead>\n    <tr style=\"text-align: right;\">\n      <th></th>\n      <th>patnum</th>\n      <th>permno</th>\n      <th>ncites</th>\n      <th>xi</th>\n    </tr>\n  </thead>\n  <tbody>\n    <tr>\n      <th>count</th>\n      <td>6.240106e+06</td>\n      <td>1.930089e+06</td>\n      <td>1.801879e+06</td>\n      <td>1.801879e+06</td>\n    </tr>\n    <tr>\n      <th>mean</th>\n      <td>4.695703e+06</td>\n      <td>3.511032e+04</td>\n      <td>1.025662e+01</td>\n      <td>1.626178e+01</td>\n    </tr>\n    <tr>\n      <th>std</th>\n      <td>1.807782e+06</td>\n      <td>2.577234e+04</td>\n      <td>2.013455e+01</td>\n      <td>5.970880e+01</td>\n    </tr>\n    <tr>\n      <th>min</th>\n      <td>1.568040e+06</td>\n      <td>1.000600e+04</td>\n      <td>0.000000e+00</td>\n      <td>0.000000e+00</td>\n    </tr>\n    <tr>\n      <th>25%</th>\n      <td>3.129564e+06</td>\n      <td>1.409000e+04</td>\n      <td>1.000000e+00</td>\n      <td>4.743301e-01</td>\n    </tr>\n    <tr>\n      <th>50%</th>\n      <td>4.692958e+06</td>\n      <td>2.259200e+04</td>\n      <td>5.000000e+00</td>\n      <td>2.941844e+00</td>\n    </tr>\n    <tr>\n      <th>75%</th>\n      <td>6.263094e+06</td>\n      <td>5.578200e+04</td>\n      <td>1.100000e+01</td>\n      <td>1.177292e+01</td>\n    </tr>\n    <tr>\n      <th>max</th>\n      <td>7.827616e+06</td>\n      <td>9.328700e+04</td>\n      <td>2.424000e+03</td>\n      <td>6.208359e+03</td>\n    </tr>\n  </tbody>\n</table>\n</div>"
     },
     "metadata": {},
     "execution_count": 26
    }
   ],
   "source": [
    "patents_xi.describe()"
   ]
  },
  {
   "cell_type": "code",
   "execution_count": 27,
   "metadata": {},
   "outputs": [],
   "source": [
    "patent_values = pd.read_stata(r\"..\\Data\\Patent_level_data\\Patent_CRSP_match_1929-2017\\patent_values\\patent_values.dta\")"
   ]
  },
  {
   "cell_type": "code",
   "execution_count": 28,
   "metadata": {},
   "outputs": [
    {
     "output_type": "execute_result",
     "data": {
      "text/plain": [
       "    patnum  permco    fdate   idate        xi\n",
       "0  1571190   22600           2/2/26  0.233664\n",
       "1  1571216   22462  10/4/23  2/2/26  0.488463\n",
       "2  1571234   21912  1/20/22  2/2/26  0.107467\n",
       "3  1571242   22600  11/1/23  2/2/26  0.233664\n",
       "4  1571244   22600  3/11/24  2/2/26  0.233664"
      ],
      "text/html": "<div>\n<style scoped>\n    .dataframe tbody tr th:only-of-type {\n        vertical-align: middle;\n    }\n\n    .dataframe tbody tr th {\n        vertical-align: top;\n    }\n\n    .dataframe thead th {\n        text-align: right;\n    }\n</style>\n<table border=\"1\" class=\"dataframe\">\n  <thead>\n    <tr style=\"text-align: right;\">\n      <th></th>\n      <th>patnum</th>\n      <th>permco</th>\n      <th>fdate</th>\n      <th>idate</th>\n      <th>xi</th>\n    </tr>\n  </thead>\n  <tbody>\n    <tr>\n      <th>0</th>\n      <td>1571190</td>\n      <td>22600</td>\n      <td></td>\n      <td>2/2/26</td>\n      <td>0.233664</td>\n    </tr>\n    <tr>\n      <th>1</th>\n      <td>1571216</td>\n      <td>22462</td>\n      <td>10/4/23</td>\n      <td>2/2/26</td>\n      <td>0.488463</td>\n    </tr>\n    <tr>\n      <th>2</th>\n      <td>1571234</td>\n      <td>21912</td>\n      <td>1/20/22</td>\n      <td>2/2/26</td>\n      <td>0.107467</td>\n    </tr>\n    <tr>\n      <th>3</th>\n      <td>1571242</td>\n      <td>22600</td>\n      <td>11/1/23</td>\n      <td>2/2/26</td>\n      <td>0.233664</td>\n    </tr>\n    <tr>\n      <th>4</th>\n      <td>1571244</td>\n      <td>22600</td>\n      <td>3/11/24</td>\n      <td>2/2/26</td>\n      <td>0.233664</td>\n    </tr>\n  </tbody>\n</table>\n</div>"
     },
     "metadata": {},
     "execution_count": 28
    }
   ],
   "source": [
    "patent_values.head()"
   ]
  },
  {
   "cell_type": "code",
   "execution_count": 29,
   "metadata": {},
   "outputs": [
    {
     "output_type": "execute_result",
     "data": {
      "text/plain": [
       "             patnum        permco            xi\n",
       "count  2.459480e+06  2.459480e+06  2.459480e+06\n",
       "mean   5.962815e+06  1.921224e+04  2.422639e+01\n",
       "std    2.086225e+06  1.054512e+04  6.916226e+01\n",
       "min    1.571190e+06  4.000000e+00  2.087011e-04\n",
       "25%    4.207790e+06  1.533800e+04  1.124972e+00\n",
       "50%    6.096658e+06  2.090800e+04  6.385371e+00\n",
       "75%    7.578845e+06  2.181400e+04  2.156493e+01\n",
       "max    9.763369e+06  5.579500e+04  5.340154e+03"
      ],
      "text/html": "<div>\n<style scoped>\n    .dataframe tbody tr th:only-of-type {\n        vertical-align: middle;\n    }\n\n    .dataframe tbody tr th {\n        vertical-align: top;\n    }\n\n    .dataframe thead th {\n        text-align: right;\n    }\n</style>\n<table border=\"1\" class=\"dataframe\">\n  <thead>\n    <tr style=\"text-align: right;\">\n      <th></th>\n      <th>patnum</th>\n      <th>permco</th>\n      <th>xi</th>\n    </tr>\n  </thead>\n  <tbody>\n    <tr>\n      <th>count</th>\n      <td>2.459480e+06</td>\n      <td>2.459480e+06</td>\n      <td>2.459480e+06</td>\n    </tr>\n    <tr>\n      <th>mean</th>\n      <td>5.962815e+06</td>\n      <td>1.921224e+04</td>\n      <td>2.422639e+01</td>\n    </tr>\n    <tr>\n      <th>std</th>\n      <td>2.086225e+06</td>\n      <td>1.054512e+04</td>\n      <td>6.916226e+01</td>\n    </tr>\n    <tr>\n      <th>min</th>\n      <td>1.571190e+06</td>\n      <td>4.000000e+00</td>\n      <td>2.087011e-04</td>\n    </tr>\n    <tr>\n      <th>25%</th>\n      <td>4.207790e+06</td>\n      <td>1.533800e+04</td>\n      <td>1.124972e+00</td>\n    </tr>\n    <tr>\n      <th>50%</th>\n      <td>6.096658e+06</td>\n      <td>2.090800e+04</td>\n      <td>6.385371e+00</td>\n    </tr>\n    <tr>\n      <th>75%</th>\n      <td>7.578845e+06</td>\n      <td>2.181400e+04</td>\n      <td>2.156493e+01</td>\n    </tr>\n    <tr>\n      <th>max</th>\n      <td>9.763369e+06</td>\n      <td>5.579500e+04</td>\n      <td>5.340154e+03</td>\n    </tr>\n  </tbody>\n</table>\n</div>"
     },
     "metadata": {},
     "execution_count": 29
    }
   ],
   "source": [
    "patent_values.describe()"
   ]
  }
 ]
}