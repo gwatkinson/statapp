{
 "metadata": {
  "language_info": {
   "codemirror_mode": {
    "name": "ipython",
    "version": 3
   },
   "file_extension": ".py",
   "mimetype": "text/x-python",
   "name": "python",
   "nbconvert_exporter": "python",
   "pygments_lexer": "ipython3",
   "version": "3.9.1-final"
  },
  "orig_nbformat": 2,
  "kernelspec": {
   "name": "python3",
   "display_name": "Python 3.9.1 64-bit",
   "metadata": {
    "interpreter": {
     "hash": "378f004e57fe3eca8e623a5d07b582d035b03563d5176b734c6491bec59f748c"
    }
   }
  }
 },
 "nbformat": 4,
 "nbformat_minor": 2,
 "cells": [
  {
   "source": [
    "# Clustering Mapper"
   ],
   "cell_type": "markdown",
   "metadata": {}
  },
  {
   "source": [
    "## Étapes\n",
    "\n",
    "* Lisser par rapport au temps (B)\n",
    "* Passer au log\n",
    "* Enlever les index\n",
    "* Normaliser\n",
    "* ACP (JB)\n",
    "* km.cover(n = 20, cov = 0.5) (G)\n",
    "* km.map(ACP, data, cover)\n",
    "* Clustering (JB/M)\n",
    "* Créer le graph (M)"
   ],
   "cell_type": "markdown",
   "metadata": {}
  },
  {
   "source": [
    "## Importation des modules"
   ],
   "cell_type": "markdown",
   "metadata": {}
  },
  {
   "source": [
    "### Import des modules de bases"
   ],
   "cell_type": "markdown",
   "metadata": {}
  },
  {
   "cell_type": "code",
   "execution_count": null,
   "metadata": {},
   "outputs": [],
   "source": [
    "import pandas as pd\n",
    "import numpy as np\n",
    "from matplotlib import pyplot as plt"
   ]
  },
  {
   "source": [
    "### Pour normaliser les données\n",
    "\n",
    "Separating out the features\n",
    "\n",
    "    x = df.loc[:, features].values\n",
    "\n",
    "Standardizing the features\n",
    "\n",
    "    x = StandardScaler().fit_transform(x)"
   ],
   "cell_type": "markdown",
   "metadata": {}
  },
  {
   "cell_type": "code",
   "execution_count": null,
   "metadata": {},
   "outputs": [],
   "source": [
    "from sklearn.preprocessing import StandardScaler"
   ]
  },
  {
   "source": [
    "### Pour faire l'ACP\n",
    "\n",
    "Initialise la classe\n",
    "\n",
    "    pca = PCA(n_components=2)\n",
    "\n",
    "Fit le modèle\n",
    "\n",
    "    principalComponents = pca.fit_transform(x)\n",
    "\n",
    "Transforme en df pandas\n",
    "\n",
    "    principalDf = pd.DataFrame(data = principalComponents\n",
    "                , columns = ['principal component 1', 'principal component 2'])\n",
    "    finalDf = pd.concat([df[index]], principalDf, axis = 1)"
   ],
   "cell_type": "markdown",
   "metadata": {}
  },
  {
   "cell_type": "code",
   "execution_count": null,
   "metadata": {},
   "outputs": [],
   "source": [
    "from sklearn.decomposition import PCA"
   ]
  },
  {
   "source": [
    "### Pour faire le clustering\n",
    "\n",
    "En utilisant sklearn :\n",
    "\n",
    "    model = AgglomerativeClustering(n_clusters=5, affinity='euclidean', linkage='single')\n",
    "    model.fit(X)\n",
    "    labels = model.labels_"
   ],
   "cell_type": "markdown",
   "metadata": {}
  },
  {
   "cell_type": "code",
   "execution_count": null,
   "metadata": {},
   "outputs": [],
   "source": [
    "from sklearn.cluster import AgglomerativeClustering"
   ]
  },
  {
   "source": [
    "En utilisant scipy :\n",
    "\n",
    "    link = sch.linkage(y, method='single\", metric='...')\n",
    "    dendrogram = sch.dendrogram(link)\n",
    "\n",
    "Voir https://docs.scipy.org/doc/scipy/reference/generated/scipy.cluster.hierarchy.linkage.html"
   ],
   "cell_type": "markdown",
   "metadata": {}
  },
  {
   "cell_type": "code",
   "execution_count": null,
   "metadata": {},
   "outputs": [],
   "source": [
    "import scipy.cluster.hierarchy as sch "
   ]
  },
  {
   "source": [
    "### Keppler Mapper"
   ],
   "cell_type": "markdown",
   "metadata": {}
  },
  {
   "cell_type": "code",
   "execution_count": null,
   "metadata": {},
   "outputs": [],
   "source": [
    "import kmapper as km\n",
    "from kmapper import jupyter # Creates custom CSS full-size Jupyter screen"
   ]
  },
  {
   "source": [
    "## Chargement des données"
   ],
   "cell_type": "markdown",
   "metadata": {}
  },
  {
   "source": [
    "data_firm_level = pd.read_stata(\"../Data/Firm_patent/data_firm_level.dta\")\n",
    "data_patent_level = pd.read_stata(\"../Data/Patent_level_data/data_patent_level.dta\")\n",
    "cites = pd.read_stata(\"../Data/Patent_level_data/USPatent_1926-2010/cites/cites.dta\")\n",
    "firm_innovation_v2 = pd.read_stata(\"../Data/Patent_level_data/USPatent_1926-2010/firm_innovation/firm_innovation_v2.dta\")\n",
    "patents_xi = pd.read_stata(\"../Data/Patent_level_data/USPatent_1926-2010/patents_xi/patents_xi.dta\")\n",
    "patent_values = pd.read_stata(\"../Data/Patent_level_data/Patent_CRSP_match_1929-2017/patent_values/patent_values.dta\")"
   ],
   "cell_type": "code",
   "metadata": {},
   "execution_count": null,
   "outputs": []
  },
  {
   "source": [
    "## Utilisation de la base merged"
   ],
   "cell_type": "markdown",
   "metadata": {}
  },
  {
   "cell_type": "code",
   "execution_count": null,
   "metadata": {},
   "outputs": [],
   "source": [
    "patents_firm_merge = pd.read_stata(\"../Data/Firm_patent/patents_firm_merge.dta\")"
   ]
  },
  {
   "cell_type": "code",
   "execution_count": null,
   "metadata": {},
   "outputs": [],
   "source": [
    "patents_firm_merge"
   ]
  },
  {
   "cell_type": "code",
   "execution_count": null,
   "metadata": {},
   "outputs": [],
   "source": [
    "datetime_df = patents_firm_merge.set_index(\"index\")\n",
    "for col in [\"fdate\", \"idate\", \"pdate\"]:\n",
    "    datetime_df[col] = pd.to_datetime(patents_firm_merge[col], infer_datetime_format=True, errors=\"coerce\")"
   ]
  },
  {
   "cell_type": "code",
   "execution_count": null,
   "metadata": {},
   "outputs": [],
   "source": [
    "datetime_df.dtypes"
   ]
  },
  {
   "cell_type": "code",
   "execution_count": null,
   "metadata": {},
   "outputs": [],
   "source": [
    "datetime_df.count()/len(datetime_df)"
   ]
  },
  {
   "cell_type": "code",
   "execution_count": null,
   "metadata": {},
   "outputs": [],
   "source": [
    "full_df = datetime_df.dropna(subset=['xi', 'ncites', 'tcw', 'tsm'])"
   ]
  },
  {
   "cell_type": "code",
   "execution_count": null,
   "metadata": {},
   "outputs": [],
   "source": [
    "full_df.count()/len(full_df)"
   ]
  },
  {
   "cell_type": "code",
   "execution_count": null,
   "metadata": {},
   "outputs": [],
   "source": [
    "full_df"
   ]
  },
  {
   "cell_type": "code",
   "execution_count": null,
   "metadata": {},
   "outputs": [],
   "source": [
    "features = [\"xi\", \"Tcw\", \"Tsm\", \"tcw\", \"tsm\", \"ncites\"]\n",
    "SMA_features = [\"SMA_\"+l for l in features]"
   ]
  },
  {
   "cell_type": "code",
   "execution_count": null,
   "metadata": {},
   "outputs": [],
   "source": [
    "full_df[SMA_features] = full_df.sort_values(by=\"idate\"\n",
    ").groupby([\"permno\", \"patent_class\"]\n",
    ")[features\n",
    "].rolling(window=5, min_periods=1\n",
    ").mean(\n",
    ").reset_index(level=[0, 1], drop=True\n",
    ").rename(columns={l: \"SMA_\"+l for l in features})"
   ]
  },
  {
   "cell_type": "code",
   "execution_count": null,
   "metadata": {},
   "outputs": [],
   "source": [
    "for l in features:\n",
    "    full_df[\"log_\"+l] = np.log(1 + full_df[\"SMA_\"+l])"
   ]
  },
  {
   "cell_type": "code",
   "execution_count": null,
   "metadata": {},
   "outputs": [],
   "source": [
    "matrix = full_df[['log_xi', 'log_Tcw', 'log_Tsm', 'log_tcw', 'log_tsm', 'log_ncites']]"
   ]
  },
  {
   "cell_type": "code",
   "execution_count": null,
   "metadata": {},
   "outputs": [],
   "source": [
    "matrix"
   ]
  },
  {
   "cell_type": "code",
   "execution_count": null,
   "metadata": {},
   "outputs": [],
   "source": [
    "normalised_matrix = StandardScaler().fit_transform(matrix)"
   ]
  },
  {
   "cell_type": "code",
   "execution_count": null,
   "metadata": {},
   "outputs": [],
   "source": [
    "normalised_matrix"
   ]
  },
  {
   "cell_type": "code",
   "execution_count": null,
   "metadata": {},
   "outputs": [],
   "source": [
    "PCA = PCA(n_components=2)\n",
    "principalComponents = PCA.fit_transform(normalised_matrix)\n",
    "principalDf = pd.DataFrame(data=principalComponents, columns=['PC1', 'PC2'])"
   ]
  },
  {
   "cell_type": "code",
   "execution_count": null,
   "metadata": {},
   "outputs": [],
   "source": [
    "matrix.reset_index()[\"index\"]"
   ]
  },
  {
   "cell_type": "code",
   "execution_count": null,
   "metadata": {},
   "outputs": [],
   "source": [
    "projected_data = pd.concat([matrix.reset_index()[\"index\"], principalDf], axis=1).set_index(\"index\")"
   ]
  },
  {
   "cell_type": "code",
   "execution_count": null,
   "metadata": {},
   "outputs": [],
   "source": [
    "projected_data"
   ]
  },
  {
   "source": [
    "# Initialize\n",
    "mapper = km.KeplerMapper(verbose=0)"
   ],
   "cell_type": "code",
   "metadata": {},
   "execution_count": null,
   "outputs": []
  },
  {
   "cell_type": "code",
   "execution_count": null,
   "metadata": {},
   "outputs": [],
   "source": [
    "# Cover\n",
    "cov = Cover(n_cubes=20, perc_overlap=0.5)"
   ]
  },
  {
   "cell_type": "code",
   "execution_count": null,
   "metadata": {},
   "outputs": [],
   "source": [
    "# Create dictionary called 'graph' with nodes, edges and meta-information\n",
    "graph = mapper.map(projected_data, normalised_matrix)"
   ]
  },
  {
   "cell_type": "code",
   "execution_count": null,
   "metadata": {},
   "outputs": [],
   "source": [
    "# Visualize it\n",
    "html = mapper.visualize(graph, path_html=\"../docs/MapperCluster.html\", title=\"Mapper Clustering Algorithm\")\n",
    "\n",
    "# Inline display\n",
    "jupyter.display(path_html=\"../docs/MapperCluster.html\")"
   ]
  },
  {
   "cell_type": "code",
   "execution_count": null,
   "metadata": {},
   "outputs": [],
   "source": [
    "graph"
   ]
  }
 ]
}