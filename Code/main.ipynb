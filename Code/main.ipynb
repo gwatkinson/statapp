{
 "cells": [
  {
   "cell_type": "markdown",
   "metadata": {},
   "source": [
    "# Clustering Mapper"
   ]
  },
  {
   "cell_type": "markdown",
   "metadata": {},
   "source": [
    "## Étapes\n",
    "\n",
    "* Lisser par rapport au temps (B)\n",
    "* Passer au log\n",
    "* Enlever les index\n",
    "* Normaliser\n",
    "* ACP (JB)\n",
    "* km.cover(n = 20, cov = 0.5) (G)\n",
    "* km.map(ACP, data, cover)\n",
    "* Clustering (JB/M)\n",
    "* Créer le graph (M)"
   ]
  },
  {
   "cell_type": "markdown",
   "metadata": {},
   "source": [
    "## Importation des modules"
   ]
  },
  {
   "cell_type": "markdown",
   "metadata": {},
   "source": [
    "### Import des modules de bases"
   ]
  },
  {
   "cell_type": "code",
   "execution_count": 1,
   "metadata": {},
   "outputs": [],
   "source": [
    "import pandas as pd\n",
    "import numpy as np\n",
    "from matplotlib import pyplot as plt"
   ]
  },
  {
   "cell_type": "markdown",
   "metadata": {},
   "source": [
    "### Pour normaliser les données\n",
    "\n",
    "Separating out the features\n",
    "\n",
    "    x = df.loc[:, features].values\n",
    "\n",
    "Standardizing the features\n",
    "\n",
    "    x = StandardScaler().fit_transform(x)"
   ]
  },
  {
   "cell_type": "code",
   "execution_count": 2,
   "metadata": {},
   "outputs": [],
   "source": [
    "from sklearn.preprocessing import StandardScaler"
   ]
  },
  {
   "cell_type": "markdown",
   "metadata": {},
   "source": [
    "### Pour faire l'ACP\n",
    "\n",
    "Initialise la classe\n",
    "\n",
    "    pca = PCA(n_components=2)\n",
    "\n",
    "Fit le modèle\n",
    "\n",
    "    principalComponents = pca.fit_transform(x)\n",
    "\n",
    "Transforme en df pandas\n",
    "\n",
    "    principalDf = pd.DataFrame(data = principalComponents\n",
    "                , columns = ['principal component 1', 'principal component 2'])\n",
    "    finalDf = pd.concat([df[index]], principalDf, axis = 1)"
   ]
  },
  {
   "cell_type": "code",
   "execution_count": 3,
   "metadata": {},
   "outputs": [],
   "source": [
    "from sklearn.decomposition import PCA"
   ]
  },
  {
   "cell_type": "markdown",
   "metadata": {},
   "source": [
    "### Pour faire le clustering\n",
    "\n",
    "En utilisant sklearn :\n",
    "\n",
    "    model = AgglomerativeClustering(n_clusters=5, affinity='euclidean', linkage='single')\n",
    "    model.fit(X)\n",
    "    labels = model.labels_"
   ]
  },
  {
   "cell_type": "code",
   "execution_count": 4,
   "metadata": {},
   "outputs": [],
   "source": [
    "from sklearn.cluster import AgglomerativeClustering"
   ]
  },
  {
   "cell_type": "markdown",
   "metadata": {},
   "source": [
    "En utilisant scipy :\n",
    "\n",
    "    link = sch.linkage(y, method='single\", metric='...')\n",
    "    dendrogram = sch.dendrogram(link)\n",
    "\n",
    "Voir https://docs.scipy.org/doc/scipy/reference/generated/scipy.cluster.hierarchy.linkage.html"
   ]
  },
  {
   "cell_type": "code",
   "execution_count": 5,
   "metadata": {},
   "outputs": [],
   "source": [
    "import scipy.cluster.hierarchy as sch "
   ]
  },
  {
   "cell_type": "markdown",
   "metadata": {},
   "source": [
    "### Keppler Mapper"
   ]
  },
  {
   "cell_type": "code",
   "execution_count": 6,
   "metadata": {},
   "outputs": [],
   "source": [
    "import kmapper as km\r\n",
    "from kmapper.cover import Cover\r\n",
    "from kmapper import jupyter # Creates custom CSS full-size Jupyter screen"
   ]
  },
  {
   "cell_type": "markdown",
   "metadata": {},
   "source": [
    "## Chargement des données"
   ]
  },
  {
   "cell_type": "code",
   "execution_count": 7,
   "metadata": {},
   "outputs": [],
   "source": [
    "# data_firm_level = pd.read_stata(\"../Data/Firm_patent/data_firm_level.dta\")\r\n",
    "# data_patent_level = pd.read_stata(\"../Data/Patent_level_data/data_patent_level.dta\")\r\n",
    "# cites = pd.read_stata(\"../Data/Patent_level_data/USPatent_1926-2010/cites/cites.dta\")\r\n",
    "# firm_innovation_v2 = pd.read_stata(\"../Data/Patent_level_data/USPatent_1926-2010/firm_innovation/firm_innovation_v2.dta\")\r\n",
    "# patents_xi = pd.read_stata(\"../Data/Patent_level_data/USPatent_1926-2010/patents_xi/patents_xi.dta\")\r\n",
    "# patent_values = pd.read_stata(\"../Data/Patent_level_data/Patent_CRSP_match_1929-2017/patent_values/patent_values.dta\")"
   ]
  },
  {
   "cell_type": "markdown",
   "metadata": {},
   "source": [
    "## Utilisation de la base merged"
   ]
  },
  {
   "cell_type": "markdown",
   "metadata": {},
   "source": [
    "### Récupération des données en dataframe pandas"
   ]
  },
  {
   "cell_type": "code",
   "execution_count": 8,
   "metadata": {},
   "outputs": [],
   "source": [
    "patents_firm_merge = pd.read_stata(\"../Data/Firm_patent/patents_firm_merge.dta\")"
   ]
  },
  {
   "cell_type": "code",
   "execution_count": 9,
   "metadata": {},
   "outputs": [
    {
     "data": {
      "text/html": "<div>\n<style scoped>\n    .dataframe tbody tr th:only-of-type {\n        vertical-align: middle;\n    }\n\n    .dataframe tbody tr th {\n        vertical-align: top;\n    }\n\n    .dataframe thead th {\n        text-align: right;\n    }\n</style>\n<table border=\"1\" class=\"dataframe\">\n  <thead>\n    <tr style=\"text-align: right;\">\n      <th></th>\n      <th>index</th>\n      <th>patnum</th>\n      <th>fdate</th>\n      <th>idate</th>\n      <th>pdate</th>\n      <th>permno</th>\n      <th>patent_class</th>\n      <th>subclass</th>\n      <th>ncites</th>\n      <th>xi</th>\n      <th>year</th>\n      <th>Npats</th>\n      <th>Tcw</th>\n      <th>Tsm</th>\n      <th>tcw</th>\n      <th>tsm</th>\n      <th>_merge</th>\n    </tr>\n  </thead>\n  <tbody>\n    <tr>\n      <th>0</th>\n      <td>37352</td>\n      <td>1605417</td>\n      <td>10/23/1923</td>\n      <td>11/02/1926</td>\n      <td></td>\n      <td>10006.0</td>\n      <td>403.0</td>\n      <td>206000O</td>\n      <td>2.0</td>\n      <td>0.046886</td>\n      <td>1926</td>\n      <td>10</td>\n      <td>18.980768</td>\n      <td>0.375693</td>\n      <td>NaN</td>\n      <td>NaN</td>\n      <td>matched (3)</td>\n    </tr>\n    <tr>\n      <th>1</th>\n      <td>11188</td>\n      <td>1579234</td>\n      <td>05/14/1923</td>\n      <td>04/06/1926</td>\n      <td></td>\n      <td>10006.0</td>\n      <td>74.0</td>\n      <td>503000O</td>\n      <td>4.0</td>\n      <td>0.031358</td>\n      <td>1926</td>\n      <td>10</td>\n      <td>18.980768</td>\n      <td>0.375693</td>\n      <td>NaN</td>\n      <td>NaN</td>\n      <td>matched (3)</td>\n    </tr>\n    <tr>\n      <th>2</th>\n      <td>37345</td>\n      <td>1605410</td>\n      <td>04/09/1926</td>\n      <td>11/02/1926</td>\n      <td></td>\n      <td>10006.0</td>\n      <td>295.0</td>\n      <td>042000O</td>\n      <td>1.0</td>\n      <td>0.046886</td>\n      <td>1926</td>\n      <td>10</td>\n      <td>18.980768</td>\n      <td>0.375693</td>\n      <td>NaN</td>\n      <td>NaN</td>\n      <td>matched (3)</td>\n    </tr>\n    <tr>\n      <th>3</th>\n      <td>37377</td>\n      <td>1605442</td>\n      <td>03/24/1922</td>\n      <td>11/02/1926</td>\n      <td></td>\n      <td>10006.0</td>\n      <td>164.0</td>\n      <td>168000O</td>\n      <td>0.0</td>\n      <td>0.046886</td>\n      <td>1926</td>\n      <td>10</td>\n      <td>18.980768</td>\n      <td>0.375693</td>\n      <td>NaN</td>\n      <td>NaN</td>\n      <td>matched (3)</td>\n    </tr>\n    <tr>\n      <th>4</th>\n      <td>37350</td>\n      <td>1605415</td>\n      <td>01/22/1923</td>\n      <td>11/02/1926</td>\n      <td></td>\n      <td>10006.0</td>\n      <td>267.0</td>\n      <td>086000O</td>\n      <td>2.0</td>\n      <td>0.046886</td>\n      <td>1926</td>\n      <td>10</td>\n      <td>18.980768</td>\n      <td>0.375693</td>\n      <td>NaN</td>\n      <td>NaN</td>\n      <td>matched (3)</td>\n    </tr>\n    <tr>\n      <th>...</th>\n      <td>...</td>\n      <td>...</td>\n      <td>...</td>\n      <td>...</td>\n      <td>...</td>\n      <td>...</td>\n      <td>...</td>\n      <td>...</td>\n      <td>...</td>\n      <td>...</td>\n      <td>...</td>\n      <td>...</td>\n      <td>...</td>\n      <td>...</td>\n      <td>...</td>\n      <td>...</td>\n      <td>...</td>\n    </tr>\n    <tr>\n      <th>1844876</th>\n      <td>4252965</td>\n      <td>5834226</td>\n      <td>01/31/1991</td>\n      <td>11/10/1998</td>\n      <td></td>\n      <td>93236.0</td>\n      <td>435.0</td>\n      <td>015000O</td>\n      <td>23.0</td>\n      <td>0.107588</td>\n      <td>1998</td>\n      <td>1</td>\n      <td>2.480992</td>\n      <td>0.107588</td>\n      <td>NaN</td>\n      <td>NaN</td>\n      <td>matched (3)</td>\n    </tr>\n    <tr>\n      <th>1844877</th>\n      <td>2942383</td>\n      <td>4515145</td>\n      <td>10/03/1983</td>\n      <td>05/07/1985</td>\n      <td></td>\n      <td>93252.0</td>\n      <td>126.0</td>\n      <td>09900AO</td>\n      <td>24.0</td>\n      <td>0.141288</td>\n      <td>1985</td>\n      <td>1</td>\n      <td>2.896310</td>\n      <td>0.141288</td>\n      <td>0.734918</td>\n      <td>0.035851</td>\n      <td>matched (3)</td>\n    </tr>\n    <tr>\n      <th>1844878</th>\n      <td>3287665</td>\n      <td>4860725</td>\n      <td>04/27/1989</td>\n      <td>08/29/1989</td>\n      <td></td>\n      <td>93252.0</td>\n      <td>126.0</td>\n      <td>11000RO</td>\n      <td>6.0</td>\n      <td>0.092077</td>\n      <td>1989</td>\n      <td>1</td>\n      <td>1.415194</td>\n      <td>0.092077</td>\n      <td>0.449839</td>\n      <td>0.029268</td>\n      <td>matched (3)</td>\n    </tr>\n    <tr>\n      <th>1844879</th>\n      <td>3000202</td>\n      <td>4573009</td>\n      <td>12/07/1983</td>\n      <td>02/25/1986</td>\n      <td></td>\n      <td>93287.0</td>\n      <td>324.0</td>\n      <td>750250O</td>\n      <td>12.0</td>\n      <td>0.457411</td>\n      <td>1986</td>\n      <td>2</td>\n      <td>4.185905</td>\n      <td>0.830930</td>\n      <td>0.081887</td>\n      <td>0.016255</td>\n      <td>matched (3)</td>\n    </tr>\n    <tr>\n      <th>1844880</th>\n      <td>3020972</td>\n      <td>4593804</td>\n      <td>10/21/1985</td>\n      <td>06/10/1986</td>\n      <td></td>\n      <td>93287.0</td>\n      <td>193.0</td>\n      <td>041000O</td>\n      <td>17.0</td>\n      <td>0.373519</td>\n      <td>1986</td>\n      <td>2</td>\n      <td>4.185905</td>\n      <td>0.830930</td>\n      <td>0.081887</td>\n      <td>0.016255</td>\n      <td>matched (3)</td>\n    </tr>\n  </tbody>\n</table>\n<p>1844881 rows × 17 columns</p>\n</div>",
      "text/plain": "           index   patnum       fdate       idate pdate   permno patent_class  \\\n0          37352  1605417  10/23/1923  11/02/1926        10006.0        403.0   \n1          11188  1579234  05/14/1923  04/06/1926        10006.0         74.0   \n2          37345  1605410  04/09/1926  11/02/1926        10006.0        295.0   \n3          37377  1605442  03/24/1922  11/02/1926        10006.0        164.0   \n4          37350  1605415  01/22/1923  11/02/1926        10006.0        267.0   \n...          ...      ...         ...         ...   ...      ...          ...   \n1844876  4252965  5834226  01/31/1991  11/10/1998        93236.0        435.0   \n1844877  2942383  4515145  10/03/1983  05/07/1985        93252.0        126.0   \n1844878  3287665  4860725  04/27/1989  08/29/1989        93252.0        126.0   \n1844879  3000202  4573009  12/07/1983  02/25/1986        93287.0        324.0   \n1844880  3020972  4593804  10/21/1985  06/10/1986        93287.0        193.0   \n\n        subclass  ncites        xi  year  Npats        Tcw       Tsm  \\\n0        206000O     2.0  0.046886  1926     10  18.980768  0.375693   \n1        503000O     4.0  0.031358  1926     10  18.980768  0.375693   \n2        042000O     1.0  0.046886  1926     10  18.980768  0.375693   \n3        168000O     0.0  0.046886  1926     10  18.980768  0.375693   \n4        086000O     2.0  0.046886  1926     10  18.980768  0.375693   \n...          ...     ...       ...   ...    ...        ...       ...   \n1844876  015000O    23.0  0.107588  1998      1   2.480992  0.107588   \n1844877  09900AO    24.0  0.141288  1985      1   2.896310  0.141288   \n1844878  11000RO     6.0  0.092077  1989      1   1.415194  0.092077   \n1844879  750250O    12.0  0.457411  1986      2   4.185905  0.830930   \n1844880  041000O    17.0  0.373519  1986      2   4.185905  0.830930   \n\n              tcw       tsm       _merge  \n0             NaN       NaN  matched (3)  \n1             NaN       NaN  matched (3)  \n2             NaN       NaN  matched (3)  \n3             NaN       NaN  matched (3)  \n4             NaN       NaN  matched (3)  \n...           ...       ...          ...  \n1844876       NaN       NaN  matched (3)  \n1844877  0.734918  0.035851  matched (3)  \n1844878  0.449839  0.029268  matched (3)  \n1844879  0.081887  0.016255  matched (3)  \n1844880  0.081887  0.016255  matched (3)  \n\n[1844881 rows x 17 columns]"
     },
     "execution_count": 9,
     "metadata": {},
     "output_type": "execute_result"
    }
   ],
   "source": [
    "patents_firm_merge"
   ]
  },
  {
   "cell_type": "markdown",
   "metadata": {},
   "source": [
    "### Utilise les index données dans la df et convertit les dates"
   ]
  },
  {
   "cell_type": "code",
   "execution_count": 10,
   "metadata": {},
   "outputs": [],
   "source": [
    "datetime_df = patents_firm_merge.set_index(\"index\")\r\n",
    "for col in [\"fdate\", \"idate\", \"pdate\"]:\r\n",
    "    datetime_df[col] = pd.to_datetime(patents_firm_merge[col], infer_datetime_format=True, errors=\"coerce\")"
   ]
  },
  {
   "cell_type": "code",
   "execution_count": 11,
   "metadata": {},
   "outputs": [
    {
     "data": {
      "text/plain": "patnum                   int32\nfdate           datetime64[ns]\nidate           datetime64[ns]\npdate           datetime64[ns]\npermno                 float64\npatent_class            object\nsubclass                object\nncites                 float64\nxi                     float64\nyear                     int32\nNpats                    int32\nTcw                    float64\nTsm                    float64\ntcw                    float64\ntsm                    float64\n_merge                category\ndtype: object"
     },
     "execution_count": 11,
     "metadata": {},
     "output_type": "execute_result"
    }
   ],
   "source": [
    "datetime_df.dtypes"
   ]
  },
  {
   "cell_type": "markdown",
   "metadata": {},
   "source": [
    "### On enlève les lignes incomplètes\r\n",
    "\r\n",
    "On voit le pourcentage de lignes non vides pour chaques colonnes :"
   ]
  },
  {
   "cell_type": "code",
   "execution_count": 12,
   "metadata": {},
   "outputs": [
    {
     "data": {
      "text/plain": "patnum          1.000000\nfdate           0.179741\nidate           0.181243\npdate           0.050828\npermno          1.000000\npatent_class    1.000000\nsubclass        1.000000\nncites          0.976691\nxi              0.976691\nyear            1.000000\nNpats           1.000000\nTcw             1.000000\nTsm             1.000000\ntcw             0.904892\ntsm             0.904892\n_merge          1.000000\ndtype: float64"
     },
     "execution_count": 12,
     "metadata": {},
     "output_type": "execute_result"
    }
   ],
   "source": [
    "datetime_df.count()/len(datetime_df)"
   ]
  },
  {
   "cell_type": "code",
   "execution_count": 13,
   "metadata": {},
   "outputs": [],
   "source": [
    "full_df = datetime_df.dropna(subset=['xi', 'ncites', 'tcw', 'tsm'])"
   ]
  },
  {
   "cell_type": "code",
   "execution_count": 14,
   "metadata": {},
   "outputs": [
    {
     "data": {
      "text/plain": "patnum          1.000000\nfdate           0.115469\nidate           0.116026\npdate           0.042676\npermno          1.000000\npatent_class    1.000000\nsubclass        1.000000\nncites          1.000000\nxi              1.000000\nyear            1.000000\nNpats           1.000000\nTcw             1.000000\nTsm             1.000000\ntcw             1.000000\ntsm             1.000000\n_merge          1.000000\ndtype: float64"
     },
     "execution_count": 14,
     "metadata": {},
     "output_type": "execute_result"
    }
   ],
   "source": [
    "full_df.count()/len(full_df)"
   ]
  },
  {
   "cell_type": "code",
   "execution_count": 15,
   "metadata": {},
   "outputs": [
    {
     "data": {
      "text/html": "<div>\n<style scoped>\n    .dataframe tbody tr th:only-of-type {\n        vertical-align: middle;\n    }\n\n    .dataframe tbody tr th {\n        vertical-align: top;\n    }\n\n    .dataframe thead th {\n        text-align: right;\n    }\n</style>\n<table border=\"1\" class=\"dataframe\">\n  <thead>\n    <tr style=\"text-align: right;\">\n      <th></th>\n      <th>patnum</th>\n      <th>fdate</th>\n      <th>idate</th>\n      <th>pdate</th>\n      <th>permno</th>\n      <th>patent_class</th>\n      <th>subclass</th>\n      <th>ncites</th>\n      <th>xi</th>\n      <th>year</th>\n      <th>Npats</th>\n      <th>Tcw</th>\n      <th>Tsm</th>\n      <th>tcw</th>\n      <th>tsm</th>\n      <th>_merge</th>\n    </tr>\n    <tr>\n      <th>index</th>\n      <th></th>\n      <th></th>\n      <th></th>\n      <th></th>\n      <th></th>\n      <th></th>\n      <th></th>\n      <th></th>\n      <th></th>\n      <th></th>\n      <th></th>\n      <th></th>\n      <th></th>\n      <th></th>\n      <th></th>\n      <th></th>\n    </tr>\n  </thead>\n  <tbody>\n    <tr>\n      <th>945816</th>\n      <td>2514534</td>\n      <td>1967-10-12</td>\n      <td>1969-12-30</td>\n      <td>NaT</td>\n      <td>10006.0</td>\n      <td>295.0</td>\n      <td>042000O</td>\n      <td>0.0</td>\n      <td>0.120056</td>\n      <td>1950</td>\n      <td>6</td>\n      <td>8.378170</td>\n      <td>0.782956</td>\n      <td>0.057741</td>\n      <td>0.005396</td>\n      <td>matched (3)</td>\n    </tr>\n    <tr>\n      <th>935937</th>\n      <td>2504645</td>\n      <td>1985-05-08</td>\n      <td>1988-02-16</td>\n      <td>NaT</td>\n      <td>10006.0</td>\n      <td>297.0</td>\n      <td>067000O</td>\n      <td>3.0</td>\n      <td>0.102665</td>\n      <td>1950</td>\n      <td>6</td>\n      <td>8.378170</td>\n      <td>0.782956</td>\n      <td>0.057741</td>\n      <td>0.005396</td>\n      <td>matched (3)</td>\n    </tr>\n    <tr>\n      <th>959346</th>\n      <td>2528074</td>\n      <td>NaT</td>\n      <td>1972-09-19</td>\n      <td>NaT</td>\n      <td>10006.0</td>\n      <td>105.0</td>\n      <td>457000O</td>\n      <td>1.0</td>\n      <td>0.142487</td>\n      <td>1950</td>\n      <td>6</td>\n      <td>8.378170</td>\n      <td>0.782956</td>\n      <td>0.057741</td>\n      <td>0.005396</td>\n      <td>matched (3)</td>\n    </tr>\n    <tr>\n      <th>927976</th>\n      <td>2496677</td>\n      <td>1998-01-16</td>\n      <td>1999-06-29</td>\n      <td>NaT</td>\n      <td>10006.0</td>\n      <td>285.0</td>\n      <td>189000O</td>\n      <td>6.0</td>\n      <td>0.135619</td>\n      <td>1950</td>\n      <td>6</td>\n      <td>8.378170</td>\n      <td>0.782956</td>\n      <td>0.057741</td>\n      <td>0.005396</td>\n      <td>matched (3)</td>\n    </tr>\n    <tr>\n      <th>939627</th>\n      <td>2508339</td>\n      <td>1995-06-16</td>\n      <td>1997-06-17</td>\n      <td>NaT</td>\n      <td>10006.0</td>\n      <td>105.0</td>\n      <td>004100O</td>\n      <td>2.0</td>\n      <td>0.132544</td>\n      <td>1950</td>\n      <td>6</td>\n      <td>8.378170</td>\n      <td>0.782956</td>\n      <td>0.057741</td>\n      <td>0.005396</td>\n      <td>matched (3)</td>\n    </tr>\n    <tr>\n      <th>...</th>\n      <td>...</td>\n      <td>...</td>\n      <td>...</td>\n      <td>...</td>\n      <td>...</td>\n      <td>...</td>\n      <td>...</td>\n      <td>...</td>\n      <td>...</td>\n      <td>...</td>\n      <td>...</td>\n      <td>...</td>\n      <td>...</td>\n      <td>...</td>\n      <td>...</td>\n      <td>...</td>\n    </tr>\n    <tr>\n      <th>4120707</th>\n      <td>5699182</td>\n      <td>NaT</td>\n      <td>NaT</td>\n      <td>NaT</td>\n      <td>93236.0</td>\n      <td>359.0</td>\n      <td>321000O</td>\n      <td>3.0</td>\n      <td>0.279402</td>\n      <td>1997</td>\n      <td>1</td>\n      <td>1.191137</td>\n      <td>0.279402</td>\n      <td>0.331701</td>\n      <td>0.077806</td>\n      <td>matched (3)</td>\n    </tr>\n    <tr>\n      <th>2942383</th>\n      <td>4515145</td>\n      <td>NaT</td>\n      <td>NaT</td>\n      <td>NaT</td>\n      <td>93252.0</td>\n      <td>126.0</td>\n      <td>09900AO</td>\n      <td>24.0</td>\n      <td>0.141288</td>\n      <td>1985</td>\n      <td>1</td>\n      <td>2.896310</td>\n      <td>0.141288</td>\n      <td>0.734918</td>\n      <td>0.035851</td>\n      <td>matched (3)</td>\n    </tr>\n    <tr>\n      <th>3287665</th>\n      <td>4860725</td>\n      <td>NaT</td>\n      <td>NaT</td>\n      <td>NaT</td>\n      <td>93252.0</td>\n      <td>126.0</td>\n      <td>11000RO</td>\n      <td>6.0</td>\n      <td>0.092077</td>\n      <td>1989</td>\n      <td>1</td>\n      <td>1.415194</td>\n      <td>0.092077</td>\n      <td>0.449839</td>\n      <td>0.029268</td>\n      <td>matched (3)</td>\n    </tr>\n    <tr>\n      <th>3000202</th>\n      <td>4573009</td>\n      <td>NaT</td>\n      <td>NaT</td>\n      <td>NaT</td>\n      <td>93287.0</td>\n      <td>324.0</td>\n      <td>750250O</td>\n      <td>12.0</td>\n      <td>0.457411</td>\n      <td>1986</td>\n      <td>2</td>\n      <td>4.185905</td>\n      <td>0.830930</td>\n      <td>0.081887</td>\n      <td>0.016255</td>\n      <td>matched (3)</td>\n    </tr>\n    <tr>\n      <th>3020972</th>\n      <td>4593804</td>\n      <td>NaT</td>\n      <td>NaT</td>\n      <td>NaT</td>\n      <td>93287.0</td>\n      <td>193.0</td>\n      <td>041000O</td>\n      <td>17.0</td>\n      <td>0.373519</td>\n      <td>1986</td>\n      <td>2</td>\n      <td>4.185905</td>\n      <td>0.830930</td>\n      <td>0.081887</td>\n      <td>0.016255</td>\n      <td>matched (3)</td>\n    </tr>\n  </tbody>\n</table>\n<p>1636192 rows × 16 columns</p>\n</div>",
      "text/plain": "          patnum      fdate      idate pdate   permno patent_class subclass  \\\nindex                                                                         \n945816   2514534 1967-10-12 1969-12-30   NaT  10006.0        295.0  042000O   \n935937   2504645 1985-05-08 1988-02-16   NaT  10006.0        297.0  067000O   \n959346   2528074        NaT 1972-09-19   NaT  10006.0        105.0  457000O   \n927976   2496677 1998-01-16 1999-06-29   NaT  10006.0        285.0  189000O   \n939627   2508339 1995-06-16 1997-06-17   NaT  10006.0        105.0  004100O   \n...          ...        ...        ...   ...      ...          ...      ...   \n4120707  5699182        NaT        NaT   NaT  93236.0        359.0  321000O   \n2942383  4515145        NaT        NaT   NaT  93252.0        126.0  09900AO   \n3287665  4860725        NaT        NaT   NaT  93252.0        126.0  11000RO   \n3000202  4573009        NaT        NaT   NaT  93287.0        324.0  750250O   \n3020972  4593804        NaT        NaT   NaT  93287.0        193.0  041000O   \n\n         ncites        xi  year  Npats       Tcw       Tsm       tcw  \\\nindex                                                                  \n945816      0.0  0.120056  1950      6  8.378170  0.782956  0.057741   \n935937      3.0  0.102665  1950      6  8.378170  0.782956  0.057741   \n959346      1.0  0.142487  1950      6  8.378170  0.782956  0.057741   \n927976      6.0  0.135619  1950      6  8.378170  0.782956  0.057741   \n939627      2.0  0.132544  1950      6  8.378170  0.782956  0.057741   \n...         ...       ...   ...    ...       ...       ...       ...   \n4120707     3.0  0.279402  1997      1  1.191137  0.279402  0.331701   \n2942383    24.0  0.141288  1985      1  2.896310  0.141288  0.734918   \n3287665     6.0  0.092077  1989      1  1.415194  0.092077  0.449839   \n3000202    12.0  0.457411  1986      2  4.185905  0.830930  0.081887   \n3020972    17.0  0.373519  1986      2  4.185905  0.830930  0.081887   \n\n              tsm       _merge  \nindex                           \n945816   0.005396  matched (3)  \n935937   0.005396  matched (3)  \n959346   0.005396  matched (3)  \n927976   0.005396  matched (3)  \n939627   0.005396  matched (3)  \n...           ...          ...  \n4120707  0.077806  matched (3)  \n2942383  0.035851  matched (3)  \n3287665  0.029268  matched (3)  \n3000202  0.016255  matched (3)  \n3020972  0.016255  matched (3)  \n\n[1636192 rows x 16 columns]"
     },
     "execution_count": 15,
     "metadata": {},
     "output_type": "execute_result"
    }
   ],
   "source": [
    "full_df"
   ]
  },
  {
   "cell_type": "markdown",
   "metadata": {},
   "source": [
    "### On lisse les données numériques par rapport au temps"
   ]
  },
  {
   "cell_type": "code",
   "execution_count": 16,
   "metadata": {},
   "outputs": [],
   "source": [
    "features = [\"xi\", \"Tcw\", \"Tsm\", \"tcw\", \"tsm\", \"ncites\"]\n",
    "SMA_features = [\"SMA_\"+l for l in features]"
   ]
  },
  {
   "cell_type": "code",
   "execution_count": 17,
   "metadata": {},
   "outputs": [],
   "source": [
    "full_df[SMA_features] = full_df.sort_values(by=\"idate\"\n",
    ").groupby([\"permno\", \"patent_class\"]\n",
    ")[features\n",
    "].rolling(window=5, min_periods=1\n",
    ").mean(\n",
    ").reset_index(level=[0, 1], drop=True\n",
    ").rename(columns={l: \"SMA_\"+l for l in features})"
   ]
  },
  {
   "cell_type": "code",
   "execution_count": 18,
   "metadata": {},
   "outputs": [],
   "source": [
    "for l in features:\n",
    "    full_df[\"log_\"+l] = np.log(1 + full_df[\"SMA_\"+l])"
   ]
  },
  {
   "cell_type": "markdown",
   "metadata": {},
   "source": [
    "### On normalise les données numériques lissées et passées au log"
   ]
  },
  {
   "cell_type": "code",
   "execution_count": 19,
   "metadata": {},
   "outputs": [],
   "source": [
    "matrix = full_df[['log_xi', 'log_Tcw', 'log_Tsm', 'log_tcw', 'log_tsm', 'log_ncites']]"
   ]
  },
  {
   "cell_type": "code",
   "execution_count": 20,
   "metadata": {},
   "outputs": [
    {
     "data": {
      "text/html": "<div>\n<style scoped>\n    .dataframe tbody tr th:only-of-type {\n        vertical-align: middle;\n    }\n\n    .dataframe tbody tr th {\n        vertical-align: top;\n    }\n\n    .dataframe thead th {\n        text-align: right;\n    }\n</style>\n<table border=\"1\" class=\"dataframe\">\n  <thead>\n    <tr style=\"text-align: right;\">\n      <th></th>\n      <th>log_xi</th>\n      <th>log_Tcw</th>\n      <th>log_Tsm</th>\n      <th>log_tcw</th>\n      <th>log_tsm</th>\n      <th>log_ncites</th>\n    </tr>\n    <tr>\n      <th>index</th>\n      <th></th>\n      <th></th>\n      <th></th>\n      <th></th>\n      <th></th>\n      <th></th>\n    </tr>\n  </thead>\n  <tbody>\n    <tr>\n      <th>945816</th>\n      <td>0.113379</td>\n      <td>2.238385</td>\n      <td>0.578272</td>\n      <td>0.056135</td>\n      <td>0.005381</td>\n      <td>0.000000</td>\n    </tr>\n    <tr>\n      <th>935937</th>\n      <td>0.051180</td>\n      <td>3.433527</td>\n      <td>0.856201</td>\n      <td>0.178222</td>\n      <td>0.008833</td>\n      <td>1.832581</td>\n    </tr>\n    <tr>\n      <th>959346</th>\n      <td>0.088516</td>\n      <td>3.448855</td>\n      <td>0.868194</td>\n      <td>0.179613</td>\n      <td>0.008955</td>\n      <td>0.559616</td>\n    </tr>\n    <tr>\n      <th>927976</th>\n      <td>0.127178</td>\n      <td>2.238385</td>\n      <td>0.578272</td>\n      <td>0.056135</td>\n      <td>0.005381</td>\n      <td>1.945910</td>\n    </tr>\n    <tr>\n      <th>939627</th>\n      <td>0.617228</td>\n      <td>4.432503</td>\n      <td>3.219052</td>\n      <td>0.253160</td>\n      <td>0.070605</td>\n      <td>2.397895</td>\n    </tr>\n    <tr>\n      <th>...</th>\n      <td>...</td>\n      <td>...</td>\n      <td>...</td>\n      <td>...</td>\n      <td>...</td>\n      <td>...</td>\n    </tr>\n    <tr>\n      <th>4120707</th>\n      <td>0.246393</td>\n      <td>0.784421</td>\n      <td>0.246393</td>\n      <td>0.286457</td>\n      <td>0.074928</td>\n      <td>1.386294</td>\n    </tr>\n    <tr>\n      <th>2942383</th>\n      <td>0.132157</td>\n      <td>1.360030</td>\n      <td>0.132157</td>\n      <td>0.550960</td>\n      <td>0.035223</td>\n      <td>3.218876</td>\n    </tr>\n    <tr>\n      <th>3287665</th>\n      <td>0.110362</td>\n      <td>1.149227</td>\n      <td>0.110362</td>\n      <td>0.465229</td>\n      <td>0.032041</td>\n      <td>2.772589</td>\n    </tr>\n    <tr>\n      <th>3000202</th>\n      <td>0.376662</td>\n      <td>1.645944</td>\n      <td>0.604824</td>\n      <td>0.078707</td>\n      <td>0.016124</td>\n      <td>2.564949</td>\n    </tr>\n    <tr>\n      <th>3020972</th>\n      <td>0.317376</td>\n      <td>1.645944</td>\n      <td>0.604824</td>\n      <td>0.078707</td>\n      <td>0.016124</td>\n      <td>2.890372</td>\n    </tr>\n  </tbody>\n</table>\n<p>1636192 rows × 6 columns</p>\n</div>",
      "text/plain": "           log_xi   log_Tcw   log_Tsm   log_tcw   log_tsm  log_ncites\nindex                                                                \n945816   0.113379  2.238385  0.578272  0.056135  0.005381    0.000000\n935937   0.051180  3.433527  0.856201  0.178222  0.008833    1.832581\n959346   0.088516  3.448855  0.868194  0.179613  0.008955    0.559616\n927976   0.127178  2.238385  0.578272  0.056135  0.005381    1.945910\n939627   0.617228  4.432503  3.219052  0.253160  0.070605    2.397895\n...           ...       ...       ...       ...       ...         ...\n4120707  0.246393  0.784421  0.246393  0.286457  0.074928    1.386294\n2942383  0.132157  1.360030  0.132157  0.550960  0.035223    3.218876\n3287665  0.110362  1.149227  0.110362  0.465229  0.032041    2.772589\n3000202  0.376662  1.645944  0.604824  0.078707  0.016124    2.564949\n3020972  0.317376  1.645944  0.604824  0.078707  0.016124    2.890372\n\n[1636192 rows x 6 columns]"
     },
     "execution_count": 20,
     "metadata": {},
     "output_type": "execute_result"
    }
   ],
   "source": [
    "matrix"
   ]
  },
  {
   "cell_type": "code",
   "execution_count": 21,
   "metadata": {},
   "outputs": [],
   "source": [
    "normalised_matrix = StandardScaler().fit_transform(matrix)"
   ]
  },
  {
   "cell_type": "code",
   "execution_count": 22,
   "metadata": {},
   "outputs": [
    {
     "data": {
      "text/plain": "array([[-1.23362196, -2.18521409, -2.3238568 , -0.38447203, -0.81615607,\n        -2.12685935],\n       [-1.27959364, -1.49767179, -2.21475615,  0.26466516, -0.80346417,\n        -0.20609846],\n       [-1.25199847, -1.48885425, -2.2100485 ,  0.27206083, -0.80301852,\n        -1.54031619],\n       ...,\n       [-1.23585146, -2.81178535, -2.50753463,  1.79068831, -0.71813784,\n         0.77913969],\n       [-1.03902582, -2.52603353, -2.31343393, -0.26445808, -0.77665703,\n         0.56150922],\n       [-1.08284464, -2.52603353, -2.31343393, -0.26445808, -0.77665703,\n         0.90259016]])"
     },
     "execution_count": 22,
     "metadata": {},
     "output_type": "execute_result"
    }
   ],
   "source": [
    "normalised_matrix"
   ]
  },
  {
   "cell_type": "markdown",
   "metadata": {},
   "source": [
    "### On fait une ACP sur cette matrice\r\n",
    "\r\n",
    "Puis on rajoute les indices"
   ]
  },
  {
   "cell_type": "code",
   "execution_count": 23,
   "metadata": {},
   "outputs": [],
   "source": [
    "pca = PCA(n_components=2)\r\n",
    "principalComponents = pca.fit_transform(normalised_matrix)\r\n",
    "principalDf = pd.DataFrame(data=principalComponents, columns=['PC1', 'PC2'])"
   ]
  },
  {
   "cell_type": "code",
   "execution_count": 24,
   "metadata": {},
   "outputs": [],
   "source": [
    "projected_data = pd.concat([matrix.reset_index()[\"index\"], principalDf], axis=1).set_index(\"index\")"
   ]
  },
  {
   "cell_type": "code",
   "execution_count": 25,
   "metadata": {},
   "outputs": [
    {
     "data": {
      "text/html": "<div>\n<style scoped>\n    .dataframe tbody tr th:only-of-type {\n        vertical-align: middle;\n    }\n\n    .dataframe tbody tr th {\n        vertical-align: top;\n    }\n\n    .dataframe thead th {\n        text-align: right;\n    }\n</style>\n<table border=\"1\" class=\"dataframe\">\n  <thead>\n    <tr style=\"text-align: right;\">\n      <th></th>\n      <th>PC1</th>\n      <th>PC2</th>\n    </tr>\n    <tr>\n      <th>index</th>\n      <th></th>\n      <th></th>\n    </tr>\n  </thead>\n  <tbody>\n    <tr>\n      <th>945816</th>\n      <td>-3.158073</td>\n      <td>-0.616306</td>\n    </tr>\n    <tr>\n      <th>935937</th>\n      <td>-2.922589</td>\n      <td>0.442155</td>\n    </tr>\n    <tr>\n      <th>959346</th>\n      <td>-2.979120</td>\n      <td>-0.339355</td>\n    </tr>\n    <tr>\n      <th>927976</th>\n      <td>-3.037132</td>\n      <td>0.587018</td>\n    </tr>\n    <tr>\n      <th>939627</th>\n      <td>-1.908329</td>\n      <td>0.721535</td>\n    </tr>\n    <tr>\n      <th>...</th>\n      <td>...</td>\n      <td>...</td>\n    </tr>\n    <tr>\n      <th>4120707</th>\n      <td>-3.517691</td>\n      <td>1.298113</td>\n    </tr>\n    <tr>\n      <th>2942383</th>\n      <td>-3.743391</td>\n      <td>2.790867</td>\n    </tr>\n    <tr>\n      <th>3287665</th>\n      <td>-3.729543</td>\n      <td>2.373993</td>\n    </tr>\n    <tr>\n      <th>3000202</th>\n      <td>-3.012566</td>\n      <td>1.233964</td>\n    </tr>\n    <tr>\n      <th>3020972</th>\n      <td>-3.016694</td>\n      <td>1.425505</td>\n    </tr>\n  </tbody>\n</table>\n<p>1636192 rows × 2 columns</p>\n</div>",
      "text/plain": "              PC1       PC2\nindex                      \n945816  -3.158073 -0.616306\n935937  -2.922589  0.442155\n959346  -2.979120 -0.339355\n927976  -3.037132  0.587018\n939627  -1.908329  0.721535\n...           ...       ...\n4120707 -3.517691  1.298113\n2942383 -3.743391  2.790867\n3287665 -3.729543  2.373993\n3000202 -3.012566  1.233964\n3020972 -3.016694  1.425505\n\n[1636192 rows x 2 columns]"
     },
     "execution_count": 25,
     "metadata": {},
     "output_type": "execute_result"
    }
   ],
   "source": [
    "projected_data"
   ]
  },
  {
   "cell_type": "markdown",
   "metadata": {},
   "source": [
    "### On applique le Mapper Algorithm"
   ]
  },
  {
   "cell_type": "code",
   "execution_count": 26,
   "metadata": {},
   "outputs": [],
   "source": [
    "# Initialize\r\n",
    "mapper = km.KeplerMapper(verbose=0)\r\n",
    "# Cover\r\n",
    "cov = Cover(n_cubes=20, perc_overlap=0.5)"
   ]
  },
  {
   "cell_type": "code",
   "execution_count": 27,
   "metadata": {},
   "outputs": [],
   "source": [
    "proj_matrix = mapper.fit_transform(X=matrix, projection=PCA(n_components=2), scaler=StandardScaler())"
   ]
  },
  {
   "cell_type": "code",
   "execution_count": 28,
   "metadata": {},
   "outputs": [],
   "source": [
    "# Create dictionary called 'graph' with nodes, edges and meta-information\r\n",
    "graph = mapper.map(lens=projected_data, X=normalised_matrix, cover=cov, clusterer=AgglomerativeClustering(10, linkage=\"single\"))"
   ]
  },
  {
   "cell_type": "code",
   "execution_count": null,
   "metadata": {},
   "outputs": [],
   "source": [
    "# Visualize it\r\n",
    "html = mapper.visualize(graph, path_html=\"../docs/MapperCluster.html\", title=\"Mapper Clustering Algorithm\")\r\n",
    "\r\n",
    "# Inline display\r\n",
    "# jupyter.display(path_html=\"../docs/MapperCluster.html\")"
   ]
  }
 ],
 "metadata": {
  "kernelspec": {
   "display_name": "Python 3.9.1 64-bit ('statapp': conda)",
   "metadata": {
    "interpreter": {
     "hash": "378f004e57fe3eca8e623a5d07b582d035b03563d5176b734c6491bec59f748c"
    }
   },
   "name": "python3"
  },
  "language_info": {
   "codemirror_mode": {
    "name": "ipython",
    "version": 3
   },
   "file_extension": ".py",
   "mimetype": "text/x-python",
   "name": "python",
   "nbconvert_exporter": "python",
   "pygments_lexer": "ipython3",
   "version": "3.9.1"
  },
  "orig_nbformat": 2
 },
 "nbformat": 4,
 "nbformat_minor": 2
}