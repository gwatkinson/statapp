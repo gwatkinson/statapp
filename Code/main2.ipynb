{
 "cells": [
  {
   "cell_type": "markdown",
   "metadata": {},
   "source": [
    "# Clustering Mapper"
   ]
  },
  {
   "cell_type": "markdown",
   "metadata": {},
   "source": [
    "## Importation des modules"
   ]
  },
  {
   "cell_type": "code",
   "execution_count": 141,
   "metadata": {},
   "outputs": [],
   "source": [
    "# Modules de base\n",
    "import pandas as pd\n",
    "import numpy as np\n",
    "from matplotlib import pyplot as plt\n",
    "\n",
    "# Preprocessing\n",
    "from sklearn.preprocessing import StandardScaler\n",
    "from sklearn.decomposition import PCA\n",
    "\n",
    "# Clustering\n",
    "from sklearn.cluster import AgglomerativeClustering \n",
    "# model = AgglomerativeClustering(n_clusters=5, affinity='euclidean', linkage='single')\n",
    "# model.fit(X)\n",
    "# labels = model.labels_\n",
    "\n",
    "# Mapper\n",
    "import kmapper as km\n",
    "from kmapper.cover import Cover\n",
    "from kmapper import jupyter\n"
   ]
  },
  {
   "cell_type": "markdown",
   "metadata": {},
   "source": [
    "## Chargement des données"
   ]
  },
  {
   "cell_type": "code",
   "execution_count": 142,
   "metadata": {},
   "outputs": [],
   "source": [
    "data_firm_level = pd.read_stata(\"../data/Firm_patent/data_firm_level.dta\")\n",
    "# data_patent_level = pd.read_stata(\"../data/Patent_level_data/data_patent_level.dta\")\n",
    "# cites = pd.read_stata(\"../data/Patent_level_data/USPatent_1926-2010/cites/cites.dta\")\n",
    "# firm_innovation_v2 = pd.read_stata(\"../data/Patent_level_data/USPatent_1926-2010/firm_innovation/firm_innovation_v2.dta)\n",
    "# patents_xi = pd.read_stata(\"../data/Patent_level_data/USPatent_1926-2010/patents_xi/patents_xi.dt)\n",
    "# patent_values = pd.read_stata(\"../data/Patent_level_data/Patent_CRSP_match_1929-2017/patent_values/patent_values.dta\")\n",
    "patents_firm_merge = pd.read_stata(\"../data/Firm_patent/patents_firm_merge.dta\")"
   ]
  },
  {
   "cell_type": "markdown",
   "metadata": {},
   "source": [
    "## Preprocessing"
   ]
  },
  {
   "cell_type": "markdown",
   "metadata": {},
   "source": [
    "### On garde les grandes entreprises"
   ]
  },
  {
   "cell_type": "code",
   "execution_count": 206,
   "metadata": {},
   "outputs": [],
   "source": [
    "pp_df = patents_firm_merge.copy()\n",
    "\n",
    "pp_df[\"patent_class_int\"] = pd.to_numeric(pp_df[\"patent_class\"], errors=\"coerce\")\n",
    "\n",
    "pp_df = pp_df.dropna(subset=[\"patent_class_int\", \"xi\", \"tsm\", \"Tsm\", \"tcw\", \"Tcw\"])\n",
    "\n",
    "pp_df[\"patent_class_int\"] = pp_df[\"patent_class_int\"].astype(int)\n",
    "\n",
    "for col in [\"fdate\", \"idate\", \"pdate\"]:\n",
    "    a = pd.to_datetime(pp_df[col], format=\"%m/%d/%Y\", errors=\"coerce\")\n",
    "    pp_df[col] = a\n",
    "\n",
    "pp_df.set_index(\"patnum\", inplace=True)"
   ]
  },
  {
   "cell_type": "code",
   "execution_count": 207,
   "metadata": {},
   "outputs": [
    {
     "output_type": "stream",
     "name": "stdout",
     "text": [
      "len(patents_firm_merge): 1844881\n",
      "len(pp_df): 1635631 \n",
      "\n",
      "pp_df columns %:\n",
      "index               1.000000\n",
      "fdate               0.994111\n",
      "idate               1.000000\n",
      "pdate               0.252904\n",
      "permno              1.000000\n",
      "patent_class        1.000000\n",
      "subclass            1.000000\n",
      "ncites              1.000000\n",
      "xi                  1.000000\n",
      "year                1.000000\n",
      "Npats               1.000000\n",
      "Tcw                 1.000000\n",
      "Tsm                 1.000000\n",
      "tcw                 1.000000\n",
      "tsm                 1.000000\n",
      "_merge              1.000000\n",
      "patent_class_int    1.000000\n",
      "dtype: float64\n"
     ]
    }
   ],
   "source": [
    "print(\"len(patents_firm_merge):\", len(patents_firm_merge))\n",
    "print(\"len(pp_df):\", len(pp_df), \"\\n\")\n",
    "print(\"pp_df columns %:\")\n",
    "print(pp_df.count()/len(pp_df))"
   ]
  },
  {
   "cell_type": "code",
   "execution_count": 208,
   "metadata": {},
   "outputs": [],
   "source": [
    "big_firms_data = pp_df[pp_df[\"permno\"].isin(pp_df[\"permno\"].value_counts().index[:5])]"
   ]
  },
  {
   "cell_type": "code",
   "execution_count": 209,
   "metadata": {},
   "outputs": [],
   "source": [
    "main_df = big_firms_data[[\"idate\", \"year\", \"permno\", \"xi\", \"patent_class_int\"]]"
   ]
  },
  {
   "cell_type": "code",
   "execution_count": 210,
   "metadata": {},
   "outputs": [
    {
     "output_type": "execute_result",
     "data": {
      "text/plain": [
       "             idate  year   permno        xi  patent_class_int\n",
       "patnum                                                       \n",
       "2510623 1950-06-06  1950  12060.0  0.321411               327\n",
       "2509729 1950-05-30  1950  12060.0  0.376306               348\n",
       "2494352 1950-01-10  1950  12060.0  0.221822               368\n",
       "2497686 1950-02-14  1950  12060.0  0.128556                74\n",
       "2511666 1950-06-13  1950  12060.0  0.280345                96\n",
       "...            ...   ...      ...       ...               ...\n",
       "7786437 2010-08-31  2010  64231.0  0.067182               250\n",
       "7809502 2010-10-05  2010  64231.0  0.059250               701\n",
       "7661187 2010-02-16  2010  64231.0  0.033786                29\n",
       "7684937 2010-03-23  2010  64231.0  0.051604               702\n",
       "7675119 2010-03-09  2010  64231.0  0.060646               257\n",
       "\n",
       "[246064 rows x 5 columns]"
      ],
      "text/html": "<div>\n<style scoped>\n    .dataframe tbody tr th:only-of-type {\n        vertical-align: middle;\n    }\n\n    .dataframe tbody tr th {\n        vertical-align: top;\n    }\n\n    .dataframe thead th {\n        text-align: right;\n    }\n</style>\n<table border=\"1\" class=\"dataframe\">\n  <thead>\n    <tr style=\"text-align: right;\">\n      <th></th>\n      <th>idate</th>\n      <th>year</th>\n      <th>permno</th>\n      <th>xi</th>\n      <th>patent_class_int</th>\n    </tr>\n    <tr>\n      <th>patnum</th>\n      <th></th>\n      <th></th>\n      <th></th>\n      <th></th>\n      <th></th>\n    </tr>\n  </thead>\n  <tbody>\n    <tr>\n      <th>2510623</th>\n      <td>1950-06-06</td>\n      <td>1950</td>\n      <td>12060.0</td>\n      <td>0.321411</td>\n      <td>327</td>\n    </tr>\n    <tr>\n      <th>2509729</th>\n      <td>1950-05-30</td>\n      <td>1950</td>\n      <td>12060.0</td>\n      <td>0.376306</td>\n      <td>348</td>\n    </tr>\n    <tr>\n      <th>2494352</th>\n      <td>1950-01-10</td>\n      <td>1950</td>\n      <td>12060.0</td>\n      <td>0.221822</td>\n      <td>368</td>\n    </tr>\n    <tr>\n      <th>2497686</th>\n      <td>1950-02-14</td>\n      <td>1950</td>\n      <td>12060.0</td>\n      <td>0.128556</td>\n      <td>74</td>\n    </tr>\n    <tr>\n      <th>2511666</th>\n      <td>1950-06-13</td>\n      <td>1950</td>\n      <td>12060.0</td>\n      <td>0.280345</td>\n      <td>96</td>\n    </tr>\n    <tr>\n      <th>...</th>\n      <td>...</td>\n      <td>...</td>\n      <td>...</td>\n      <td>...</td>\n      <td>...</td>\n    </tr>\n    <tr>\n      <th>7786437</th>\n      <td>2010-08-31</td>\n      <td>2010</td>\n      <td>64231.0</td>\n      <td>0.067182</td>\n      <td>250</td>\n    </tr>\n    <tr>\n      <th>7809502</th>\n      <td>2010-10-05</td>\n      <td>2010</td>\n      <td>64231.0</td>\n      <td>0.059250</td>\n      <td>701</td>\n    </tr>\n    <tr>\n      <th>7661187</th>\n      <td>2010-02-16</td>\n      <td>2010</td>\n      <td>64231.0</td>\n      <td>0.033786</td>\n      <td>29</td>\n    </tr>\n    <tr>\n      <th>7684937</th>\n      <td>2010-03-23</td>\n      <td>2010</td>\n      <td>64231.0</td>\n      <td>0.051604</td>\n      <td>702</td>\n    </tr>\n    <tr>\n      <th>7675119</th>\n      <td>2010-03-09</td>\n      <td>2010</td>\n      <td>64231.0</td>\n      <td>0.060646</td>\n      <td>257</td>\n    </tr>\n  </tbody>\n</table>\n<p>246064 rows × 5 columns</p>\n</div>"
     },
     "metadata": {},
     "execution_count": 210
    }
   ],
   "source": [
    "main_df"
   ]
  },
  {
   "cell_type": "code",
   "execution_count": 211,
   "metadata": {},
   "outputs": [],
   "source": [
    "final_df = pd.get_dummies(data=main_df, columns=[\"patent_class_int\"], prefix=[\"pc\"]) #, sparse=True)"
   ]
  },
  {
   "cell_type": "code",
   "execution_count": 212,
   "metadata": {},
   "outputs": [
    {
     "output_type": "execute_result",
     "data": {
      "text/plain": [
       "             idate  year   permno        xi  pc_1  pc_2  pc_4  pc_5  pc_7  \\\n",
       "patnum                                                                      \n",
       "2510623 1950-06-06  1950  12060.0  0.321411     0     0     0     0     0   \n",
       "2509729 1950-05-30  1950  12060.0  0.376306     0     0     0     0     0   \n",
       "2494352 1950-01-10  1950  12060.0  0.221822     0     0     0     0     0   \n",
       "2497686 1950-02-14  1950  12060.0  0.128556     0     0     0     0     0   \n",
       "2511666 1950-06-13  1950  12060.0  0.280345     0     0     0     0     0   \n",
       "...            ...   ...      ...       ...   ...   ...   ...   ...   ...   \n",
       "7786437 2010-08-31  2010  64231.0  0.067182     0     0     0     0     0   \n",
       "7809502 2010-10-05  2010  64231.0  0.059250     0     0     0     0     0   \n",
       "7661187 2010-02-16  2010  64231.0  0.033786     0     0     0     0     0   \n",
       "7684937 2010-03-23  2010  64231.0  0.051604     0     0     0     0     0   \n",
       "7675119 2010-03-09  2010  64231.0  0.060646     0     0     0     0     0   \n",
       "\n",
       "         pc_8  ...  pc_715  pc_716  pc_717  pc_718  pc_719  pc_720  pc_725  \\\n",
       "patnum         ...                                                           \n",
       "2510623     0  ...       0       0       0       0       0       0       0   \n",
       "2509729     0  ...       0       0       0       0       0       0       0   \n",
       "2494352     0  ...       0       0       0       0       0       0       0   \n",
       "2497686     0  ...       0       0       0       0       0       0       0   \n",
       "2511666     0  ...       0       0       0       0       0       0       0   \n",
       "...       ...  ...     ...     ...     ...     ...     ...     ...     ...   \n",
       "7786437     0  ...       0       0       0       0       0       0       0   \n",
       "7809502     0  ...       0       0       0       0       0       0       0   \n",
       "7661187     0  ...       0       0       0       0       0       0       0   \n",
       "7684937     0  ...       0       0       0       0       0       0       0   \n",
       "7675119     0  ...       0       0       0       0       0       0       0   \n",
       "\n",
       "         pc_726  pc_800  pc_850  \n",
       "patnum                           \n",
       "2510623       0       0       0  \n",
       "2509729       0       0       0  \n",
       "2494352       0       0       0  \n",
       "2497686       0       0       0  \n",
       "2511666       0       0       0  \n",
       "...         ...     ...     ...  \n",
       "7786437       0       0       0  \n",
       "7809502       0       0       0  \n",
       "7661187       0       0       0  \n",
       "7684937       0       0       0  \n",
       "7675119       0       0       0  \n",
       "\n",
       "[246064 rows x 402 columns]"
      ],
      "text/html": "<div>\n<style scoped>\n    .dataframe tbody tr th:only-of-type {\n        vertical-align: middle;\n    }\n\n    .dataframe tbody tr th {\n        vertical-align: top;\n    }\n\n    .dataframe thead th {\n        text-align: right;\n    }\n</style>\n<table border=\"1\" class=\"dataframe\">\n  <thead>\n    <tr style=\"text-align: right;\">\n      <th></th>\n      <th>idate</th>\n      <th>year</th>\n      <th>permno</th>\n      <th>xi</th>\n      <th>pc_1</th>\n      <th>pc_2</th>\n      <th>pc_4</th>\n      <th>pc_5</th>\n      <th>pc_7</th>\n      <th>pc_8</th>\n      <th>...</th>\n      <th>pc_715</th>\n      <th>pc_716</th>\n      <th>pc_717</th>\n      <th>pc_718</th>\n      <th>pc_719</th>\n      <th>pc_720</th>\n      <th>pc_725</th>\n      <th>pc_726</th>\n      <th>pc_800</th>\n      <th>pc_850</th>\n    </tr>\n    <tr>\n      <th>patnum</th>\n      <th></th>\n      <th></th>\n      <th></th>\n      <th></th>\n      <th></th>\n      <th></th>\n      <th></th>\n      <th></th>\n      <th></th>\n      <th></th>\n      <th></th>\n      <th></th>\n      <th></th>\n      <th></th>\n      <th></th>\n      <th></th>\n      <th></th>\n      <th></th>\n      <th></th>\n      <th></th>\n      <th></th>\n    </tr>\n  </thead>\n  <tbody>\n    <tr>\n      <th>2510623</th>\n      <td>1950-06-06</td>\n      <td>1950</td>\n      <td>12060.0</td>\n      <td>0.321411</td>\n      <td>0</td>\n      <td>0</td>\n      <td>0</td>\n      <td>0</td>\n      <td>0</td>\n      <td>0</td>\n      <td>...</td>\n      <td>0</td>\n      <td>0</td>\n      <td>0</td>\n      <td>0</td>\n      <td>0</td>\n      <td>0</td>\n      <td>0</td>\n      <td>0</td>\n      <td>0</td>\n      <td>0</td>\n    </tr>\n    <tr>\n      <th>2509729</th>\n      <td>1950-05-30</td>\n      <td>1950</td>\n      <td>12060.0</td>\n      <td>0.376306</td>\n      <td>0</td>\n      <td>0</td>\n      <td>0</td>\n      <td>0</td>\n      <td>0</td>\n      <td>0</td>\n      <td>...</td>\n      <td>0</td>\n      <td>0</td>\n      <td>0</td>\n      <td>0</td>\n      <td>0</td>\n      <td>0</td>\n      <td>0</td>\n      <td>0</td>\n      <td>0</td>\n      <td>0</td>\n    </tr>\n    <tr>\n      <th>2494352</th>\n      <td>1950-01-10</td>\n      <td>1950</td>\n      <td>12060.0</td>\n      <td>0.221822</td>\n      <td>0</td>\n      <td>0</td>\n      <td>0</td>\n      <td>0</td>\n      <td>0</td>\n      <td>0</td>\n      <td>...</td>\n      <td>0</td>\n      <td>0</td>\n      <td>0</td>\n      <td>0</td>\n      <td>0</td>\n      <td>0</td>\n      <td>0</td>\n      <td>0</td>\n      <td>0</td>\n      <td>0</td>\n    </tr>\n    <tr>\n      <th>2497686</th>\n      <td>1950-02-14</td>\n      <td>1950</td>\n      <td>12060.0</td>\n      <td>0.128556</td>\n      <td>0</td>\n      <td>0</td>\n      <td>0</td>\n      <td>0</td>\n      <td>0</td>\n      <td>0</td>\n      <td>...</td>\n      <td>0</td>\n      <td>0</td>\n      <td>0</td>\n      <td>0</td>\n      <td>0</td>\n      <td>0</td>\n      <td>0</td>\n      <td>0</td>\n      <td>0</td>\n      <td>0</td>\n    </tr>\n    <tr>\n      <th>2511666</th>\n      <td>1950-06-13</td>\n      <td>1950</td>\n      <td>12060.0</td>\n      <td>0.280345</td>\n      <td>0</td>\n      <td>0</td>\n      <td>0</td>\n      <td>0</td>\n      <td>0</td>\n      <td>0</td>\n      <td>...</td>\n      <td>0</td>\n      <td>0</td>\n      <td>0</td>\n      <td>0</td>\n      <td>0</td>\n      <td>0</td>\n      <td>0</td>\n      <td>0</td>\n      <td>0</td>\n      <td>0</td>\n    </tr>\n    <tr>\n      <th>...</th>\n      <td>...</td>\n      <td>...</td>\n      <td>...</td>\n      <td>...</td>\n      <td>...</td>\n      <td>...</td>\n      <td>...</td>\n      <td>...</td>\n      <td>...</td>\n      <td>...</td>\n      <td>...</td>\n      <td>...</td>\n      <td>...</td>\n      <td>...</td>\n      <td>...</td>\n      <td>...</td>\n      <td>...</td>\n      <td>...</td>\n      <td>...</td>\n      <td>...</td>\n      <td>...</td>\n    </tr>\n    <tr>\n      <th>7786437</th>\n      <td>2010-08-31</td>\n      <td>2010</td>\n      <td>64231.0</td>\n      <td>0.067182</td>\n      <td>0</td>\n      <td>0</td>\n      <td>0</td>\n      <td>0</td>\n      <td>0</td>\n      <td>0</td>\n      <td>...</td>\n      <td>0</td>\n      <td>0</td>\n      <td>0</td>\n      <td>0</td>\n      <td>0</td>\n      <td>0</td>\n      <td>0</td>\n      <td>0</td>\n      <td>0</td>\n      <td>0</td>\n    </tr>\n    <tr>\n      <th>7809502</th>\n      <td>2010-10-05</td>\n      <td>2010</td>\n      <td>64231.0</td>\n      <td>0.059250</td>\n      <td>0</td>\n      <td>0</td>\n      <td>0</td>\n      <td>0</td>\n      <td>0</td>\n      <td>0</td>\n      <td>...</td>\n      <td>0</td>\n      <td>0</td>\n      <td>0</td>\n      <td>0</td>\n      <td>0</td>\n      <td>0</td>\n      <td>0</td>\n      <td>0</td>\n      <td>0</td>\n      <td>0</td>\n    </tr>\n    <tr>\n      <th>7661187</th>\n      <td>2010-02-16</td>\n      <td>2010</td>\n      <td>64231.0</td>\n      <td>0.033786</td>\n      <td>0</td>\n      <td>0</td>\n      <td>0</td>\n      <td>0</td>\n      <td>0</td>\n      <td>0</td>\n      <td>...</td>\n      <td>0</td>\n      <td>0</td>\n      <td>0</td>\n      <td>0</td>\n      <td>0</td>\n      <td>0</td>\n      <td>0</td>\n      <td>0</td>\n      <td>0</td>\n      <td>0</td>\n    </tr>\n    <tr>\n      <th>7684937</th>\n      <td>2010-03-23</td>\n      <td>2010</td>\n      <td>64231.0</td>\n      <td>0.051604</td>\n      <td>0</td>\n      <td>0</td>\n      <td>0</td>\n      <td>0</td>\n      <td>0</td>\n      <td>0</td>\n      <td>...</td>\n      <td>0</td>\n      <td>0</td>\n      <td>0</td>\n      <td>0</td>\n      <td>0</td>\n      <td>0</td>\n      <td>0</td>\n      <td>0</td>\n      <td>0</td>\n      <td>0</td>\n    </tr>\n    <tr>\n      <th>7675119</th>\n      <td>2010-03-09</td>\n      <td>2010</td>\n      <td>64231.0</td>\n      <td>0.060646</td>\n      <td>0</td>\n      <td>0</td>\n      <td>0</td>\n      <td>0</td>\n      <td>0</td>\n      <td>0</td>\n      <td>...</td>\n      <td>0</td>\n      <td>0</td>\n      <td>0</td>\n      <td>0</td>\n      <td>0</td>\n      <td>0</td>\n      <td>0</td>\n      <td>0</td>\n      <td>0</td>\n      <td>0</td>\n    </tr>\n  </tbody>\n</table>\n<p>246064 rows × 402 columns</p>\n</div>"
     },
     "metadata": {},
     "execution_count": 212
    }
   ],
   "source": [
    "final_df"
   ]
  },
  {
   "cell_type": "code",
   "execution_count": 272,
   "metadata": {},
   "outputs": [],
   "source": [
    "firm_df = final_df.groupby(by=[\"permno\", \"year\"]).agg({s : 'sum' for s in final_df.columns if s[:2]==\"pc\"}).reset_index()"
   ]
  },
  {
   "cell_type": "code",
   "execution_count": 360,
   "metadata": {},
   "outputs": [],
   "source": [
    "firm_df.to_pickle(\"../data/tables/firm_df.pkl\")"
   ]
  },
  {
   "cell_type": "markdown",
   "metadata": {},
   "source": [
    "### On lisse les données par rapport au temps"
   ]
  },
  {
   "cell_type": "code",
   "execution_count": 307,
   "metadata": {},
   "outputs": [],
   "source": [
    "features = [s for s in final_df.columns if s[:2]==\"pc\"]\n",
    "SMA_features = [\"SMA_\"+l for l in features]\n",
    "log_features = [\"log_\"+l for l in features]"
   ]
  },
  {
   "cell_type": "code",
   "execution_count": 297,
   "metadata": {},
   "outputs": [],
   "source": [
    "SMA_df = firm_df.groupby([\"permno\"]\n",
    ")[features\n",
    "].rolling(window=5, min_periods=5 # =5?\n",
    ").sum(\n",
    ").rename(columns={l: \"SMA_\"+l for l in features}\n",
    ").reset_index()"
   ]
  },
  {
   "cell_type": "code",
   "execution_count": 342,
   "metadata": {},
   "outputs": [],
   "source": [
    "SMA_df[\"year\"] = firm_df[\"year\"]\n",
    "SMA_df.drop(\"level_1\", axis=1, inplace=True)\n",
    "SMA_df.dropna(inplace=True)"
   ]
  },
  {
   "cell_type": "code",
   "execution_count": 359,
   "metadata": {},
   "outputs": [],
   "source": [
    "SMA_df.to_pickle(\"../data/tables/SMA_df.pkl\")"
   ]
  },
  {
   "cell_type": "code",
   "execution_count": 344,
   "metadata": {},
   "outputs": [],
   "source": [
    "SMA_dist = SMA_df.set_index([\"permno\", \"year\"]).transpose().corr()"
   ]
  },
  {
   "cell_type": "code",
   "execution_count": 357,
   "metadata": {},
   "outputs": [],
   "source": [
    "SMA_dist.to_pickle(\"../data/tables/SMA_dist.pkl\")"
   ]
  },
  {
   "cell_type": "code",
   "execution_count": 308,
   "metadata": {},
   "outputs": [],
   "source": [
    "log_df = np.log(1 + SMA_df[SMA_features]).rename(columns={\"SMA_\"+l: \"log_\"+l for l in features})\n",
    "log_df[\"permno\"] = SMA_df[\"permno\"]\n",
    "log_df[\"year\"] = SMA_df[\"year\"]\n",
    "log_df.dropna(inplace=True)"
   ]
  },
  {
   "cell_type": "code",
   "execution_count": 358,
   "metadata": {},
   "outputs": [],
   "source": [
    "log_df.to_pickle(\"../data/tables/log_df.pkl\")"
   ]
  },
  {
   "cell_type": "code",
   "execution_count": 325,
   "metadata": {},
   "outputs": [],
   "source": [
    "log_dist = log_df.set_index([\"permno\", \"year\"]).transpose().corr()"
   ]
  },
  {
   "cell_type": "code",
   "execution_count": 354,
   "metadata": {},
   "outputs": [],
   "source": [
    "log_dist.to_pickle(\"../data/tables/log_dist.pkl\")"
   ]
  },
  {
   "cell_type": "code",
   "execution_count": 373,
   "metadata": {},
   "outputs": [],
   "source": [
    "matrix = log_df.set_index([\"permno\", \"year\"])"
   ]
  },
  {
   "cell_type": "code",
   "execution_count": 306,
   "metadata": {},
   "outputs": [
    {
     "output_type": "execute_result",
     "data": {
      "text/plain": [
       "         year   gvkey   fyr     csho       ebit     ebitda      emp     pstk  \\\n",
       "0      1994.0   10846  12.0  363.661   3856.000   4977.000  304.000      NaN   \n",
       "1      1995.0   10846  12.0  363.800   3986.000   5242.000  308.000      NaN   \n",
       "2      1996.0   10846  12.0  363.816   4473.000   5794.000  306.000  153.435   \n",
       "3      1996.0  153351  12.0   15.669     -3.810     -3.766    0.012    0.001   \n",
       "4      1996.0   27961  12.0      NaN     15.514     20.698    0.915    0.000   \n",
       "...       ...     ...   ...      ...        ...        ...      ...      ...   \n",
       "12982  2010.0  160329  12.0  321.301  10381.000  11762.000   24.400    0.000   \n",
       "12983  2010.0    9323  12.0    1.554     -1.242     -1.166    0.036    0.000   \n",
       "12984  2010.0   61214  12.0  436.593   1659.553   1858.611    9.245    0.000   \n",
       "12985  2010.0    6100  12.0   45.032    235.873    257.998    0.300    0.000   \n",
       "12986  2010.0   63186  12.0  233.115    209.337    352.116    3.587    0.000   \n",
       "\n",
       "            sale       xrd  ...       rivao       rintan          ract  \\\n",
       "0      45419.000   831.000  ...  148.300720     0.000000  15795.056641   \n",
       "1      49732.000   923.000  ...  169.000000     0.000000  16314.000000   \n",
       "2      52161.000   934.000  ...  187.683273     0.000000  16892.472656   \n",
       "3          2.000     3.344  ...    0.000000     0.000000     47.806450   \n",
       "4        170.821     0.900  ...    0.000000   144.434006     57.626587   \n",
       "...          ...       ...  ...         ...          ...           ...   \n",
       "12982  29321.000  3762.000  ...  364.714081  5090.655762  28983.263672   \n",
       "12983      8.036     0.201  ...    0.000000     0.000000      5.190377   \n",
       "12984   5981.583   694.534  ...   26.746164   143.364716   4575.182129   \n",
       "12985    394.545    71.464  ...    1.185495    90.868202    432.047424   \n",
       "12986   1087.431   126.040  ...         NaN  1468.345947    951.595581   \n",
       "\n",
       "               value        value_e       value_d       qkstock       tobinq  \\\n",
       "0                NaN            NaN -10743.563477  19477.857422          NaN   \n",
       "1                NaN            NaN -11067.000000  20419.000000          NaN   \n",
       "2       51197.640625   62475.253906 -11277.615234  19883.673828     2.574858   \n",
       "3         124.507561     172.314011    -47.806450      0.085044  1464.037354   \n",
       "4                NaN            NaN     98.776138    204.719437          NaN   \n",
       "...              ...            ...           ...           ...          ...   \n",
       "12982  106517.539062  133084.484375 -26566.945312  10866.109375     9.802731   \n",
       "12983      -2.318619       2.871758     -5.190377      0.533473    -4.346274   \n",
       "12984    7756.094727   11672.926758  -3916.832031   2245.137451     3.454619   \n",
       "12985     875.902710    1307.623779   -431.721069     97.872383     8.949437   \n",
       "12986    2854.086182    3178.102295   -324.016052           NaN          NaN   \n",
       "\n",
       "          tobinq_e    tobinq_d  \n",
       "0              NaN   -0.551578  \n",
       "1              NaN   -0.541995  \n",
       "2         3.142038   -0.567180  \n",
       "3      2026.175293 -562.137939  \n",
       "4              NaN    0.482495  \n",
       "...            ...         ...  \n",
       "12982    12.247666   -2.444936  \n",
       "12983     5.383137   -9.729411  \n",
       "12984     5.199203   -1.744585  \n",
       "12985    13.360498   -4.411061  \n",
       "12986          NaN         NaN  \n",
       "\n",
       "[12987 rows x 49 columns]"
      ],
      "text/html": "<div>\n<style scoped>\n    .dataframe tbody tr th:only-of-type {\n        vertical-align: middle;\n    }\n\n    .dataframe tbody tr th {\n        vertical-align: top;\n    }\n\n    .dataframe thead th {\n        text-align: right;\n    }\n</style>\n<table border=\"1\" class=\"dataframe\">\n  <thead>\n    <tr style=\"text-align: right;\">\n      <th></th>\n      <th>year</th>\n      <th>gvkey</th>\n      <th>fyr</th>\n      <th>csho</th>\n      <th>ebit</th>\n      <th>ebitda</th>\n      <th>emp</th>\n      <th>pstk</th>\n      <th>sale</th>\n      <th>xrd</th>\n      <th>...</th>\n      <th>rivao</th>\n      <th>rintan</th>\n      <th>ract</th>\n      <th>value</th>\n      <th>value_e</th>\n      <th>value_d</th>\n      <th>qkstock</th>\n      <th>tobinq</th>\n      <th>tobinq_e</th>\n      <th>tobinq_d</th>\n    </tr>\n  </thead>\n  <tbody>\n    <tr>\n      <th>0</th>\n      <td>1994.0</td>\n      <td>10846</td>\n      <td>12.0</td>\n      <td>363.661</td>\n      <td>3856.000</td>\n      <td>4977.000</td>\n      <td>304.000</td>\n      <td>NaN</td>\n      <td>45419.000</td>\n      <td>831.000</td>\n      <td>...</td>\n      <td>148.300720</td>\n      <td>0.000000</td>\n      <td>15795.056641</td>\n      <td>NaN</td>\n      <td>NaN</td>\n      <td>-10743.563477</td>\n      <td>19477.857422</td>\n      <td>NaN</td>\n      <td>NaN</td>\n      <td>-0.551578</td>\n    </tr>\n    <tr>\n      <th>1</th>\n      <td>1995.0</td>\n      <td>10846</td>\n      <td>12.0</td>\n      <td>363.800</td>\n      <td>3986.000</td>\n      <td>5242.000</td>\n      <td>308.000</td>\n      <td>NaN</td>\n      <td>49732.000</td>\n      <td>923.000</td>\n      <td>...</td>\n      <td>169.000000</td>\n      <td>0.000000</td>\n      <td>16314.000000</td>\n      <td>NaN</td>\n      <td>NaN</td>\n      <td>-11067.000000</td>\n      <td>20419.000000</td>\n      <td>NaN</td>\n      <td>NaN</td>\n      <td>-0.541995</td>\n    </tr>\n    <tr>\n      <th>2</th>\n      <td>1996.0</td>\n      <td>10846</td>\n      <td>12.0</td>\n      <td>363.816</td>\n      <td>4473.000</td>\n      <td>5794.000</td>\n      <td>306.000</td>\n      <td>153.435</td>\n      <td>52161.000</td>\n      <td>934.000</td>\n      <td>...</td>\n      <td>187.683273</td>\n      <td>0.000000</td>\n      <td>16892.472656</td>\n      <td>51197.640625</td>\n      <td>62475.253906</td>\n      <td>-11277.615234</td>\n      <td>19883.673828</td>\n      <td>2.574858</td>\n      <td>3.142038</td>\n      <td>-0.567180</td>\n    </tr>\n    <tr>\n      <th>3</th>\n      <td>1996.0</td>\n      <td>153351</td>\n      <td>12.0</td>\n      <td>15.669</td>\n      <td>-3.810</td>\n      <td>-3.766</td>\n      <td>0.012</td>\n      <td>0.001</td>\n      <td>2.000</td>\n      <td>3.344</td>\n      <td>...</td>\n      <td>0.000000</td>\n      <td>0.000000</td>\n      <td>47.806450</td>\n      <td>124.507561</td>\n      <td>172.314011</td>\n      <td>-47.806450</td>\n      <td>0.085044</td>\n      <td>1464.037354</td>\n      <td>2026.175293</td>\n      <td>-562.137939</td>\n    </tr>\n    <tr>\n      <th>4</th>\n      <td>1996.0</td>\n      <td>27961</td>\n      <td>12.0</td>\n      <td>NaN</td>\n      <td>15.514</td>\n      <td>20.698</td>\n      <td>0.915</td>\n      <td>0.000</td>\n      <td>170.821</td>\n      <td>0.900</td>\n      <td>...</td>\n      <td>0.000000</td>\n      <td>144.434006</td>\n      <td>57.626587</td>\n      <td>NaN</td>\n      <td>NaN</td>\n      <td>98.776138</td>\n      <td>204.719437</td>\n      <td>NaN</td>\n      <td>NaN</td>\n      <td>0.482495</td>\n    </tr>\n    <tr>\n      <th>...</th>\n      <td>...</td>\n      <td>...</td>\n      <td>...</td>\n      <td>...</td>\n      <td>...</td>\n      <td>...</td>\n      <td>...</td>\n      <td>...</td>\n      <td>...</td>\n      <td>...</td>\n      <td>...</td>\n      <td>...</td>\n      <td>...</td>\n      <td>...</td>\n      <td>...</td>\n      <td>...</td>\n      <td>...</td>\n      <td>...</td>\n      <td>...</td>\n      <td>...</td>\n      <td>...</td>\n    </tr>\n    <tr>\n      <th>12982</th>\n      <td>2010.0</td>\n      <td>160329</td>\n      <td>12.0</td>\n      <td>321.301</td>\n      <td>10381.000</td>\n      <td>11762.000</td>\n      <td>24.400</td>\n      <td>0.000</td>\n      <td>29321.000</td>\n      <td>3762.000</td>\n      <td>...</td>\n      <td>364.714081</td>\n      <td>5090.655762</td>\n      <td>28983.263672</td>\n      <td>106517.539062</td>\n      <td>133084.484375</td>\n      <td>-26566.945312</td>\n      <td>10866.109375</td>\n      <td>9.802731</td>\n      <td>12.247666</td>\n      <td>-2.444936</td>\n    </tr>\n    <tr>\n      <th>12983</th>\n      <td>2010.0</td>\n      <td>9323</td>\n      <td>12.0</td>\n      <td>1.554</td>\n      <td>-1.242</td>\n      <td>-1.166</td>\n      <td>0.036</td>\n      <td>0.000</td>\n      <td>8.036</td>\n      <td>0.201</td>\n      <td>...</td>\n      <td>0.000000</td>\n      <td>0.000000</td>\n      <td>5.190377</td>\n      <td>-2.318619</td>\n      <td>2.871758</td>\n      <td>-5.190377</td>\n      <td>0.533473</td>\n      <td>-4.346274</td>\n      <td>5.383137</td>\n      <td>-9.729411</td>\n    </tr>\n    <tr>\n      <th>12984</th>\n      <td>2010.0</td>\n      <td>61214</td>\n      <td>12.0</td>\n      <td>436.593</td>\n      <td>1659.553</td>\n      <td>1858.611</td>\n      <td>9.245</td>\n      <td>0.000</td>\n      <td>5981.583</td>\n      <td>694.534</td>\n      <td>...</td>\n      <td>26.746164</td>\n      <td>143.364716</td>\n      <td>4575.182129</td>\n      <td>7756.094727</td>\n      <td>11672.926758</td>\n      <td>-3916.832031</td>\n      <td>2245.137451</td>\n      <td>3.454619</td>\n      <td>5.199203</td>\n      <td>-1.744585</td>\n    </tr>\n    <tr>\n      <th>12985</th>\n      <td>2010.0</td>\n      <td>6100</td>\n      <td>12.0</td>\n      <td>45.032</td>\n      <td>235.873</td>\n      <td>257.998</td>\n      <td>0.300</td>\n      <td>0.000</td>\n      <td>394.545</td>\n      <td>71.464</td>\n      <td>...</td>\n      <td>1.185495</td>\n      <td>90.868202</td>\n      <td>432.047424</td>\n      <td>875.902710</td>\n      <td>1307.623779</td>\n      <td>-431.721069</td>\n      <td>97.872383</td>\n      <td>8.949437</td>\n      <td>13.360498</td>\n      <td>-4.411061</td>\n    </tr>\n    <tr>\n      <th>12986</th>\n      <td>2010.0</td>\n      <td>63186</td>\n      <td>12.0</td>\n      <td>233.115</td>\n      <td>209.337</td>\n      <td>352.116</td>\n      <td>3.587</td>\n      <td>0.000</td>\n      <td>1087.431</td>\n      <td>126.040</td>\n      <td>...</td>\n      <td>NaN</td>\n      <td>1468.345947</td>\n      <td>951.595581</td>\n      <td>2854.086182</td>\n      <td>3178.102295</td>\n      <td>-324.016052</td>\n      <td>NaN</td>\n      <td>NaN</td>\n      <td>NaN</td>\n      <td>NaN</td>\n    </tr>\n  </tbody>\n</table>\n<p>12987 rows × 49 columns</p>\n</div>"
     },
     "metadata": {},
     "execution_count": 306
    }
   ],
   "source": [
    "data_firm_level"
   ]
  },
  {
   "cell_type": "markdown",
   "metadata": {},
   "source": [
    "### On applique le Mapper Algorithm"
   ]
  },
  {
   "cell_type": "code",
   "execution_count": 369,
   "metadata": {},
   "outputs": [
    {
     "output_type": "execute_result",
     "data": {
      "text/plain": [
       "     log_pc_1  log_pc_2  log_pc_4  log_pc_5  log_pc_7  log_pc_8  log_pc_14  \\\n",
       "0    0.000000  0.000000  1.386294  0.693147       0.0  0.000000        0.0   \n",
       "1    0.000000  0.000000  1.386294  0.693147       0.0  0.000000        0.0   \n",
       "2    0.000000  0.000000  1.386294  0.000000       0.0  0.000000        0.0   \n",
       "3    0.000000  0.000000  1.386294  0.693147       0.0  0.000000        0.0   \n",
       "4    0.000000  0.000000  0.693147  0.693147       0.0  0.000000        0.0   \n",
       "..        ...       ...       ...       ...       ...       ...        ...   \n",
       "207  5.159055  0.693147  0.000000  0.000000       0.0  0.000000        0.0   \n",
       "208  5.283204  0.693147  0.000000  0.693147       0.0  0.000000        0.0   \n",
       "209  5.308268  0.693147  0.000000  0.693147       0.0  0.000000        0.0   \n",
       "210  5.384495  0.693147  0.000000  0.693147       0.0  0.693147        0.0   \n",
       "211  5.342334  0.693147  0.000000  0.693147       0.0  0.693147        0.0   \n",
       "\n",
       "     log_pc_15  log_pc_16  log_pc_19  ...  log_pc_715  log_pc_716  log_pc_717  \\\n",
       "0     1.791759   1.609438        0.0  ...    0.000000    0.000000    0.000000   \n",
       "1     1.791759   1.791759        0.0  ...    0.000000    0.000000    0.000000   \n",
       "2     1.945910   1.791759        0.0  ...    0.000000    0.000000    0.000000   \n",
       "3     1.791759   1.791759        0.0  ...    0.000000    0.000000    0.000000   \n",
       "4     1.609438   1.386294        0.0  ...    0.000000    0.000000    0.000000   \n",
       "..         ...        ...        ...  ...         ...         ...         ...   \n",
       "207   1.386294   0.000000        0.0  ...    3.433987    4.189655    3.332205   \n",
       "208   1.609438   0.693147        0.0  ...    3.555348    4.219508    3.465736   \n",
       "209   1.609438   1.098612        0.0  ...    3.367296    3.912023    3.526361   \n",
       "210   1.609438   1.098612        0.0  ...    3.465736    3.912023    3.583519   \n",
       "211   1.386294   1.098612        0.0  ...    3.555348    3.970292    3.637586   \n",
       "\n",
       "     log_pc_718  log_pc_719  log_pc_720  log_pc_725  log_pc_726  log_pc_800  \\\n",
       "0      0.000000    0.000000    0.000000    0.000000    0.000000    0.000000   \n",
       "1      0.000000    0.000000    0.000000    0.000000    0.000000    0.000000   \n",
       "2      0.000000    0.000000    0.000000    0.000000    0.000000    0.000000   \n",
       "3      0.000000    0.000000    0.000000    0.000000    0.000000    0.000000   \n",
       "4      0.000000    0.000000    0.000000    0.000000    0.000000    0.000000   \n",
       "..          ...         ...         ...         ...         ...         ...   \n",
       "207    2.944439    2.197225    3.555348    2.397895    2.833213    0.693147   \n",
       "208    3.135494    2.197225    3.433987    2.397895    3.295837    1.098612   \n",
       "209    3.178054    2.397895    3.496508    2.708050    3.688879    1.609438   \n",
       "210    3.178054    2.397895    3.737670    2.772589    3.850148    1.945910   \n",
       "211    3.401197    2.484907    3.737670    3.091042    4.060443    1.945910   \n",
       "\n",
       "     log_pc_850  \n",
       "0      0.693147  \n",
       "1      0.693147  \n",
       "2      0.693147  \n",
       "3      0.000000  \n",
       "4      0.693147  \n",
       "..          ...  \n",
       "207    4.043051  \n",
       "208    3.988984  \n",
       "209    3.737670  \n",
       "210    3.258097  \n",
       "211    1.098612  \n",
       "\n",
       "[212 rows x 398 columns]"
      ],
      "text/html": "<div>\n<style scoped>\n    .dataframe tbody tr th:only-of-type {\n        vertical-align: middle;\n    }\n\n    .dataframe tbody tr th {\n        vertical-align: top;\n    }\n\n    .dataframe thead th {\n        text-align: right;\n    }\n</style>\n<table border=\"1\" class=\"dataframe\">\n  <thead>\n    <tr style=\"text-align: right;\">\n      <th></th>\n      <th>log_pc_1</th>\n      <th>log_pc_2</th>\n      <th>log_pc_4</th>\n      <th>log_pc_5</th>\n      <th>log_pc_7</th>\n      <th>log_pc_8</th>\n      <th>log_pc_14</th>\n      <th>log_pc_15</th>\n      <th>log_pc_16</th>\n      <th>log_pc_19</th>\n      <th>...</th>\n      <th>log_pc_715</th>\n      <th>log_pc_716</th>\n      <th>log_pc_717</th>\n      <th>log_pc_718</th>\n      <th>log_pc_719</th>\n      <th>log_pc_720</th>\n      <th>log_pc_725</th>\n      <th>log_pc_726</th>\n      <th>log_pc_800</th>\n      <th>log_pc_850</th>\n    </tr>\n  </thead>\n  <tbody>\n    <tr>\n      <th>0</th>\n      <td>0.000000</td>\n      <td>0.000000</td>\n      <td>1.386294</td>\n      <td>0.693147</td>\n      <td>0.0</td>\n      <td>0.000000</td>\n      <td>0.0</td>\n      <td>1.791759</td>\n      <td>1.609438</td>\n      <td>0.0</td>\n      <td>...</td>\n      <td>0.000000</td>\n      <td>0.000000</td>\n      <td>0.000000</td>\n      <td>0.000000</td>\n      <td>0.000000</td>\n      <td>0.000000</td>\n      <td>0.000000</td>\n      <td>0.000000</td>\n      <td>0.000000</td>\n      <td>0.693147</td>\n    </tr>\n    <tr>\n      <th>1</th>\n      <td>0.000000</td>\n      <td>0.000000</td>\n      <td>1.386294</td>\n      <td>0.693147</td>\n      <td>0.0</td>\n      <td>0.000000</td>\n      <td>0.0</td>\n      <td>1.791759</td>\n      <td>1.791759</td>\n      <td>0.0</td>\n      <td>...</td>\n      <td>0.000000</td>\n      <td>0.000000</td>\n      <td>0.000000</td>\n      <td>0.000000</td>\n      <td>0.000000</td>\n      <td>0.000000</td>\n      <td>0.000000</td>\n      <td>0.000000</td>\n      <td>0.000000</td>\n      <td>0.693147</td>\n    </tr>\n    <tr>\n      <th>2</th>\n      <td>0.000000</td>\n      <td>0.000000</td>\n      <td>1.386294</td>\n      <td>0.000000</td>\n      <td>0.0</td>\n      <td>0.000000</td>\n      <td>0.0</td>\n      <td>1.945910</td>\n      <td>1.791759</td>\n      <td>0.0</td>\n      <td>...</td>\n      <td>0.000000</td>\n      <td>0.000000</td>\n      <td>0.000000</td>\n      <td>0.000000</td>\n      <td>0.000000</td>\n      <td>0.000000</td>\n      <td>0.000000</td>\n      <td>0.000000</td>\n      <td>0.000000</td>\n      <td>0.693147</td>\n    </tr>\n    <tr>\n      <th>3</th>\n      <td>0.000000</td>\n      <td>0.000000</td>\n      <td>1.386294</td>\n      <td>0.693147</td>\n      <td>0.0</td>\n      <td>0.000000</td>\n      <td>0.0</td>\n      <td>1.791759</td>\n      <td>1.791759</td>\n      <td>0.0</td>\n      <td>...</td>\n      <td>0.000000</td>\n      <td>0.000000</td>\n      <td>0.000000</td>\n      <td>0.000000</td>\n      <td>0.000000</td>\n      <td>0.000000</td>\n      <td>0.000000</td>\n      <td>0.000000</td>\n      <td>0.000000</td>\n      <td>0.000000</td>\n    </tr>\n    <tr>\n      <th>4</th>\n      <td>0.000000</td>\n      <td>0.000000</td>\n      <td>0.693147</td>\n      <td>0.693147</td>\n      <td>0.0</td>\n      <td>0.000000</td>\n      <td>0.0</td>\n      <td>1.609438</td>\n      <td>1.386294</td>\n      <td>0.0</td>\n      <td>...</td>\n      <td>0.000000</td>\n      <td>0.000000</td>\n      <td>0.000000</td>\n      <td>0.000000</td>\n      <td>0.000000</td>\n      <td>0.000000</td>\n      <td>0.000000</td>\n      <td>0.000000</td>\n      <td>0.000000</td>\n      <td>0.693147</td>\n    </tr>\n    <tr>\n      <th>...</th>\n      <td>...</td>\n      <td>...</td>\n      <td>...</td>\n      <td>...</td>\n      <td>...</td>\n      <td>...</td>\n      <td>...</td>\n      <td>...</td>\n      <td>...</td>\n      <td>...</td>\n      <td>...</td>\n      <td>...</td>\n      <td>...</td>\n      <td>...</td>\n      <td>...</td>\n      <td>...</td>\n      <td>...</td>\n      <td>...</td>\n      <td>...</td>\n      <td>...</td>\n      <td>...</td>\n    </tr>\n    <tr>\n      <th>207</th>\n      <td>5.159055</td>\n      <td>0.693147</td>\n      <td>0.000000</td>\n      <td>0.000000</td>\n      <td>0.0</td>\n      <td>0.000000</td>\n      <td>0.0</td>\n      <td>1.386294</td>\n      <td>0.000000</td>\n      <td>0.0</td>\n      <td>...</td>\n      <td>3.433987</td>\n      <td>4.189655</td>\n      <td>3.332205</td>\n      <td>2.944439</td>\n      <td>2.197225</td>\n      <td>3.555348</td>\n      <td>2.397895</td>\n      <td>2.833213</td>\n      <td>0.693147</td>\n      <td>4.043051</td>\n    </tr>\n    <tr>\n      <th>208</th>\n      <td>5.283204</td>\n      <td>0.693147</td>\n      <td>0.000000</td>\n      <td>0.693147</td>\n      <td>0.0</td>\n      <td>0.000000</td>\n      <td>0.0</td>\n      <td>1.609438</td>\n      <td>0.693147</td>\n      <td>0.0</td>\n      <td>...</td>\n      <td>3.555348</td>\n      <td>4.219508</td>\n      <td>3.465736</td>\n      <td>3.135494</td>\n      <td>2.197225</td>\n      <td>3.433987</td>\n      <td>2.397895</td>\n      <td>3.295837</td>\n      <td>1.098612</td>\n      <td>3.988984</td>\n    </tr>\n    <tr>\n      <th>209</th>\n      <td>5.308268</td>\n      <td>0.693147</td>\n      <td>0.000000</td>\n      <td>0.693147</td>\n      <td>0.0</td>\n      <td>0.000000</td>\n      <td>0.0</td>\n      <td>1.609438</td>\n      <td>1.098612</td>\n      <td>0.0</td>\n      <td>...</td>\n      <td>3.367296</td>\n      <td>3.912023</td>\n      <td>3.526361</td>\n      <td>3.178054</td>\n      <td>2.397895</td>\n      <td>3.496508</td>\n      <td>2.708050</td>\n      <td>3.688879</td>\n      <td>1.609438</td>\n      <td>3.737670</td>\n    </tr>\n    <tr>\n      <th>210</th>\n      <td>5.384495</td>\n      <td>0.693147</td>\n      <td>0.000000</td>\n      <td>0.693147</td>\n      <td>0.0</td>\n      <td>0.693147</td>\n      <td>0.0</td>\n      <td>1.609438</td>\n      <td>1.098612</td>\n      <td>0.0</td>\n      <td>...</td>\n      <td>3.465736</td>\n      <td>3.912023</td>\n      <td>3.583519</td>\n      <td>3.178054</td>\n      <td>2.397895</td>\n      <td>3.737670</td>\n      <td>2.772589</td>\n      <td>3.850148</td>\n      <td>1.945910</td>\n      <td>3.258097</td>\n    </tr>\n    <tr>\n      <th>211</th>\n      <td>5.342334</td>\n      <td>0.693147</td>\n      <td>0.000000</td>\n      <td>0.693147</td>\n      <td>0.0</td>\n      <td>0.693147</td>\n      <td>0.0</td>\n      <td>1.386294</td>\n      <td>1.098612</td>\n      <td>0.0</td>\n      <td>...</td>\n      <td>3.555348</td>\n      <td>3.970292</td>\n      <td>3.637586</td>\n      <td>3.401197</td>\n      <td>2.484907</td>\n      <td>3.737670</td>\n      <td>3.091042</td>\n      <td>4.060443</td>\n      <td>1.945910</td>\n      <td>1.098612</td>\n    </tr>\n  </tbody>\n</table>\n<p>212 rows × 398 columns</p>\n</div>"
     },
     "metadata": {},
     "execution_count": 369
    }
   ],
   "source": [
    "# matrix.reset_index(drop=True, inplace=True)\n",
    "matrix"
   ]
  },
  {
   "cell_type": "code",
   "execution_count": 371,
   "metadata": {},
   "outputs": [
    {
     "output_type": "stream",
     "name": "stdout",
     "text": [
      "KeplerMapper(verbose=1)\n"
     ]
    }
   ],
   "source": [
    "# Initialize\n",
    "mapper = km.KeplerMapper(verbose=1)"
   ]
  },
  {
   "cell_type": "code",
   "execution_count": 399,
   "metadata": {},
   "outputs": [],
   "source": [
    "cover = Cover(n_cubes=20, perc_overlap=0.5)\n",
    "scaler = StandardScaler().fit(matrix)\n",
    "projector = PCA(n_components=2)\n",
    "clusterer = AgglomerativeClustering(n_clusters=5, linkage=\"single\", affinity=\"precomputed\").fit(log_dist)"
   ]
  },
  {
   "cell_type": "code",
   "execution_count": 394,
   "metadata": {},
   "outputs": [
    {
     "output_type": "execute_result",
     "data": {
      "text/plain": [
       "permno         12060.0                                                    \\\n",
       "year              1954      1955      1956      1957      1958      1959   \n",
       "permno  year                                                               \n",
       "12060.0 1954  1.000000  0.985041  0.961151  0.925507  0.914745  0.906296   \n",
       "        1955  0.985041  1.000000  0.976318  0.943897  0.932221  0.919487   \n",
       "        1956  0.961151  0.976318  1.000000  0.971619  0.953570  0.940326   \n",
       "        1957  0.925507  0.943897  0.971619  1.000000  0.977532  0.959633   \n",
       "        1958  0.914745  0.932221  0.953570  0.977532  1.000000  0.982725   \n",
       "...                ...       ...       ...       ...       ...       ...   \n",
       "64231.0 2006  0.345160  0.349485  0.358980  0.361531  0.377090  0.396668   \n",
       "        2007  0.343575  0.348420  0.358349  0.363212  0.375240  0.396520   \n",
       "        2008  0.336793  0.339549  0.350290  0.353721  0.362674  0.381529   \n",
       "        2009  0.326613  0.328487  0.341915  0.346471  0.355659  0.374740   \n",
       "        2010  0.325865  0.326587  0.343712  0.351287  0.358547  0.377754   \n",
       "\n",
       "permno                                                ...   64231.0            \\\n",
       "year              1960      1961      1962      1963  ...      2001      2002   \n",
       "permno  year                                          ...                       \n",
       "12060.0 1954  0.892454  0.889724  0.890170  0.869615  ...  0.309941  0.311290   \n",
       "        1955  0.895725  0.894067  0.894136  0.875172  ...  0.311244  0.311855   \n",
       "        1956  0.915859  0.902780  0.897707  0.883034  ...  0.321716  0.320892   \n",
       "        1957  0.935579  0.918262  0.895747  0.884395  ...  0.336163  0.334570   \n",
       "        1958  0.958692  0.940586  0.919532  0.888770  ...  0.347161  0.349553   \n",
       "...                ...       ...       ...       ...  ...       ...       ...   \n",
       "64231.0 2006  0.409529  0.417387  0.432196  0.437986  ...  0.913872  0.928387   \n",
       "        2007  0.407132  0.413747  0.427972  0.434513  ...  0.903865  0.908696   \n",
       "        2008  0.393554  0.398389  0.412909  0.420067  ...  0.895884  0.900148   \n",
       "        2009  0.386839  0.390844  0.403933  0.411270  ...  0.888311  0.891482   \n",
       "        2010  0.389294  0.390158  0.402892  0.411433  ...  0.880787  0.881739   \n",
       "\n",
       "permno                                                                    \\\n",
       "year              2003      2004      2005      2006      2007      2008   \n",
       "permno  year                                                               \n",
       "12060.0 1954  0.325901  0.331546  0.347573  0.345160  0.343575  0.336793   \n",
       "        1955  0.328612  0.335643  0.352081  0.349485  0.348420  0.339549   \n",
       "        1956  0.337981  0.343977  0.359495  0.358980  0.358349  0.350290   \n",
       "        1957  0.350113  0.353469  0.361925  0.361531  0.363212  0.353721   \n",
       "        1958  0.366779  0.371662  0.380273  0.377090  0.375240  0.362674   \n",
       "...                ...       ...       ...       ...       ...       ...   \n",
       "64231.0 2006  0.944621  0.957408  0.986786  1.000000  0.987838  0.976323   \n",
       "        2007  0.923313  0.937387  0.969795  0.987838  1.000000  0.992033   \n",
       "        2008  0.905159  0.919854  0.955258  0.976323  0.992033  1.000000   \n",
       "        2009  0.894229  0.903177  0.941167  0.964847  0.983760  0.993453   \n",
       "        2010  0.883052  0.891308  0.920332  0.945280  0.968172  0.980006   \n",
       "\n",
       "permno                            \n",
       "year              2009      2010  \n",
       "permno  year                      \n",
       "12060.0 1954  0.326613  0.325865  \n",
       "        1955  0.328487  0.326587  \n",
       "        1956  0.341915  0.343712  \n",
       "        1957  0.346471  0.351287  \n",
       "        1958  0.355659  0.358547  \n",
       "...                ...       ...  \n",
       "64231.0 2006  0.964847  0.945280  \n",
       "        2007  0.983760  0.968172  \n",
       "        2008  0.993453  0.980006  \n",
       "        2009  1.000000  0.989528  \n",
       "        2010  0.989528  1.000000  \n",
       "\n",
       "[212 rows x 212 columns]"
      ],
      "text/html": "<div>\n<style scoped>\n    .dataframe tbody tr th:only-of-type {\n        vertical-align: middle;\n    }\n\n    .dataframe tbody tr th {\n        vertical-align: top;\n    }\n\n    .dataframe thead tr th {\n        text-align: left;\n    }\n\n    .dataframe thead tr:last-of-type th {\n        text-align: right;\n    }\n</style>\n<table border=\"1\" class=\"dataframe\">\n  <thead>\n    <tr>\n      <th></th>\n      <th>permno</th>\n      <th colspan=\"10\" halign=\"left\">12060.0</th>\n      <th>...</th>\n      <th colspan=\"10\" halign=\"left\">64231.0</th>\n    </tr>\n    <tr>\n      <th></th>\n      <th>year</th>\n      <th>1954</th>\n      <th>1955</th>\n      <th>1956</th>\n      <th>1957</th>\n      <th>1958</th>\n      <th>1959</th>\n      <th>1960</th>\n      <th>1961</th>\n      <th>1962</th>\n      <th>1963</th>\n      <th>...</th>\n      <th>2001</th>\n      <th>2002</th>\n      <th>2003</th>\n      <th>2004</th>\n      <th>2005</th>\n      <th>2006</th>\n      <th>2007</th>\n      <th>2008</th>\n      <th>2009</th>\n      <th>2010</th>\n    </tr>\n    <tr>\n      <th>permno</th>\n      <th>year</th>\n      <th></th>\n      <th></th>\n      <th></th>\n      <th></th>\n      <th></th>\n      <th></th>\n      <th></th>\n      <th></th>\n      <th></th>\n      <th></th>\n      <th></th>\n      <th></th>\n      <th></th>\n      <th></th>\n      <th></th>\n      <th></th>\n      <th></th>\n      <th></th>\n      <th></th>\n      <th></th>\n      <th></th>\n    </tr>\n  </thead>\n  <tbody>\n    <tr>\n      <th rowspan=\"5\" valign=\"top\">12060.0</th>\n      <th>1954</th>\n      <td>1.000000</td>\n      <td>0.985041</td>\n      <td>0.961151</td>\n      <td>0.925507</td>\n      <td>0.914745</td>\n      <td>0.906296</td>\n      <td>0.892454</td>\n      <td>0.889724</td>\n      <td>0.890170</td>\n      <td>0.869615</td>\n      <td>...</td>\n      <td>0.309941</td>\n      <td>0.311290</td>\n      <td>0.325901</td>\n      <td>0.331546</td>\n      <td>0.347573</td>\n      <td>0.345160</td>\n      <td>0.343575</td>\n      <td>0.336793</td>\n      <td>0.326613</td>\n      <td>0.325865</td>\n    </tr>\n    <tr>\n      <th>1955</th>\n      <td>0.985041</td>\n      <td>1.000000</td>\n      <td>0.976318</td>\n      <td>0.943897</td>\n      <td>0.932221</td>\n      <td>0.919487</td>\n      <td>0.895725</td>\n      <td>0.894067</td>\n      <td>0.894136</td>\n      <td>0.875172</td>\n      <td>...</td>\n      <td>0.311244</td>\n      <td>0.311855</td>\n      <td>0.328612</td>\n      <td>0.335643</td>\n      <td>0.352081</td>\n      <td>0.349485</td>\n      <td>0.348420</td>\n      <td>0.339549</td>\n      <td>0.328487</td>\n      <td>0.326587</td>\n    </tr>\n    <tr>\n      <th>1956</th>\n      <td>0.961151</td>\n      <td>0.976318</td>\n      <td>1.000000</td>\n      <td>0.971619</td>\n      <td>0.953570</td>\n      <td>0.940326</td>\n      <td>0.915859</td>\n      <td>0.902780</td>\n      <td>0.897707</td>\n      <td>0.883034</td>\n      <td>...</td>\n      <td>0.321716</td>\n      <td>0.320892</td>\n      <td>0.337981</td>\n      <td>0.343977</td>\n      <td>0.359495</td>\n      <td>0.358980</td>\n      <td>0.358349</td>\n      <td>0.350290</td>\n      <td>0.341915</td>\n      <td>0.343712</td>\n    </tr>\n    <tr>\n      <th>1957</th>\n      <td>0.925507</td>\n      <td>0.943897</td>\n      <td>0.971619</td>\n      <td>1.000000</td>\n      <td>0.977532</td>\n      <td>0.959633</td>\n      <td>0.935579</td>\n      <td>0.918262</td>\n      <td>0.895747</td>\n      <td>0.884395</td>\n      <td>...</td>\n      <td>0.336163</td>\n      <td>0.334570</td>\n      <td>0.350113</td>\n      <td>0.353469</td>\n      <td>0.361925</td>\n      <td>0.361531</td>\n      <td>0.363212</td>\n      <td>0.353721</td>\n      <td>0.346471</td>\n      <td>0.351287</td>\n    </tr>\n    <tr>\n      <th>1958</th>\n      <td>0.914745</td>\n      <td>0.932221</td>\n      <td>0.953570</td>\n      <td>0.977532</td>\n      <td>1.000000</td>\n      <td>0.982725</td>\n      <td>0.958692</td>\n      <td>0.940586</td>\n      <td>0.919532</td>\n      <td>0.888770</td>\n      <td>...</td>\n      <td>0.347161</td>\n      <td>0.349553</td>\n      <td>0.366779</td>\n      <td>0.371662</td>\n      <td>0.380273</td>\n      <td>0.377090</td>\n      <td>0.375240</td>\n      <td>0.362674</td>\n      <td>0.355659</td>\n      <td>0.358547</td>\n    </tr>\n    <tr>\n      <th>...</th>\n      <th>...</th>\n      <td>...</td>\n      <td>...</td>\n      <td>...</td>\n      <td>...</td>\n      <td>...</td>\n      <td>...</td>\n      <td>...</td>\n      <td>...</td>\n      <td>...</td>\n      <td>...</td>\n      <td>...</td>\n      <td>...</td>\n      <td>...</td>\n      <td>...</td>\n      <td>...</td>\n      <td>...</td>\n      <td>...</td>\n      <td>...</td>\n      <td>...</td>\n      <td>...</td>\n      <td>...</td>\n    </tr>\n    <tr>\n      <th rowspan=\"5\" valign=\"top\">64231.0</th>\n      <th>2006</th>\n      <td>0.345160</td>\n      <td>0.349485</td>\n      <td>0.358980</td>\n      <td>0.361531</td>\n      <td>0.377090</td>\n      <td>0.396668</td>\n      <td>0.409529</td>\n      <td>0.417387</td>\n      <td>0.432196</td>\n      <td>0.437986</td>\n      <td>...</td>\n      <td>0.913872</td>\n      <td>0.928387</td>\n      <td>0.944621</td>\n      <td>0.957408</td>\n      <td>0.986786</td>\n      <td>1.000000</td>\n      <td>0.987838</td>\n      <td>0.976323</td>\n      <td>0.964847</td>\n      <td>0.945280</td>\n    </tr>\n    <tr>\n      <th>2007</th>\n      <td>0.343575</td>\n      <td>0.348420</td>\n      <td>0.358349</td>\n      <td>0.363212</td>\n      <td>0.375240</td>\n      <td>0.396520</td>\n      <td>0.407132</td>\n      <td>0.413747</td>\n      <td>0.427972</td>\n      <td>0.434513</td>\n      <td>...</td>\n      <td>0.903865</td>\n      <td>0.908696</td>\n      <td>0.923313</td>\n      <td>0.937387</td>\n      <td>0.969795</td>\n      <td>0.987838</td>\n      <td>1.000000</td>\n      <td>0.992033</td>\n      <td>0.983760</td>\n      <td>0.968172</td>\n    </tr>\n    <tr>\n      <th>2008</th>\n      <td>0.336793</td>\n      <td>0.339549</td>\n      <td>0.350290</td>\n      <td>0.353721</td>\n      <td>0.362674</td>\n      <td>0.381529</td>\n      <td>0.393554</td>\n      <td>0.398389</td>\n      <td>0.412909</td>\n      <td>0.420067</td>\n      <td>...</td>\n      <td>0.895884</td>\n      <td>0.900148</td>\n      <td>0.905159</td>\n      <td>0.919854</td>\n      <td>0.955258</td>\n      <td>0.976323</td>\n      <td>0.992033</td>\n      <td>1.000000</td>\n      <td>0.993453</td>\n      <td>0.980006</td>\n    </tr>\n    <tr>\n      <th>2009</th>\n      <td>0.326613</td>\n      <td>0.328487</td>\n      <td>0.341915</td>\n      <td>0.346471</td>\n      <td>0.355659</td>\n      <td>0.374740</td>\n      <td>0.386839</td>\n      <td>0.390844</td>\n      <td>0.403933</td>\n      <td>0.411270</td>\n      <td>...</td>\n      <td>0.888311</td>\n      <td>0.891482</td>\n      <td>0.894229</td>\n      <td>0.903177</td>\n      <td>0.941167</td>\n      <td>0.964847</td>\n      <td>0.983760</td>\n      <td>0.993453</td>\n      <td>1.000000</td>\n      <td>0.989528</td>\n    </tr>\n    <tr>\n      <th>2010</th>\n      <td>0.325865</td>\n      <td>0.326587</td>\n      <td>0.343712</td>\n      <td>0.351287</td>\n      <td>0.358547</td>\n      <td>0.377754</td>\n      <td>0.389294</td>\n      <td>0.390158</td>\n      <td>0.402892</td>\n      <td>0.411433</td>\n      <td>...</td>\n      <td>0.880787</td>\n      <td>0.881739</td>\n      <td>0.883052</td>\n      <td>0.891308</td>\n      <td>0.920332</td>\n      <td>0.945280</td>\n      <td>0.968172</td>\n      <td>0.980006</td>\n      <td>0.989528</td>\n      <td>1.000000</td>\n    </tr>\n  </tbody>\n</table>\n<p>212 rows × 212 columns</p>\n</div>"
     },
     "metadata": {},
     "execution_count": 394
    }
   ],
   "source": [
    "log_dist"
   ]
  },
  {
   "cell_type": "code",
   "execution_count": 407,
   "metadata": {},
   "outputs": [
    {
     "output_type": "stream",
     "name": "stdout",
     "text": [
      "..Composing projection pipeline of length 1:\n\tProjections: PCA(n_components=2)\n\tDistance matrices: False\n\tScalers: StandardScaler()\n..Projecting on data shaped (212, 398)\n\n..Projecting data using: \n\tPCA(n_components=2)\n\n\n..Scaling with: StandardScaler()\n\n"
     ]
    }
   ],
   "source": [
    "proj_matrix = mapper.fit_transform(X=matrix, projection=PCA(n_components=2), scaler=StandardScaler()) #, distance_matrix=log_dist)"
   ]
  },
  {
   "cell_type": "code",
   "execution_count": 409,
   "metadata": {},
   "outputs": [
    {
     "output_type": "stream",
     "name": "stdout",
     "text": [
      "Mapping on data shaped (212, 398) using lens shaped (212, 2)\n\nCreating 400 hypercubes.\n\nCreated 406 edges and 320 nodes in 0:00:00.139937.\n"
     ]
    }
   ],
   "source": [
    "# Create dictionary called 'graph' with nodes, edges and meta-information\n",
    "graph = mapper.map(lens=proj_matrix, X=matrix, cover=Cover(n_cubes=20, perc_overlap=0.5), clusterer=AgglomerativeClustering(n_clusters=5, linkage=\"single\"))"
   ]
  },
  {
   "cell_type": "code",
   "execution_count": 410,
   "metadata": {},
   "outputs": [
    {
     "output_type": "stream",
     "name": "stdout",
     "text": [
      "Wrote visualization to: ../docs/mapper.html\n"
     ]
    }
   ],
   "source": [
    "# Visualize it\n",
    "html = mapper.visualize(graph, path_html=\"../docs/mapper.html\", title=\"Mapper Clustering Algorithm\")\n",
    "\n",
    "# Inline display\n",
    "# jupyter.display(path_html=\"../docs/MapperCluster.html\")"
   ]
  }
 ],
 "metadata": {
  "kernelspec": {
   "name": "python3",
   "display_name": "Python 3",
   "language": "python"
  },
  "language_info": {
   "codemirror_mode": {
    "name": "ipython",
    "version": 3
   },
   "file_extension": ".py",
   "mimetype": "text/x-python",
   "name": "python",
   "nbconvert_exporter": "python",
   "pygments_lexer": "ipython3",
   "version": "3.9.1"
  },
  "orig_nbformat": 2
 },
 "nbformat": 4,
 "nbformat_minor": 2
}